{
 "cells": [
  {
   "cell_type": "markdown",
   "id": "c6ddd11f",
   "metadata": {},
   "source": [
    "TASK:"
   ]
  },
  {
   "cell_type": "markdown",
   "id": "82460321",
   "metadata": {},
   "source": [
    "Create NN with Keras to classify goods from dataset: https://www.tensorflow.org/datasets/catalog/fashion_mnist"
   ]
  },
  {
   "cell_type": "markdown",
   "id": "f237f178",
   "metadata": {},
   "source": [
    "Proposed NN initial architecture: - \n",
    "- # layers (in, den1, den2, out)\n",
    "- activation func (Hidden: ReLU, Leaky ReLU, Parametric ReLU, ELU; Output: Softmax)\n",
    "- # epoch (50 - 600)\n",
    "- # neurons in layer (784, 128, 256, 10)\n",
    "- batch size (32, 72)\n",
    "- optimizer (SGD,  Adam)\n",
    "- initial learning rate (0.025)\n",
    "- validation rate in training data (40%)\n",
    "Requirement of accuracy: >=0.91"
   ]
  },
  {
   "cell_type": "markdown",
   "id": "9be7a504",
   "metadata": {},
   "source": [
    "# MODEL Adam_b32_ep100_class"
   ]
  },
  {
   "cell_type": "code",
   "execution_count": 49,
   "id": "9a9327ad",
   "metadata": {},
   "outputs": [],
   "source": [
    "from tensorflow import keras"
   ]
  },
  {
   "cell_type": "code",
   "execution_count": 50,
   "id": "f1ee1415",
   "metadata": {},
   "outputs": [],
   "source": [
    "import tensorflow as tf\n",
    "import numpy as np\n",
    "import matplotlib.pyplot as plt"
   ]
  },
  {
   "cell_type": "code",
   "execution_count": 51,
   "id": "8a83b1d5",
   "metadata": {},
   "outputs": [],
   "source": [
    "(x_train, y_train), (x_test, y_test) = keras.datasets.fashion_mnist.load_data()\n",
    "assert x_train.shape == (60000, 28, 28)\n",
    "assert x_test.shape == (10000, 28, 28)\n",
    "assert y_train.shape == (60000,)\n",
    "assert y_test.shape == (10000,)\n",
    "\n",
    "\n",
    "#Extract all shirt indices -- to BALANCE -- shirt\n",
    "indices_shirt = [i for i, x in enumerate(y_train) if x == 6]\n",
    "x_train_list = x_train.tolist()\n",
    "x_train_shirt = []\n",
    "y_train_shirt = []\n",
    "for index in range(0, len(x_train)):\n",
    "    if index in indices_shirt:\n",
    "        x_train_shirt.append(x_train_list[index])\n",
    "        \n",
    "for i in range(len(x_train_shirt)):\n",
    "    y_train_shirt.append(6)\n",
    "\n",
    "x_train_shirt = np.array(x_train_shirt)\n",
    "y_train_shirt = np.array(y_train_shirt)\n",
    "\n",
    "x_train = np.concatenate((x_train, x_train_shirt))\n",
    "y_train = np.concatenate((y_train, y_train_shirt))\n",
    "\n"
   ]
  },
  {
   "cell_type": "code",
   "execution_count": 52,
   "id": "784cc0f7",
   "metadata": {},
   "outputs": [],
   "source": [
    "# Initial data\n",
    "num_classes = 10 # total class number\n",
    "num_features = 784 # input layer vector 28 * 28 = 784\n",
    "\n",
    "learning_rate = 0.025 # \n",
    "training_steps = 100 # number of epoch\n",
    "batch_size = 32 # пересчитывать веса сети мы будем не на всей выборке, а на ее случайном подможестве из batch_size элементов\n",
    "\n",
    "n_hidden_1 = 128 # количество нейронов 1-го слоя\n",
    "n_hidden_2 = 256 # количество нейронов 2-го слоя\n",
    "n_hidden_3 = 256 # количество нейронов 3-го слоя\n",
    "n_hidden_4 = 256 # количество нейронов 4-го слоя"
   ]
  },
  {
   "cell_type": "code",
   "execution_count": 53,
   "id": "f5d03990",
   "metadata": {},
   "outputs": [],
   "source": [
    "import numpy as np\n",
    "import tensorflow as tf\n",
    "from tensorflow.keras.models import Sequential\n",
    "from tensorflow.keras.layers import Dense, Dropout\n",
    "from sklearn.metrics import classification_report\n",
    "from sklearn.model_selection import train_test_split\n",
    "from sklearn.preprocessing import LabelEncoder\n",
    "from sklearn.utils import class_weight\n",
    "import pandas as pd\n",
    "from copy import deepcopy"
   ]
  },
  {
   "cell_type": "code",
   "execution_count": 54,
   "id": "b1a71adb",
   "metadata": {},
   "outputs": [
    {
     "name": "stdout",
     "output_type": "stream",
     "text": [
      "{0: 1, 1: 1, 2: 1, 3: 1, 4: 1, 5: 1, 6: 0.5, 7: 1, 8: 1, 9: 1}\n"
     ]
    }
   ],
   "source": [
    "### Преобразуем целочисленные пиксели к типа float32\n",
    "x_train, x_test = np.array(x_train, np.float32), np.array(x_test, np.float32)\n",
    "\n",
    "# Преобразуем матрицы размером 28x28 пикселей в вектор из 784 элементов\n",
    "x_train, x_test = x_train.reshape([-1, num_features]), x_test.reshape([-1, num_features])\n",
    "\n",
    "# Нормализуем значения пикселей\n",
    "x_train, x_test = x_train / 255., x_test / 255.\n",
    "\n",
    "# One-hot encode target variable if it is a multiclass problem\n",
    "encoder = LabelEncoder()\n",
    "y_train_encoded = encoder.fit_transform(y_train)\n",
    "y_test_encoded = encoder.transform(y_test)\n",
    "\n",
    "# Convert labels to one-hot encoded format\n",
    "y_train = tf.keras.utils.to_categorical(y_train, num_classes)\n",
    "y_test = tf.keras.utils.to_categorical(y_test, num_classes)\n",
    "\n",
    "# Перемешаем тренировочные данные\n",
    "train_data = tf.data.Dataset.from_tensor_slices((x_train, y_train))\n",
    "train_data = train_data.repeat().shuffle(5000).batch(batch_size).prefetch(10)\n",
    "\n",
    "#Set up class names\n",
    "class_names = ['T-shirt/top', 'Trouser', 'Pullover', 'Dress', 'Coat',\n",
    "               'Sandal', 'Shirt', 'Sneaker', 'Bag', 'Ankle boot']\n",
    "\n",
    "# Calculate class weights\n",
    "# class_weights = class_weight.compute_class_weight(class_weight = 'balanced', classes = np.unique(y_train_encoded), y = y_train_encoded)\n",
    "\n",
    "# print(class_weights)\n",
    "\n",
    "# #class_weights_dict = dict(enumerate(class_weights))\n",
    "class_weights_dict = {0: 1, 1: 1, 2: 0.8, 3: 1, 4: 0.8, 5: 1, 6: 0.5, 7: 1, 8: 1, 9: 1}\n",
    "print(class_weights_dict)\n",
    "\n"
   ]
  },
  {
   "cell_type": "code",
   "execution_count": 55,
   "id": "c05662c2",
   "metadata": {},
   "outputs": [],
   "source": [
    "model = Sequential([\n",
    "    Dense(n_hidden_1, activation='relu', input_shape=(784,)),\n",
    "    Dropout(0.2),  \n",
    "    Dense(n_hidden_2, activation='relu'),\n",
    "    \n",
    "    Dense(n_hidden_3, activation='relu'),\n",
    "   \n",
    "    Dense(n_hidden_4, activation='relu'),\n",
    "    Dense(10, activation='softmax'),\n",
    "])"
   ]
  },
  {
   "cell_type": "code",
   "execution_count": 56,
   "id": "58f2707b",
   "metadata": {},
   "outputs": [],
   "source": [
    "model.compile(\n",
    "    optimizer='Adam',\n",
    "    loss='categorical_crossentropy',\n",
    "    metrics=['accuracy']\n",
    ")"
   ]
  },
  {
   "cell_type": "code",
   "execution_count": 57,
   "id": "706b60d7",
   "metadata": {},
   "outputs": [],
   "source": [
    "x_val = x_train[:20000]\n",
    "partial_x_train = x_train[20000:]\n",
    "\n",
    "y_val = y_train[:20000]\n",
    "partial_y_train = y_train[20000:]"
   ]
  },
  {
   "cell_type": "code",
   "execution_count": 58,
   "id": "0a4e5939",
   "metadata": {},
   "outputs": [
    {
     "name": "stdout",
     "output_type": "stream",
     "text": [
      "Epoch 1/100\n",
      "1438/1438 [==============================] - 11s 7ms/step - loss: 0.5159 - accuracy: 0.7550 - val_loss: 0.4575 - val_accuracy: 0.8327\n",
      "Epoch 2/100\n",
      "1438/1438 [==============================] - 9s 7ms/step - loss: 0.3942 - accuracy: 0.8134 - val_loss: 0.3855 - val_accuracy: 0.8563\n",
      "Epoch 3/100\n",
      "1438/1438 [==============================] - 9s 7ms/step - loss: 0.3595 - accuracy: 0.8304 - val_loss: 0.3907 - val_accuracy: 0.8539\n",
      "Epoch 4/100\n",
      "1438/1438 [==============================] - 9s 6ms/step - loss: 0.3378 - accuracy: 0.8397 - val_loss: 0.3416 - val_accuracy: 0.8762\n",
      "Epoch 5/100\n",
      "1438/1438 [==============================] - 9s 7ms/step - loss: 0.3250 - accuracy: 0.8451 - val_loss: 0.3493 - val_accuracy: 0.8686\n",
      "Epoch 6/100\n",
      "1438/1438 [==============================] - 9s 7ms/step - loss: 0.3123 - accuracy: 0.8496 - val_loss: 0.3399 - val_accuracy: 0.8758\n",
      "Epoch 7/100\n",
      "1438/1438 [==============================] - 9s 7ms/step - loss: 0.3023 - accuracy: 0.8530 - val_loss: 0.3280 - val_accuracy: 0.8784\n",
      "Epoch 8/100\n",
      "1438/1438 [==============================] - 9s 7ms/step - loss: 0.2941 - accuracy: 0.8576 - val_loss: 0.3312 - val_accuracy: 0.8772\n",
      "Epoch 9/100\n",
      "1438/1438 [==============================] - 10s 7ms/step - loss: 0.2850 - accuracy: 0.8635 - val_loss: 0.3450 - val_accuracy: 0.8817\n",
      "Epoch 10/100\n",
      "1438/1438 [==============================] - 10s 7ms/step - loss: 0.2800 - accuracy: 0.8664 - val_loss: 0.3245 - val_accuracy: 0.8814\n",
      "Epoch 11/100\n",
      "1438/1438 [==============================] - 10s 7ms/step - loss: 0.2704 - accuracy: 0.8670 - val_loss: 0.3092 - val_accuracy: 0.8873\n",
      "Epoch 12/100\n",
      "1438/1438 [==============================] - 10s 7ms/step - loss: 0.2663 - accuracy: 0.8704 - val_loss: 0.3288 - val_accuracy: 0.8810\n",
      "Epoch 13/100\n",
      "1438/1438 [==============================] - 10s 7ms/step - loss: 0.2649 - accuracy: 0.8725 - val_loss: 0.3290 - val_accuracy: 0.8828\n",
      "Epoch 14/100\n",
      "1438/1438 [==============================] - 10s 7ms/step - loss: 0.2557 - accuracy: 0.8736 - val_loss: 0.3132 - val_accuracy: 0.8882\n",
      "Epoch 15/100\n",
      "1438/1438 [==============================] - 10s 7ms/step - loss: 0.2498 - accuracy: 0.8790 - val_loss: 0.3234 - val_accuracy: 0.8850\n",
      "Epoch 16/100\n",
      "1438/1438 [==============================] - 10s 7ms/step - loss: 0.2485 - accuracy: 0.8779 - val_loss: 0.3162 - val_accuracy: 0.8916\n",
      "Epoch 17/100\n",
      "1438/1438 [==============================] - 10s 7ms/step - loss: 0.2449 - accuracy: 0.8800 - val_loss: 0.3285 - val_accuracy: 0.8860\n",
      "Epoch 18/100\n",
      "1438/1438 [==============================] - 10s 7ms/step - loss: 0.2424 - accuracy: 0.8825 - val_loss: 0.3194 - val_accuracy: 0.8897\n",
      "Epoch 19/100\n",
      "1438/1438 [==============================] - 10s 7ms/step - loss: 0.2350 - accuracy: 0.8836 - val_loss: 0.3021 - val_accuracy: 0.8931\n",
      "Epoch 20/100\n",
      "1438/1438 [==============================] - 10s 7ms/step - loss: 0.2337 - accuracy: 0.8857 - val_loss: 0.3132 - val_accuracy: 0.8884\n",
      "Epoch 21/100\n",
      "1438/1438 [==============================] - 10s 7ms/step - loss: 0.2309 - accuracy: 0.8873 - val_loss: 0.3214 - val_accuracy: 0.8888\n",
      "Epoch 22/100\n",
      "1438/1438 [==============================] - 10s 7ms/step - loss: 0.2272 - accuracy: 0.8872 - val_loss: 0.3129 - val_accuracy: 0.8912\n",
      "Epoch 23/100\n",
      "1438/1438 [==============================] - 10s 7ms/step - loss: 0.2241 - accuracy: 0.8914 - val_loss: 0.3254 - val_accuracy: 0.8922\n",
      "Epoch 24/100\n",
      "1438/1438 [==============================] - 10s 7ms/step - loss: 0.2231 - accuracy: 0.8912 - val_loss: 0.3129 - val_accuracy: 0.8903\n",
      "Epoch 25/100\n",
      "1438/1438 [==============================] - 10s 7ms/step - loss: 0.2200 - accuracy: 0.8919 - val_loss: 0.3148 - val_accuracy: 0.8897\n",
      "Epoch 26/100\n",
      "1438/1438 [==============================] - 10s 7ms/step - loss: 0.2133 - accuracy: 0.8934 - val_loss: 0.3131 - val_accuracy: 0.8938\n",
      "Epoch 27/100\n",
      "1438/1438 [==============================] - 10s 7ms/step - loss: 0.2160 - accuracy: 0.8937 - val_loss: 0.3130 - val_accuracy: 0.8952\n",
      "Epoch 28/100\n",
      "1438/1438 [==============================] - 10s 7ms/step - loss: 0.2122 - accuracy: 0.8976 - val_loss: 0.3048 - val_accuracy: 0.8947\n",
      "Epoch 29/100\n",
      "1438/1438 [==============================] - 10s 7ms/step - loss: 0.2068 - accuracy: 0.8987 - val_loss: 0.3063 - val_accuracy: 0.8962\n",
      "Epoch 30/100\n",
      "1438/1438 [==============================] - 10s 7ms/step - loss: 0.2091 - accuracy: 0.8971 - val_loss: 0.3111 - val_accuracy: 0.8926\n",
      "Epoch 31/100\n",
      "1438/1438 [==============================] - 10s 7ms/step - loss: 0.2070 - accuracy: 0.8985 - val_loss: 0.3160 - val_accuracy: 0.8967\n",
      "Epoch 32/100\n",
      "1438/1438 [==============================] - 10s 7ms/step - loss: 0.2045 - accuracy: 0.8996 - val_loss: 0.3453 - val_accuracy: 0.8925\n",
      "Epoch 33/100\n",
      "1438/1438 [==============================] - 10s 7ms/step - loss: 0.2088 - accuracy: 0.9001 - val_loss: 0.2985 - val_accuracy: 0.8953\n",
      "Epoch 34/100\n",
      "1438/1438 [==============================] - 10s 7ms/step - loss: 0.1983 - accuracy: 0.9033 - val_loss: 0.3124 - val_accuracy: 0.8954\n",
      "Epoch 35/100\n",
      "1438/1438 [==============================] - 10s 7ms/step - loss: 0.1990 - accuracy: 0.9032 - val_loss: 0.3046 - val_accuracy: 0.8961\n",
      "Epoch 36/100\n",
      "1438/1438 [==============================] - 10s 7ms/step - loss: 0.1977 - accuracy: 0.9029 - val_loss: 0.3339 - val_accuracy: 0.8957\n",
      "Epoch 37/100\n",
      "1438/1438 [==============================] - 10s 7ms/step - loss: 0.1968 - accuracy: 0.9038 - val_loss: 0.3227 - val_accuracy: 0.8983\n",
      "Epoch 38/100\n",
      "1438/1438 [==============================] - 10s 7ms/step - loss: 0.1956 - accuracy: 0.9032 - val_loss: 0.3294 - val_accuracy: 0.8996\n",
      "Epoch 39/100\n",
      "1438/1438 [==============================] - 10s 7ms/step - loss: 0.1958 - accuracy: 0.9052 - val_loss: 0.3201 - val_accuracy: 0.8988\n",
      "Epoch 40/100\n",
      "1438/1438 [==============================] - 10s 7ms/step - loss: 0.1889 - accuracy: 0.9082 - val_loss: 0.3213 - val_accuracy: 0.8985\n",
      "Epoch 41/100\n",
      "1438/1438 [==============================] - 10s 7ms/step - loss: 0.1861 - accuracy: 0.9081 - val_loss: 0.3507 - val_accuracy: 0.8917\n",
      "Epoch 42/100\n",
      "1438/1438 [==============================] - 10s 7ms/step - loss: 0.1896 - accuracy: 0.9058 - val_loss: 0.3089 - val_accuracy: 0.8972\n",
      "Epoch 43/100\n",
      "1438/1438 [==============================] - 10s 7ms/step - loss: 0.1870 - accuracy: 0.9077 - val_loss: 0.3079 - val_accuracy: 0.9000\n",
      "Epoch 44/100\n",
      "1438/1438 [==============================] - 10s 7ms/step - loss: 0.1856 - accuracy: 0.9087 - val_loss: 0.3129 - val_accuracy: 0.8971\n",
      "Epoch 45/100\n",
      "1438/1438 [==============================] - 10s 7ms/step - loss: 0.1851 - accuracy: 0.9104 - val_loss: 0.3167 - val_accuracy: 0.8995\n",
      "Epoch 46/100\n",
      "1438/1438 [==============================] - 10s 7ms/step - loss: 0.1851 - accuracy: 0.9096 - val_loss: 0.3249 - val_accuracy: 0.8965\n",
      "Epoch 47/100\n",
      "1438/1438 [==============================] - 10s 7ms/step - loss: 0.1777 - accuracy: 0.9120 - val_loss: 0.3579 - val_accuracy: 0.8958\n",
      "Epoch 48/100\n",
      "1438/1438 [==============================] - 10s 7ms/step - loss: 0.1823 - accuracy: 0.9128 - val_loss: 0.3194 - val_accuracy: 0.9032\n",
      "Epoch 49/100\n",
      "1438/1438 [==============================] - 10s 7ms/step - loss: 0.1788 - accuracy: 0.9140 - val_loss: 0.3386 - val_accuracy: 0.9004\n",
      "Epoch 50/100\n",
      "1438/1438 [==============================] - 10s 7ms/step - loss: 0.1764 - accuracy: 0.9136 - val_loss: 0.3289 - val_accuracy: 0.9018\n",
      "Epoch 51/100\n",
      "1438/1438 [==============================] - 10s 7ms/step - loss: 0.1780 - accuracy: 0.9133 - val_loss: 0.3667 - val_accuracy: 0.8921\n",
      "Epoch 52/100\n",
      "1438/1438 [==============================] - 10s 7ms/step - loss: 0.1775 - accuracy: 0.9131 - val_loss: 0.3474 - val_accuracy: 0.8981\n",
      "Epoch 53/100\n",
      "1438/1438 [==============================] - 10s 7ms/step - loss: 0.1767 - accuracy: 0.9136 - val_loss: 0.3244 - val_accuracy: 0.9032\n",
      "Epoch 54/100\n",
      "1438/1438 [==============================] - 10s 7ms/step - loss: 0.1679 - accuracy: 0.9184 - val_loss: 0.3372 - val_accuracy: 0.8990\n",
      "Epoch 55/100\n",
      "1438/1438 [==============================] - 10s 7ms/step - loss: 0.1811 - accuracy: 0.9131 - val_loss: 0.3214 - val_accuracy: 0.8962\n",
      "Epoch 56/100\n",
      "1438/1438 [==============================] - 10s 7ms/step - loss: 0.1707 - accuracy: 0.9157 - val_loss: 0.3374 - val_accuracy: 0.8997\n"
     ]
    },
    {
     "name": "stdout",
     "output_type": "stream",
     "text": [
      "Epoch 57/100\n",
      "1438/1438 [==============================] - 10s 7ms/step - loss: 0.1748 - accuracy: 0.9150 - val_loss: 0.3296 - val_accuracy: 0.8954\n",
      "Epoch 58/100\n",
      "1438/1438 [==============================] - 9s 7ms/step - loss: 0.1729 - accuracy: 0.9163 - val_loss: 0.3302 - val_accuracy: 0.9014\n",
      "Epoch 59/100\n",
      "1438/1438 [==============================] - 10s 7ms/step - loss: 0.1716 - accuracy: 0.9168 - val_loss: 0.3260 - val_accuracy: 0.8996\n",
      "Epoch 60/100\n",
      "1438/1438 [==============================] - 10s 7ms/step - loss: 0.1659 - accuracy: 0.9196 - val_loss: 0.3342 - val_accuracy: 0.9017\n",
      "Epoch 61/100\n",
      "1438/1438 [==============================] - 10s 7ms/step - loss: 0.1668 - accuracy: 0.9186 - val_loss: 0.3294 - val_accuracy: 0.8957\n",
      "Epoch 62/100\n",
      "1438/1438 [==============================] - 10s 7ms/step - loss: 0.1664 - accuracy: 0.9187 - val_loss: 0.3191 - val_accuracy: 0.9037\n",
      "Epoch 63/100\n",
      "1438/1438 [==============================] - 10s 7ms/step - loss: 0.1614 - accuracy: 0.9199 - val_loss: 0.3112 - val_accuracy: 0.9039\n",
      "Epoch 64/100\n",
      "1438/1438 [==============================] - 10s 7ms/step - loss: 0.1673 - accuracy: 0.9204 - val_loss: 0.3266 - val_accuracy: 0.9032\n",
      "Epoch 65/100\n",
      "1438/1438 [==============================] - 10s 7ms/step - loss: 0.1610 - accuracy: 0.9226 - val_loss: 0.3419 - val_accuracy: 0.9046\n",
      "Epoch 66/100\n",
      "1438/1438 [==============================] - 10s 7ms/step - loss: 0.1642 - accuracy: 0.9209 - val_loss: 0.3371 - val_accuracy: 0.9010\n",
      "Epoch 67/100\n",
      "1438/1438 [==============================] - 10s 7ms/step - loss: 0.1631 - accuracy: 0.9205 - val_loss: 0.3429 - val_accuracy: 0.8968\n",
      "Epoch 68/100\n",
      "1438/1438 [==============================] - 10s 7ms/step - loss: 0.1686 - accuracy: 0.9203 - val_loss: 0.3217 - val_accuracy: 0.9042\n",
      "Epoch 69/100\n",
      "1438/1438 [==============================] - 10s 7ms/step - loss: 0.1556 - accuracy: 0.9240 - val_loss: 0.3366 - val_accuracy: 0.9045\n",
      "Epoch 70/100\n",
      "1438/1438 [==============================] - 10s 7ms/step - loss: 0.1588 - accuracy: 0.9231 - val_loss: 0.3346 - val_accuracy: 0.9074\n",
      "Epoch 71/100\n",
      "1438/1438 [==============================] - 10s 7ms/step - loss: 0.1791 - accuracy: 0.9152 - val_loss: 0.3240 - val_accuracy: 0.9035\n",
      "Epoch 72/100\n",
      "1438/1438 [==============================] - 10s 7ms/step - loss: 0.1592 - accuracy: 0.9223 - val_loss: 0.3595 - val_accuracy: 0.8981\n",
      "Epoch 73/100\n",
      "1438/1438 [==============================] - 10s 7ms/step - loss: 0.1602 - accuracy: 0.9235 - val_loss: 0.3602 - val_accuracy: 0.8969\n",
      "Epoch 74/100\n",
      "1438/1438 [==============================] - 10s 7ms/step - loss: 0.1538 - accuracy: 0.9264 - val_loss: 0.3356 - val_accuracy: 0.9035\n",
      "Epoch 75/100\n",
      "1438/1438 [==============================] - 10s 7ms/step - loss: 0.1577 - accuracy: 0.9231 - val_loss: 0.3339 - val_accuracy: 0.8988\n",
      "Epoch 76/100\n",
      "1438/1438 [==============================] - 10s 7ms/step - loss: 0.1577 - accuracy: 0.9238 - val_loss: 0.3454 - val_accuracy: 0.9011\n",
      "Epoch 77/100\n",
      "1438/1438 [==============================] - 10s 7ms/step - loss: 0.1553 - accuracy: 0.9243 - val_loss: 0.3324 - val_accuracy: 0.9014\n",
      "Epoch 78/100\n",
      "1438/1438 [==============================] - 10s 7ms/step - loss: 0.1540 - accuracy: 0.9256 - val_loss: 0.3539 - val_accuracy: 0.9008\n",
      "Epoch 79/100\n",
      "1438/1438 [==============================] - 10s 7ms/step - loss: 0.1520 - accuracy: 0.9270 - val_loss: 0.3472 - val_accuracy: 0.8998\n",
      "Epoch 80/100\n",
      "1438/1438 [==============================] - 10s 7ms/step - loss: 0.1481 - accuracy: 0.9273 - val_loss: 0.3373 - val_accuracy: 0.9047\n",
      "Epoch 81/100\n",
      "1438/1438 [==============================] - 10s 7ms/step - loss: 0.1564 - accuracy: 0.9245 - val_loss: 0.3485 - val_accuracy: 0.9010\n",
      "Epoch 82/100\n",
      "1438/1438 [==============================] - 10s 7ms/step - loss: 0.1508 - accuracy: 0.9291 - val_loss: 0.3392 - val_accuracy: 0.8995\n",
      "Epoch 83/100\n",
      "1438/1438 [==============================] - 10s 7ms/step - loss: 0.1488 - accuracy: 0.9292 - val_loss: 0.3423 - val_accuracy: 0.9036\n",
      "Epoch 84/100\n",
      "1438/1438 [==============================] - 10s 7ms/step - loss: 0.1477 - accuracy: 0.9288 - val_loss: 0.3980 - val_accuracy: 0.9033\n",
      "Epoch 85/100\n",
      "1438/1438 [==============================] - 10s 7ms/step - loss: 0.1521 - accuracy: 0.9280 - val_loss: 0.3356 - val_accuracy: 0.9036\n",
      "Epoch 86/100\n",
      "1438/1438 [==============================] - 10s 7ms/step - loss: 0.1448 - accuracy: 0.9297 - val_loss: 0.3386 - val_accuracy: 0.9065\n",
      "Epoch 87/100\n",
      "1438/1438 [==============================] - 10s 7ms/step - loss: 0.1471 - accuracy: 0.9290 - val_loss: 0.3693 - val_accuracy: 0.9014\n",
      "Epoch 88/100\n",
      "1438/1438 [==============================] - 10s 7ms/step - loss: 0.1483 - accuracy: 0.9297 - val_loss: 0.3841 - val_accuracy: 0.9047\n",
      "Epoch 89/100\n",
      "1438/1438 [==============================] - 10s 7ms/step - loss: 0.1488 - accuracy: 0.9289 - val_loss: 0.3453 - val_accuracy: 0.9059\n",
      "Epoch 90/100\n",
      "1438/1438 [==============================] - 10s 7ms/step - loss: 0.1445 - accuracy: 0.9298 - val_loss: 0.3365 - val_accuracy: 0.9031\n",
      "Epoch 91/100\n",
      "1438/1438 [==============================] - 10s 7ms/step - loss: 0.1454 - accuracy: 0.9302 - val_loss: 0.3538 - val_accuracy: 0.9018\n",
      "Epoch 92/100\n",
      "1438/1438 [==============================] - 10s 7ms/step - loss: 0.1494 - accuracy: 0.9290 - val_loss: 0.3277 - val_accuracy: 0.9050\n",
      "Epoch 93/100\n",
      "1438/1438 [==============================] - 10s 7ms/step - loss: 0.1446 - accuracy: 0.9298 - val_loss: 0.3516 - val_accuracy: 0.9046\n",
      "Epoch 94/100\n",
      "1438/1438 [==============================] - 10s 7ms/step - loss: 0.1402 - accuracy: 0.9322 - val_loss: 0.3115 - val_accuracy: 0.9064\n",
      "Epoch 95/100\n",
      "1438/1438 [==============================] - 10s 7ms/step - loss: 0.1402 - accuracy: 0.9327 - val_loss: 0.3686 - val_accuracy: 0.9072\n",
      "Epoch 96/100\n",
      "1438/1438 [==============================] - 10s 7ms/step - loss: 0.1408 - accuracy: 0.9334 - val_loss: 0.3584 - val_accuracy: 0.8990\n",
      "Epoch 97/100\n",
      "1438/1438 [==============================] - 10s 7ms/step - loss: 0.1409 - accuracy: 0.9317 - val_loss: 0.3682 - val_accuracy: 0.9050\n",
      "Epoch 98/100\n",
      "1438/1438 [==============================] - 10s 7ms/step - loss: 0.1387 - accuracy: 0.9337 - val_loss: 0.3702 - val_accuracy: 0.9065\n",
      "Epoch 99/100\n",
      "1438/1438 [==============================] - 10s 7ms/step - loss: 0.1438 - accuracy: 0.9328 - val_loss: 0.3667 - val_accuracy: 0.9057\n",
      "Epoch 100/100\n",
      "1438/1438 [==============================] - 10s 7ms/step - loss: 0.1432 - accuracy: 0.9326 - val_loss: 0.3438 - val_accuracy: 0.9052\n"
     ]
    }
   ],
   "source": [
    "history = model.fit(\n",
    "    partial_x_train,\n",
    "    partial_y_train,\n",
    "    class_weight=class_weights_dict,\n",
    "    epochs=training_steps,\n",
    "    batch_size=batch_size,\n",
    "    validation_data=(x_val, y_val)\n",
    ")"
   ]
  },
  {
   "cell_type": "code",
   "execution_count": 59,
   "id": "f3cfd422",
   "metadata": {},
   "outputs": [
    {
     "name": "stdout",
     "output_type": "stream",
     "text": [
      "1/1 [==============================] - 0s 125ms/step\n",
      "Predicted class: 2\n"
     ]
    }
   ],
   "source": [
    "random_index = np.random.randint(0, len(x_test))\n",
    "result = model.predict(x_test[random_index, :].reshape(1, 784))\n",
    "\n",
    "predicted_class = np.argmax(result)\n",
    "\n",
    "\n",
    "\n",
    "predicted_class_name = class_names[predicted_class]\n",
    "print(f\"Predicted class: {predicted_class}\")"
   ]
  },
  {
   "cell_type": "code",
   "execution_count": 60,
   "id": "ca4ae094",
   "metadata": {},
   "outputs": [
    {
     "data": {
      "image/png": "[encoded data removed]",
      "text/plain": [
       "<Figure size 640x480 with 1 Axes>"
      ]
     },
     "metadata": {},
     "output_type": "display_data"
    }
   ],
   "source": [
    "\n",
    "plt.imshow(x_test[random_index, :].reshape(28, 28), cmap='gray')\n",
    "plt.title(f\"Label: {predicted_class_name}\")\n",
    "plt.show()"
   ]
  },
  {
   "cell_type": "code",
   "execution_count": 61,
   "id": "e6d8f7e6",
   "metadata": {},
   "outputs": [
    {
     "name": "stdout",
     "output_type": "stream",
     "text": [
      "313/313 [==============================] - 1s 3ms/step\n",
      "              precision    recall  f1-score   support\n",
      "\n",
      " T-shirt/top       0.84      0.81      0.82      1000\n",
      "     Trouser       0.99      0.98      0.98      1000\n",
      "    Pullover       0.79      0.83      0.81      1000\n",
      "       Dress       0.87      0.91      0.89      1000\n",
      "        Coat       0.87      0.74      0.80      1000\n",
      "      Sandal       0.96      0.98      0.97      1000\n",
      "       Shirt       0.69      0.76      0.72      1000\n",
      "     Sneaker       0.95      0.96      0.95      1000\n",
      "         Bag       0.98      0.97      0.97      1000\n",
      "  Ankle boot       0.97      0.96      0.96      1000\n",
      "\n",
      "    accuracy                           0.89     10000\n",
      "   macro avg       0.89      0.89      0.89     10000\n",
      "weighted avg       0.89      0.89      0.89     10000\n",
      "\n",
      "{0: 0.88, 1: 0.72, 2: 0.8899999999999999, 3: 0.8099999999999999, 4: 0.8999999999999999, 5: 0.73, 6: 0.98, 7: 0.75, 8: 0.73, 9: 0.74}\n"
     ]
    }
   ],
   "source": [
    "y_pred = model.predict(x_test)\n",
    "y_pred_classes = np.argmax(y_pred, axis=1)\n",
    "report = classification_report(y_test_encoded, y_pred_classes, target_names=class_names)\n",
    "print(report)\n",
    "list_data = [row.split(',') for row in report.strip().split('\\n')]\n",
    "df = pd.DataFrame(list_data[1:], columns=list_data[0])\n",
    "df_upd = df.iloc[1:11]\n",
    "#df_f1_score = df_upd.iloc[0, 0][39:43]\n",
    "f1_score_dict = {i:0.7+(1-float(df_upd.iloc[i, 0][39:43])) for i in range (0, 10)}\n",
    "print(f1_score_dict )"
   ]
  },
  {
   "cell_type": "code",
   "execution_count": 62,
   "id": "0477c83b",
   "metadata": {},
   "outputs": [
    {
     "name": "stdout",
     "output_type": "stream",
     "text": [
      "313/313 [==============================] - 1s 3ms/step - loss: 0.4223 - accuracy: 0.8884\n",
      "[0.4223414659500122, 0.8884000182151794]\n"
     ]
    }
   ],
   "source": [
    "results = model.evaluate(x_test, y_test)\n",
    "print(results)"
   ]
  },
  {
   "cell_type": "code",
   "execution_count": 63,
   "id": "d572235c",
   "metadata": {},
   "outputs": [
    {
     "data": {
      "image/png": "[encoded data removed]",
      "text/plain": [
       "<Figure size 640x480 with 1 Axes>"
      ]
     },
     "metadata": {},
     "output_type": "display_data"
    },
    {
     "data": {
      "text/plain": [
       "<matplotlib.legend.Legend at 0x197839820b0>"
      ]
     },
     "execution_count": 63,
     "metadata": {},
     "output_type": "execute_result"
    },
    {
     "data": {
      "image/png": "[encoded data removed]",
      "text/plain": [
       "<Figure size 640x480 with 1 Axes>"
      ]
     },
     "metadata": {},
     "output_type": "display_data"
    }
   ],
   "source": [
    "import matplotlib.pyplot as plt\n",
    "\n",
    "\n",
    "history_dict = history.history\n",
    "loss_values = history_dict['loss']\n",
    "val_loss_values = history_dict['val_loss']\n",
    "\n",
    "epochs = range(1, len(history_dict['accuracy']) + 1)\n",
    "\n",
    "plt.plot(epochs, loss_values, 'bo', label='Training loss')\n",
    "plt.plot(epochs, val_loss_values, 'b', label='Validation loss')\n",
    "plt.title('Training and validation loss')\n",
    "plt.xlabel('Epochs')\n",
    "plt.ylabel('Loss')\n",
    "plt.legend()\n",
    "plt.show()\n",
    "\n",
    "plt.clf()\n",
    "val_acc_values = history_dict['val_accuracy']\n",
    "plt.plot(epochs, history_dict['accuracy'], 'bo', label='Training acc')\n",
    "plt.plot(epochs, history_dict['val_accuracy'], 'b', label='Validation acc')\n",
    "plt.title('Training and validation accuracy')\n",
    "plt.xlabel('Epochs')\n",
    "plt.ylabel('Loss')\n",
    "plt.legend()"
   ]
  },
  {
   "cell_type": "code",
   "execution_count": 64,
   "id": "5527f92d",
   "metadata": {},
   "outputs": [
    {
     "name": "stderr",
     "output_type": "stream",
     "text": [
      "WARNING:absl:Found untraced functions such as _update_step_xla while saving (showing 1 of 1). These functions will not be directly callable after loading.\n"
     ]
    },
    {
     "name": "stdout",
     "output_type": "stream",
     "text": [
      "INFO:tensorflow:Assets written to: Adam_b32_ep100_class\\assets\n"
     ]
    },
    {
     "name": "stderr",
     "output_type": "stream",
     "text": [
      "INFO:tensorflow:Assets written to: Adam_b32_ep100_class\\assets\n"
     ]
    }
   ],
   "source": [
    "model.save(\"Adam_b32_ep100_class\")"
   ]
  }
 ],
 "metadata": {
  "kernelspec": {
   "display_name": "Python 3 (ipykernel)",
   "language": "python",
   "name": "python3"
  },
  "language_info": {
   "codemirror_mode": {
    "name": "ipython",
    "version": 3
   },
   "file_extension": ".py",
   "mimetype": "text/x-python",
   "name": "python",
   "nbconvert_exporter": "python",
   "pygments_lexer": "ipython3",
   "version": "3.10.4"
  }
 },
 "nbformat": 4,
 "nbformat_minor": 5
}
