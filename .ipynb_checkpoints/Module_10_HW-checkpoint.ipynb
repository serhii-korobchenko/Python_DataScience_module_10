{
 "cells": [
  {
   "cell_type": "markdown",
   "id": "c6ddd11f",
   "metadata": {},
   "source": [
    "TASK:"
   ]
  },
  {
   "cell_type": "markdown",
   "id": "82460321",
   "metadata": {},
   "source": [
    "Create NN with Keras to classify goods from dataset: https://www.tensorflow.org/datasets/catalog/fashion_mnist"
   ]
  },
  {
   "cell_type": "markdown",
   "id": "f237f178",
   "metadata": {},
   "source": [
    "Proposed NN initial architecture: - \n",
    "- # layers (in, den1, den2, out)\n",
    "- activation func (Hidden: ReLU, Leaky ReLU, Parametric ReLU, ELU; Output: Softmax)\n",
    "- # epoch (50 - 600)\n",
    "- # neurons in layer (784, 128, 256, 10)\n",
    "- batch size (32, 72)\n",
    "- optimizer (SGD,  Adam)\n",
    "- initial learning rate (0.025)\n",
    "- validation rate in training data (40%)\n",
    "Requirement of accuracy: >=0.91"
   ]
  },
  {
   "cell_type": "markdown",
   "id": "892f571d",
   "metadata": {},
   "source": [
    "# MODEL sgd_b32_ep50"
   ]
  },
  {
   "cell_type": "code",
   "execution_count": null,
   "id": "4debdd0e",
   "metadata": {},
   "outputs": [],
   "source": [
    "from tensorflow import keras"
   ]
  },
  {
   "cell_type": "code",
   "execution_count": null,
   "id": "9469b9c3",
   "metadata": {},
   "outputs": [],
   "source": [
    "import tensorflow as tf\n",
    "import numpy as np\n",
    "import matplotlib.pyplot as plt"
   ]
  },
  {
   "cell_type": "code",
   "execution_count": null,
   "id": "3e62debc",
   "metadata": {},
   "outputs": [],
   "source": [
    "(x_train, y_train), (x_test, y_test) = keras.datasets.fashion_mnist.load_data()\n",
    "assert x_train.shape == (60000, 28, 28)\n",
    "assert x_test.shape == (10000, 28, 28)\n",
    "assert y_train.shape == (60000,)\n",
    "assert y_test.shape == (10000,)"
   ]
  },
  {
   "cell_type": "code",
   "execution_count": null,
   "id": "96743c13",
   "metadata": {},
   "outputs": [],
   "source": [
    "# Initial data\n",
    "num_classes = 10 # total class number\n",
    "num_features = 784 # input layer vector 28 * 28 = 784\n",
    "\n",
    "learning_rate = 0.025 # \n",
    "training_steps = 50 # number of epoch\n",
    "batch_size = 32 # пересчитывать веса сети мы будем не на всей выборке, а на ее случайном подможестве из batch_size элементов\n",
    "\n",
    "n_hidden_1 = 128 # количество нейронов 1-го слоя\n",
    "n_hidden_2 = 256 # количество нейронов 2-го слоя"
   ]
  },
  {
   "cell_type": "code",
   "execution_count": null,
   "id": "ff3893be",
   "metadata": {},
   "outputs": [],
   "source": [
    "# Преобразуем целочисленные пиксели к типа float32\n",
    "x_train, x_test = np.array(x_train, np.float32), np.array(x_test, np.float32)\n",
    "\n",
    "# Преобразуем матрицы размером 28x28 пикселей в вектор из 784 элементов\n",
    "x_train, x_test = x_train.reshape([-1, num_features]), x_test.reshape([-1, num_features])\n",
    "\n",
    "# Нормализуем значения пикселей\n",
    "x_train, x_test = x_train / 255., x_test / 255.\n",
    "\n",
    "# Convert labels to one-hot encoded format\n",
    "y_train = tf.keras.utils.to_categorical(y_train, num_classes)\n",
    "y_test = tf.keras.utils.to_categorical(y_test, num_classes)\n",
    "\n",
    "# Перемешаем тренировочные данные\n",
    "train_data = tf.data.Dataset.from_tensor_slices((x_train, y_train))\n",
    "train_data = train_data.repeat().shuffle(5000).batch(batch_size).prefetch(10)\n"
   ]
  },
  {
   "cell_type": "code",
   "execution_count": null,
   "id": "3c434be6",
   "metadata": {},
   "outputs": [],
   "source": [
    "from keras.models import Sequential\n",
    "from keras.layers import Dense"
   ]
  },
  {
   "cell_type": "code",
   "execution_count": null,
   "id": "844d5ccd",
   "metadata": {},
   "outputs": [],
   "source": [
    "model = Sequential([\n",
    "    Dense(128, activation='relu', input_shape=(784,)),\n",
    "    Dense(256, activation='relu'),\n",
    "    Dense(10, activation='softmax'),\n",
    "])"
   ]
  },
  {
   "cell_type": "code",
   "execution_count": null,
   "id": "b46f05d7",
   "metadata": {},
   "outputs": [],
   "source": [
    "model.compile(\n",
    "    optimizer='SGD',\n",
    "    loss='categorical_crossentropy',\n",
    "    metrics=['accuracy']\n",
    ")"
   ]
  },
  {
   "cell_type": "code",
   "execution_count": null,
   "id": "47c401be",
   "metadata": {},
   "outputs": [],
   "source": [
    "x_val = x_train[:20000]\n",
    "partial_x_train = x_train[20000:]\n",
    "\n",
    "y_val = y_train[:20000]\n",
    "partial_y_train = y_train[20000:]"
   ]
  },
  {
   "cell_type": "code",
   "execution_count": null,
   "id": "3ece4d02",
   "metadata": {},
   "outputs": [],
   "source": [
    "history = model.fit(\n",
    "    partial_x_train,\n",
    "    partial_y_train,\n",
    "    epochs=training_steps,\n",
    "    batch_size=batch_size,\n",
    "    validation_data=(x_val, y_val)\n",
    ")"
   ]
  },
  {
   "cell_type": "code",
   "execution_count": null,
   "id": "83a41b90",
   "metadata": {},
   "outputs": [],
   "source": [
    "results = model.evaluate(x_test, y_test)\n",
    "print(results)"
   ]
  },
  {
   "cell_type": "code",
   "execution_count": null,
   "id": "e895e52e",
   "metadata": {},
   "outputs": [],
   "source": [
    "import matplotlib.pyplot as plt\n",
    "\n",
    "\n",
    "history_dict = history.history\n",
    "loss_values = history_dict['loss']\n",
    "val_loss_values = history_dict['val_loss']\n",
    "\n",
    "epochs = range(1, len(history_dict['accuracy']) + 1)\n",
    "\n",
    "plt.plot(epochs, loss_values, 'bo', label='Training loss')\n",
    "plt.plot(epochs, val_loss_values, 'b', label='Validation loss')\n",
    "plt.title('Training and validation loss')\n",
    "plt.xlabel('Epochs')\n",
    "plt.ylabel('Loss')\n",
    "plt.legend()\n",
    "plt.show()\n",
    "\n",
    "plt.clf()\n",
    "val_acc_values = history_dict['val_accuracy']\n",
    "plt.plot(epochs, history_dict['accuracy'], 'bo', label='Training acc')\n",
    "plt.plot(epochs, history_dict['val_accuracy'], 'b', label='Validation acc')\n",
    "plt.title('Training and validation accuracy')\n",
    "plt.xlabel('Epochs')\n",
    "plt.ylabel('Loss')\n",
    "plt.legend()"
   ]
  },
  {
   "cell_type": "code",
   "execution_count": null,
   "id": "9c3c8feb",
   "metadata": {},
   "outputs": [],
   "source": [
    "model.save(\"sgd_b32_ep50\")"
   ]
  },
  {
   "cell_type": "code",
   "execution_count": null,
   "id": "25e4fb8e",
   "metadata": {},
   "outputs": [],
   "source": [
    "random_index = np.random.randint(0, len(x_test))\n",
    "result = model.predict(x_test[random_index, :].reshape(1, 784))\n",
    "\n",
    "predicted_class = np.argmax(result)\n",
    "\n",
    "class_names = ['T-shirt/top', 'Trouser', 'Pullover', 'Dress', 'Coat',\n",
    "               'Sandal', 'Shirt', 'Sneaker', 'Bag', 'Ankle boot']\n",
    "\n",
    "predicted_class_name = class_names[predicted_class]\n",
    "print(f\"Predicted class: {predicted_class}\")"
   ]
  },
  {
   "cell_type": "code",
   "execution_count": null,
   "id": "ec3e3197",
   "metadata": {},
   "outputs": [],
   "source": [
    "\n",
    "plt.imshow(x_test[random_index, :].reshape(28, 28), cmap='gray')\n",
    "plt.title(f\"Label: {predicted_class_name}\")\n",
    "plt.show()"
   ]
  },
  {
   "cell_type": "markdown",
   "id": "9be7a504",
   "metadata": {},
   "source": [
    "# MODEL Adam_b32_ep50"
   ]
  },
  {
   "cell_type": "code",
   "execution_count": null,
   "id": "9a9327ad",
   "metadata": {},
   "outputs": [],
   "source": [
    "from tensorflow import keras"
   ]
  },
  {
   "cell_type": "code",
   "execution_count": null,
   "id": "f1ee1415",
   "metadata": {},
   "outputs": [],
   "source": [
    "import tensorflow as tf\n",
    "import numpy as np\n",
    "import matplotlib.pyplot as plt"
   ]
  },
  {
   "cell_type": "code",
   "execution_count": null,
   "id": "8a83b1d5",
   "metadata": {},
   "outputs": [],
   "source": [
    "(x_train, y_train), (x_test, y_test) = keras.datasets.fashion_mnist.load_data()\n",
    "assert x_train.shape == (60000, 28, 28)\n",
    "assert x_test.shape == (10000, 28, 28)\n",
    "assert y_train.shape == (60000,)\n",
    "assert y_test.shape == (10000,)"
   ]
  },
  {
   "cell_type": "code",
   "execution_count": null,
   "id": "784cc0f7",
   "metadata": {},
   "outputs": [],
   "source": [
    "# Initial data\n",
    "num_classes = 10 # total class number\n",
    "num_features = 784 # input layer vector 28 * 28 = 784\n",
    "\n",
    "learning_rate = 0.025 # \n",
    "training_steps = 50 # number of epoch\n",
    "batch_size = 32 # пересчитывать веса сети мы будем не на всей выборке, а на ее случайном подможестве из batch_size элементов\n",
    "\n",
    "n_hidden_1 = 128 # количество нейронов 1-го слоя\n",
    "n_hidden_2 = 256 # количество нейронов 2-го слоя"
   ]
  },
  {
   "cell_type": "code",
   "execution_count": null,
   "id": "6a280d3c",
   "metadata": {},
   "outputs": [],
   "source": [
    "# Преобразуем целочисленные пиксели к типа float32\n",
    "x_train, x_test = np.array(x_train, np.float32), np.array(x_test, np.float32)\n",
    "\n",
    "# Преобразуем матрицы размером 28x28 пикселей в вектор из 784 элементов\n",
    "x_train, x_test = x_train.reshape([-1, num_features]), x_test.reshape([-1, num_features])\n",
    "\n",
    "# Нормализуем значения пикселей\n",
    "x_train, x_test = x_train / 255., x_test / 255.\n",
    "\n",
    "# Convert labels to one-hot encoded format\n",
    "y_train = tf.keras.utils.to_categorical(y_train, num_classes)\n",
    "y_test = tf.keras.utils.to_categorical(y_test, num_classes)\n",
    "\n",
    "# Перемешаем тренировочные данные\n",
    "train_data = tf.data.Dataset.from_tensor_slices((x_train, y_train))\n",
    "train_data = train_data.repeat().shuffle(5000).batch(batch_size).prefetch(10)\n"
   ]
  },
  {
   "cell_type": "code",
   "execution_count": null,
   "id": "f5d03990",
   "metadata": {},
   "outputs": [],
   "source": [
    "from keras.models import Sequential\n",
    "from keras.layers import Dense"
   ]
  },
  {
   "cell_type": "code",
   "execution_count": null,
   "id": "c05662c2",
   "metadata": {},
   "outputs": [],
   "source": [
    "model = Sequential([\n",
    "    Dense(128, activation='relu', input_shape=(784,)),\n",
    "    Dense(256, activation='relu'),\n",
    "    Dense(10, activation='softmax'),\n",
    "])"
   ]
  },
  {
   "cell_type": "code",
   "execution_count": null,
   "id": "58f2707b",
   "metadata": {},
   "outputs": [],
   "source": [
    "model.compile(\n",
    "    optimizer='Adam',\n",
    "    loss='categorical_crossentropy',\n",
    "    metrics=['accuracy']\n",
    ")"
   ]
  },
  {
   "cell_type": "code",
   "execution_count": null,
   "id": "706b60d7",
   "metadata": {},
   "outputs": [],
   "source": [
    "x_val = x_train[:20000]\n",
    "partial_x_train = x_train[20000:]\n",
    "\n",
    "y_val = y_train[:20000]\n",
    "partial_y_train = y_train[20000:]"
   ]
  },
  {
   "cell_type": "code",
   "execution_count": null,
   "id": "0a4e5939",
   "metadata": {},
   "outputs": [],
   "source": [
    "history = model.fit(\n",
    "    partial_x_train,\n",
    "    partial_y_train,\n",
    "    epochs=training_steps,\n",
    "    batch_size=batch_size,\n",
    "    validation_data=(x_val, y_val)\n",
    ")"
   ]
  },
  {
   "cell_type": "code",
   "execution_count": null,
   "id": "0477c83b",
   "metadata": {},
   "outputs": [],
   "source": [
    "results = model.evaluate(x_test, y_test)\n",
    "print(results)"
   ]
  },
  {
   "cell_type": "code",
   "execution_count": null,
   "id": "d572235c",
   "metadata": {},
   "outputs": [],
   "source": [
    "import matplotlib.pyplot as plt\n",
    "\n",
    "\n",
    "history_dict = history.history\n",
    "loss_values = history_dict['loss']\n",
    "val_loss_values = history_dict['val_loss']\n",
    "\n",
    "epochs = range(1, len(history_dict['accuracy']) + 1)\n",
    "\n",
    "plt.plot(epochs, loss_values, 'bo', label='Training loss')\n",
    "plt.plot(epochs, val_loss_values, 'b', label='Validation loss')\n",
    "plt.title('Training and validation loss')\n",
    "plt.xlabel('Epochs')\n",
    "plt.ylabel('Loss')\n",
    "plt.legend()\n",
    "plt.show()\n",
    "\n",
    "plt.clf()\n",
    "val_acc_values = history_dict['val_accuracy']\n",
    "plt.plot(epochs, history_dict['accuracy'], 'bo', label='Training acc')\n",
    "plt.plot(epochs, history_dict['val_accuracy'], 'b', label='Validation acc')\n",
    "plt.title('Training and validation accuracy')\n",
    "plt.xlabel('Epochs')\n",
    "plt.ylabel('Loss')\n",
    "plt.legend()"
   ]
  },
  {
   "cell_type": "code",
   "execution_count": null,
   "id": "5527f92d",
   "metadata": {},
   "outputs": [],
   "source": [
    "model.save(\"Adam_2_b32_ep50\")"
   ]
  },
  {
   "cell_type": "code",
   "execution_count": null,
   "id": "f3cfd422",
   "metadata": {},
   "outputs": [],
   "source": [
    "random_index = np.random.randint(0, len(x_test))\n",
    "result = model.predict(x_test[random_index, :].reshape(1, 784))\n",
    "\n",
    "predicted_class = np.argmax(result)\n",
    "\n",
    "class_names = ['T-shirt/top', 'Trouser', 'Pullover', 'Dress', 'Coat',\n",
    "               'Sandal', 'Shirt', 'Sneaker', 'Bag', 'Ankle boot']\n",
    "\n",
    "predicted_class_name = class_names[predicted_class]\n",
    "print(f\"Predicted class: {predicted_class}\")"
   ]
  },
  {
   "cell_type": "code",
   "execution_count": null,
   "id": "ca4ae094",
   "metadata": {},
   "outputs": [],
   "source": [
    "\n",
    "plt.imshow(x_test[random_index, :].reshape(28, 28), cmap='gray')\n",
    "plt.title(f\"Label: {predicted_class_name}\")\n",
    "plt.show()"
   ]
  },
  {
   "cell_type": "markdown",
   "id": "78eef309",
   "metadata": {},
   "source": [
    "# MODEL Adamax_b32_ep50"
   ]
  },
  {
   "cell_type": "code",
   "execution_count": null,
   "id": "2725643a",
   "metadata": {},
   "outputs": [],
   "source": [
    "from tensorflow import keras"
   ]
  },
  {
   "cell_type": "code",
   "execution_count": null,
   "id": "3ae53ba0",
   "metadata": {},
   "outputs": [],
   "source": [
    "import tensorflow as tf\n",
    "import numpy as np\n",
    "import matplotlib.pyplot as plt"
   ]
  },
  {
   "cell_type": "code",
   "execution_count": null,
   "id": "1cfca176",
   "metadata": {},
   "outputs": [],
   "source": [
    "(x_train, y_train), (x_test, y_test) = keras.datasets.fashion_mnist.load_data()\n",
    "assert x_train.shape == (60000, 28, 28)\n",
    "assert x_test.shape == (10000, 28, 28)\n",
    "assert y_train.shape == (60000,)\n",
    "assert y_test.shape == (10000,)"
   ]
  },
  {
   "cell_type": "code",
   "execution_count": null,
   "id": "4eaf5920",
   "metadata": {},
   "outputs": [],
   "source": [
    "# Initial data\n",
    "num_classes = 10 # total class number\n",
    "num_features = 784 # input layer vector 28 * 28 = 784\n",
    "\n",
    "learning_rate = 0.025 # \n",
    "training_steps = 50 # number of epoch\n",
    "batch_size = 32 # пересчитывать веса сети мы будем не на всей выборке, а на ее случайном подможестве из batch_size элементов\n",
    "\n",
    "n_hidden_1 = 128 # количество нейронов 1-го слоя\n",
    "n_hidden_2 = 256 # количество нейронов 2-го слоя"
   ]
  },
  {
   "cell_type": "code",
   "execution_count": null,
   "id": "1c441c26",
   "metadata": {},
   "outputs": [],
   "source": [
    "# Преобразуем целочисленные пиксели к типа float32\n",
    "x_train, x_test = np.array(x_train, np.float32), np.array(x_test, np.float32)\n",
    "\n",
    "# Преобразуем матрицы размером 28x28 пикселей в вектор из 784 элементов\n",
    "x_train, x_test = x_train.reshape([-1, num_features]), x_test.reshape([-1, num_features])\n",
    "\n",
    "# Нормализуем значения пикселей\n",
    "x_train, x_test = x_train / 255., x_test / 255.\n",
    "\n",
    "# Convert labels to one-hot encoded format\n",
    "y_train = tf.keras.utils.to_categorical(y_train, num_classes)\n",
    "y_test = tf.keras.utils.to_categorical(y_test, num_classes)\n",
    "\n",
    "# Перемешаем тренировочные данные\n",
    "train_data = tf.data.Dataset.from_tensor_slices((x_train, y_train))\n",
    "train_data = train_data.repeat().shuffle(5000).batch(batch_size).prefetch(10)\n"
   ]
  },
  {
   "cell_type": "code",
   "execution_count": null,
   "id": "c6f6d750",
   "metadata": {},
   "outputs": [],
   "source": [
    "from keras.models import Sequential\n",
    "from keras.layers import Dense"
   ]
  },
  {
   "cell_type": "code",
   "execution_count": null,
   "id": "70014667",
   "metadata": {},
   "outputs": [],
   "source": [
    "model = Sequential([\n",
    "    Dense(128, activation='relu', input_shape=(784,)),\n",
    "    Dense(256, activation='relu'),\n",
    "    Dense(10, activation='softmax'),\n",
    "])"
   ]
  },
  {
   "cell_type": "code",
   "execution_count": null,
   "id": "c0d6748e",
   "metadata": {},
   "outputs": [],
   "source": [
    "model.compile(\n",
    "    optimizer='Adamax',\n",
    "    loss='categorical_crossentropy',\n",
    "    metrics=['accuracy']\n",
    ")"
   ]
  },
  {
   "cell_type": "code",
   "execution_count": null,
   "id": "34a4f3b7",
   "metadata": {},
   "outputs": [],
   "source": [
    "x_val = x_train[:20000]\n",
    "partial_x_train = x_train[20000:]\n",
    "\n",
    "y_val = y_train[:20000]\n",
    "partial_y_train = y_train[20000:]"
   ]
  },
  {
   "cell_type": "code",
   "execution_count": null,
   "id": "9409eb03",
   "metadata": {},
   "outputs": [],
   "source": [
    "history = model.fit(\n",
    "    partial_x_train,\n",
    "    partial_y_train,\n",
    "    epochs=training_steps,\n",
    "    batch_size=batch_size,\n",
    "    validation_data=(x_val, y_val)\n",
    ")"
   ]
  },
  {
   "cell_type": "code",
   "execution_count": null,
   "id": "eeac8d5e",
   "metadata": {},
   "outputs": [],
   "source": [
    "results = model.evaluate(x_test, y_test)\n",
    "print(results)"
   ]
  },
  {
   "cell_type": "code",
   "execution_count": null,
   "id": "3395d18a",
   "metadata": {},
   "outputs": [],
   "source": [
    "import matplotlib.pyplot as plt\n",
    "\n",
    "\n",
    "history_dict = history.history\n",
    "loss_values = history_dict['loss']\n",
    "val_loss_values = history_dict['val_loss']\n",
    "\n",
    "epochs = range(1, len(history_dict['accuracy']) + 1)\n",
    "\n",
    "plt.plot(epochs, loss_values, 'bo', label='Training loss')\n",
    "plt.plot(epochs, val_loss_values, 'b', label='Validation loss')\n",
    "plt.title('Training and validation loss')\n",
    "plt.xlabel('Epochs')\n",
    "plt.ylabel('Loss')\n",
    "plt.legend()\n",
    "plt.show()\n",
    "\n",
    "plt.clf()\n",
    "val_acc_values = history_dict['val_accuracy']\n",
    "plt.plot(epochs, history_dict['accuracy'], 'bo', label='Training acc')\n",
    "plt.plot(epochs, history_dict['val_accuracy'], 'b', label='Validation acc')\n",
    "plt.title('Training and validation accuracy')\n",
    "plt.xlabel('Epochs')\n",
    "plt.ylabel('Loss')\n",
    "plt.legend()"
   ]
  },
  {
   "cell_type": "code",
   "execution_count": null,
   "id": "e345ffdb",
   "metadata": {},
   "outputs": [],
   "source": [
    "model.save(\"Adamax_b32_ep50\")"
   ]
  },
  {
   "cell_type": "code",
   "execution_count": null,
   "id": "28c51dc3",
   "metadata": {},
   "outputs": [],
   "source": [
    "random_index = np.random.randint(0, len(x_test))\n",
    "result = model.predict(x_test[random_index, :].reshape(1, 784))\n",
    "\n",
    "predicted_class = np.argmax(result)\n",
    "\n",
    "class_names = ['T-shirt/top', 'Trouser', 'Pullover', 'Dress', 'Coat',\n",
    "               'Sandal', 'Shirt', 'Sneaker', 'Bag', 'Ankle boot']\n",
    "\n",
    "predicted_class_name = class_names[predicted_class]\n",
    "print(f\"Predicted class: {predicted_class}\")"
   ]
  },
  {
   "cell_type": "code",
   "execution_count": null,
   "id": "281f6a91",
   "metadata": {},
   "outputs": [],
   "source": [
    "\n",
    "plt.imshow(x_test[random_index, :].reshape(28, 28), cmap='gray')\n",
    "plt.title(f\"Predicted Label: {predicted_class_name}\")\n",
    "plt.show()"
   ]
  },
  {
   "cell_type": "markdown",
   "id": "78a05f88",
   "metadata": {},
   "source": [
    "# MODEL Adam_b32_ep50_reg"
   ]
  },
  {
   "cell_type": "code",
   "execution_count": null,
   "id": "fa3a29f3",
   "metadata": {},
   "outputs": [],
   "source": [
    "from tensorflow import keras"
   ]
  },
  {
   "cell_type": "code",
   "execution_count": null,
   "id": "9dd39dac",
   "metadata": {},
   "outputs": [],
   "source": [
    "import tensorflow as tf\n",
    "import numpy as np\n",
    "import matplotlib.pyplot as plt"
   ]
  },
  {
   "cell_type": "code",
   "execution_count": null,
   "id": "389582a7",
   "metadata": {},
   "outputs": [],
   "source": [
    "(x_train, y_train), (x_test, y_test) = keras.datasets.fashion_mnist.load_data()\n",
    "assert x_train.shape == (60000, 28, 28)\n",
    "assert x_test.shape == (10000, 28, 28)\n",
    "assert y_train.shape == (60000,)\n",
    "assert y_test.shape == (10000,)"
   ]
  },
  {
   "cell_type": "code",
   "execution_count": null,
   "id": "5d1db724",
   "metadata": {},
   "outputs": [],
   "source": [
    "# Initial data\n",
    "num_classes = 10 # total class number\n",
    "num_features = 784 # input layer vector 28 * 28 = 784\n",
    "\n",
    "learning_rate = 0.025 # \n",
    "training_steps = 50 # number of epoch\n",
    "batch_size = 32 # пересчитывать веса сети мы будем не на всей выборке, а на ее случайном подможестве из batch_size элементов\n",
    "\n",
    "n_hidden_1 = 128 # количество нейронов 1-го слоя\n",
    "n_hidden_2 = 256 # количество нейронов 2-го слоя"
   ]
  },
  {
   "cell_type": "code",
   "execution_count": null,
   "id": "3268497e",
   "metadata": {},
   "outputs": [],
   "source": [
    "# Преобразуем целочисленные пиксели к типа float32\n",
    "x_train, x_test = np.array(x_train, np.float32), np.array(x_test, np.float32)\n",
    "\n",
    "# Преобразуем матрицы размером 28x28 пикселей в вектор из 784 элементов\n",
    "x_train, x_test = x_train.reshape([-1, num_features]), x_test.reshape([-1, num_features])\n",
    "\n",
    "# Нормализуем значения пикселей\n",
    "x_train, x_test = x_train / 255., x_test / 255.\n",
    "\n",
    "# Convert labels to one-hot encoded format\n",
    "y_train = tf.keras.utils.to_categorical(y_train, num_classes)\n",
    "y_test = tf.keras.utils.to_categorical(y_test, num_classes)\n",
    "\n",
    "# Перемешаем тренировочные данные\n",
    "train_data = tf.data.Dataset.from_tensor_slices((x_train, y_train))\n",
    "train_data = train_data.repeat().shuffle(5000).batch(batch_size).prefetch(10)\n"
   ]
  },
  {
   "cell_type": "code",
   "execution_count": null,
   "id": "e6c88dd5",
   "metadata": {},
   "outputs": [],
   "source": [
    "from keras.models import Sequential\n",
    "from keras.layers import Dense"
   ]
  },
  {
   "cell_type": "code",
   "execution_count": null,
   "id": "bd9f721b",
   "metadata": {},
   "outputs": [],
   "source": [
    "model = Sequential([\n",
    "    Dense(128, activation='relu', input_shape=(784,), kernel_regularizer='l2'),\n",
    "    Dense(256, activation='relu', kernel_regularizer='l2'),\n",
    "    Dense(10, activation='softmax'),\n",
    "])"
   ]
  },
  {
   "cell_type": "code",
   "execution_count": null,
   "id": "088ded84",
   "metadata": {},
   "outputs": [],
   "source": [
    "model.compile(\n",
    "    optimizer='Adam',\n",
    "    loss='categorical_crossentropy',\n",
    "    metrics=['accuracy']\n",
    ")"
   ]
  },
  {
   "cell_type": "code",
   "execution_count": null,
   "id": "969e577b",
   "metadata": {},
   "outputs": [],
   "source": [
    "x_val = x_train[:20000]\n",
    "partial_x_train = x_train[20000:]\n",
    "\n",
    "y_val = y_train[:20000]\n",
    "partial_y_train = y_train[20000:]"
   ]
  },
  {
   "cell_type": "code",
   "execution_count": null,
   "id": "d7a48a7a",
   "metadata": {},
   "outputs": [],
   "source": [
    "history = model.fit(\n",
    "    partial_x_train,\n",
    "    partial_y_train,\n",
    "    epochs=training_steps,\n",
    "    batch_size=batch_size,\n",
    "    validation_data=(x_val, y_val)\n",
    ")"
   ]
  },
  {
   "cell_type": "code",
   "execution_count": null,
   "id": "3f6b1d41",
   "metadata": {},
   "outputs": [],
   "source": [
    "results = model.evaluate(x_test, y_test)\n",
    "print(results)"
   ]
  },
  {
   "cell_type": "code",
   "execution_count": null,
   "id": "eaaffee4",
   "metadata": {},
   "outputs": [],
   "source": [
    "import matplotlib.pyplot as plt\n",
    "\n",
    "\n",
    "history_dict = history.history\n",
    "loss_values = history_dict['loss']\n",
    "val_loss_values = history_dict['val_loss']\n",
    "\n",
    "epochs = range(1, len(history_dict['accuracy']) + 1)\n",
    "\n",
    "plt.plot(epochs, loss_values, 'bo', label='Training loss')\n",
    "plt.plot(epochs, val_loss_values, 'b', label='Validation loss')\n",
    "plt.title('Training and validation loss')\n",
    "plt.xlabel('Epochs')\n",
    "plt.ylabel('Loss')\n",
    "plt.legend()\n",
    "plt.show()\n",
    "\n",
    "plt.clf()\n",
    "val_acc_values = history_dict['val_accuracy']\n",
    "plt.plot(epochs, history_dict['accuracy'], 'bo', label='Training acc')\n",
    "plt.plot(epochs, history_dict['val_accuracy'], 'b', label='Validation acc')\n",
    "plt.title('Training and validation accuracy')\n",
    "plt.xlabel('Epochs')\n",
    "plt.ylabel('Loss')\n",
    "plt.legend()"
   ]
  },
  {
   "cell_type": "code",
   "execution_count": null,
   "id": "864a6103",
   "metadata": {},
   "outputs": [],
   "source": [
    "model.save(\"Adam_b32_ep50_reg\")"
   ]
  },
  {
   "cell_type": "code",
   "execution_count": null,
   "id": "ca389e9a",
   "metadata": {},
   "outputs": [],
   "source": [
    "random_index = np.random.randint(0, len(x_test))\n",
    "result = model.predict(x_test[random_index, :].reshape(1, 784))\n",
    "\n",
    "predicted_class = np.argmax(result)\n",
    "\n",
    "class_names = ['T-shirt/top', 'Trouser', 'Pullover', 'Dress', 'Coat',\n",
    "               'Sandal', 'Shirt', 'Sneaker', 'Bag', 'Ankle boot']\n",
    "\n",
    "predicted_class_name = class_names[predicted_class]\n",
    "print(f\"Predicted class: {predicted_class+1}\")"
   ]
  },
  {
   "cell_type": "code",
   "execution_count": null,
   "id": "c5bf0998",
   "metadata": {},
   "outputs": [],
   "source": [
    "\n",
    "plt.imshow(x_test[random_index, :].reshape(28, 28), cmap='gray')\n",
    "plt.title(f\"Label: {predicted_class_name}\")\n",
    "plt.show()"
   ]
  },
  {
   "cell_type": "markdown",
   "id": "41540cec",
   "metadata": {},
   "source": [
    "# MODEL Adam_b128_ep200_reg"
   ]
  },
  {
   "cell_type": "code",
   "execution_count": null,
   "id": "41a6afea",
   "metadata": {},
   "outputs": [],
   "source": [
    "from tensorflow import keras"
   ]
  },
  {
   "cell_type": "code",
   "execution_count": null,
   "id": "e3d9a0aa",
   "metadata": {},
   "outputs": [],
   "source": [
    "import tensorflow as tf\n",
    "import numpy as np\n",
    "import matplotlib.pyplot as plt"
   ]
  },
  {
   "cell_type": "code",
   "execution_count": null,
   "id": "8857ebc5",
   "metadata": {},
   "outputs": [],
   "source": [
    "(x_train, y_train), (x_test, y_test) = keras.datasets.fashion_mnist.load_data()\n",
    "assert x_train.shape == (60000, 28, 28)\n",
    "assert x_test.shape == (10000, 28, 28)\n",
    "assert y_train.shape == (60000,)\n",
    "assert y_test.shape == (10000,)"
   ]
  },
  {
   "cell_type": "code",
   "execution_count": null,
   "id": "34d5c506",
   "metadata": {},
   "outputs": [],
   "source": [
    "# Initial data\n",
    "num_classes = 10 # total class number\n",
    "num_features = 784 # input layer vector 28 * 28 = 784\n",
    "\n",
    "learning_rate = 0.025 # \n",
    "training_steps = 200 # number of epoch\n",
    "batch_size = 128 # пересчитывать веса сети мы будем не на всей выборке, а на ее случайном подможестве из batch_size элементов\n",
    "\n",
    "n_hidden_1 = 128 # количество нейронов 1-го слоя\n",
    "n_hidden_2 = 256 # количество нейронов 2-го слоя"
   ]
  },
  {
   "cell_type": "code",
   "execution_count": null,
   "id": "5376a45d",
   "metadata": {},
   "outputs": [],
   "source": [
    "# Преобразуем целочисленные пиксели к типа float32\n",
    "x_train, x_test = np.array(x_train, np.float32), np.array(x_test, np.float32)\n",
    "\n",
    "# Преобразуем матрицы размером 28x28 пикселей в вектор из 784 элементов\n",
    "x_train, x_test = x_train.reshape([-1, num_features]), x_test.reshape([-1, num_features])\n",
    "\n",
    "# Нормализуем значения пикселей\n",
    "x_train, x_test = x_train / 255., x_test / 255.\n",
    "\n",
    "# Convert labels to one-hot encoded format\n",
    "y_train = tf.keras.utils.to_categorical(y_train, num_classes)\n",
    "y_test = tf.keras.utils.to_categorical(y_test, num_classes)\n",
    "\n",
    "# Перемешаем тренировочные данные\n",
    "train_data = tf.data.Dataset.from_tensor_slices((x_train, y_train))\n",
    "train_data = train_data.repeat().shuffle(5000).batch(batch_size).prefetch(10)\n"
   ]
  },
  {
   "cell_type": "code",
   "execution_count": null,
   "id": "dd4652d0",
   "metadata": {},
   "outputs": [],
   "source": [
    "from keras.models import Sequential\n",
    "from keras.layers import Dense"
   ]
  },
  {
   "cell_type": "code",
   "execution_count": null,
   "id": "f24ae35f",
   "metadata": {},
   "outputs": [],
   "source": [
    "model = Sequential([\n",
    "    Dense(128, activation='relu', input_shape=(784,), kernel_regularizer='l2'),\n",
    "    Dense(256, activation='relu', kernel_regularizer='l2'),\n",
    "    Dense(10, activation='softmax'),\n",
    "])"
   ]
  },
  {
   "cell_type": "code",
   "execution_count": null,
   "id": "1a865877",
   "metadata": {},
   "outputs": [],
   "source": [
    "model.compile(\n",
    "    optimizer='Adam',\n",
    "    loss='categorical_crossentropy',\n",
    "    metrics=['accuracy']\n",
    ")"
   ]
  },
  {
   "cell_type": "code",
   "execution_count": null,
   "id": "877a0b45",
   "metadata": {},
   "outputs": [],
   "source": [
    "x_val = x_train[:20000]\n",
    "partial_x_train = x_train[20000:]\n",
    "\n",
    "y_val = y_train[:20000]\n",
    "partial_y_train = y_train[20000:]"
   ]
  },
  {
   "cell_type": "code",
   "execution_count": null,
   "id": "a907c204",
   "metadata": {},
   "outputs": [],
   "source": [
    "history = model.fit(\n",
    "    partial_x_train,\n",
    "    partial_y_train,\n",
    "    epochs=training_steps,\n",
    "    batch_size=batch_size,\n",
    "    validation_data=(x_val, y_val)\n",
    ")"
   ]
  },
  {
   "cell_type": "code",
   "execution_count": null,
   "id": "01a0e128",
   "metadata": {},
   "outputs": [],
   "source": [
    "results = model.evaluate(x_test, y_test)\n",
    "print(results)"
   ]
  },
  {
   "cell_type": "code",
   "execution_count": null,
   "id": "d7ce53a9",
   "metadata": {},
   "outputs": [],
   "source": [
    "import matplotlib.pyplot as plt\n",
    "\n",
    "\n",
    "history_dict = history.history\n",
    "loss_values = history_dict['loss']\n",
    "val_loss_values = history_dict['val_loss']\n",
    "\n",
    "epochs = range(1, len(history_dict['accuracy']) + 1)\n",
    "\n",
    "plt.plot(epochs, loss_values, 'bo', label='Training loss')\n",
    "plt.plot(epochs, val_loss_values, 'b', label='Validation loss')\n",
    "plt.title('Training and validation loss')\n",
    "plt.xlabel('Epochs')\n",
    "plt.ylabel('Loss')\n",
    "plt.legend()\n",
    "plt.show()\n",
    "\n",
    "plt.clf()\n",
    "val_acc_values = history_dict['val_accuracy']\n",
    "plt.plot(epochs, history_dict['accuracy'], 'bo', label='Training acc')\n",
    "plt.plot(epochs, history_dict['val_accuracy'], 'b', label='Validation acc')\n",
    "plt.title('Training and validation accuracy')\n",
    "plt.xlabel('Epochs')\n",
    "plt.ylabel('Loss')\n",
    "plt.legend()"
   ]
  },
  {
   "cell_type": "code",
   "execution_count": null,
   "id": "4d0001d0",
   "metadata": {},
   "outputs": [],
   "source": [
    "model.save(\"Adam_b128_ep200_reg\")"
   ]
  },
  {
   "cell_type": "code",
   "execution_count": null,
   "id": "4461b172",
   "metadata": {},
   "outputs": [],
   "source": [
    "random_index = np.random.randint(0, len(x_test))\n",
    "result = model.predict(x_test[random_index, :].reshape(1, 784))\n",
    "\n",
    "predicted_class = np.argmax(result)\n",
    "\n",
    "class_names = ['T-shirt/top', 'Trouser', 'Pullover', 'Dress', 'Coat',\n",
    "               'Sandal', 'Shirt', 'Sneaker', 'Bag', 'Ankle boot']\n",
    "\n",
    "predicted_class_name = class_names[predicted_class]\n",
    "print(f\"Predicted class: {predicted_class+1}\")"
   ]
  },
  {
   "cell_type": "code",
   "execution_count": null,
   "id": "2cbe43d4",
   "metadata": {},
   "outputs": [],
   "source": [
    "\n",
    "plt.imshow(x_test[random_index, :].reshape(28, 28), cmap='gray')\n",
    "plt.title(f\"Label: {predicted_class_name}\")\n",
    "plt.show()"
   ]
  },
  {
   "cell_type": "markdown",
   "id": "927d1e89",
   "metadata": {},
   "source": [
    "# MODEL sgd_b128_ep50"
   ]
  },
  {
   "cell_type": "code",
   "execution_count": null,
   "id": "945ac62c",
   "metadata": {},
   "outputs": [],
   "source": [
    "from tensorflow import keras"
   ]
  },
  {
   "cell_type": "code",
   "execution_count": null,
   "id": "241959e1",
   "metadata": {},
   "outputs": [],
   "source": [
    "import tensorflow as tf\n",
    "import numpy as np\n",
    "import matplotlib.pyplot as plt"
   ]
  },
  {
   "cell_type": "code",
   "execution_count": null,
   "id": "e82afd72",
   "metadata": {},
   "outputs": [],
   "source": [
    "(x_train, y_train), (x_test, y_test) = keras.datasets.fashion_mnist.load_data()\n",
    "assert x_train.shape == (60000, 28, 28)\n",
    "assert x_test.shape == (10000, 28, 28)\n",
    "assert y_train.shape == (60000,)\n",
    "assert y_test.shape == (10000,)"
   ]
  },
  {
   "cell_type": "code",
   "execution_count": null,
   "id": "ccd60fc9",
   "metadata": {},
   "outputs": [],
   "source": [
    "# Initial data\n",
    "num_classes = 10 # total class number\n",
    "num_features = 784 # input layer vector 28 * 28 = 784\n",
    "\n",
    "learning_rate = 0.025 # \n",
    "training_steps = 50 # number of epoch\n",
    "batch_size = 128 # пересчитывать веса сети мы будем не на всей выборке, а на ее случайном подможестве из batch_size элементов\n",
    "\n",
    "n_hidden_1 = 128 # количество нейронов 1-го слоя\n",
    "n_hidden_2 = 256 # количество нейронов 2-го слоя"
   ]
  },
  {
   "cell_type": "code",
   "execution_count": null,
   "id": "74108128",
   "metadata": {},
   "outputs": [],
   "source": [
    "# Преобразуем целочисленные пиксели к типа float32\n",
    "x_train, x_test = np.array(x_train, np.float32), np.array(x_test, np.float32)\n",
    "\n",
    "# Преобразуем матрицы размером 28x28 пикселей в вектор из 784 элементов\n",
    "x_train, x_test = x_train.reshape([-1, num_features]), x_test.reshape([-1, num_features])\n",
    "\n",
    "# Нормализуем значения пикселей\n",
    "x_train, x_test = x_train / 255., x_test / 255.\n",
    "\n",
    "# Convert labels to one-hot encoded format\n",
    "y_train = tf.keras.utils.to_categorical(y_train, num_classes)\n",
    "y_test = tf.keras.utils.to_categorical(y_test, num_classes)\n",
    "\n",
    "# Перемешаем тренировочные данные\n",
    "train_data = tf.data.Dataset.from_tensor_slices((x_train, y_train))\n",
    "train_data = train_data.repeat().shuffle(5000).batch(batch_size).prefetch(10)\n"
   ]
  },
  {
   "cell_type": "code",
   "execution_count": null,
   "id": "df2303e7",
   "metadata": {},
   "outputs": [],
   "source": [
    "from keras.models import Sequential\n",
    "from keras.layers import Dense"
   ]
  },
  {
   "cell_type": "code",
   "execution_count": null,
   "id": "05a0c8f2",
   "metadata": {},
   "outputs": [],
   "source": [
    "model = Sequential([\n",
    "    Dense(128, activation='relu', input_shape=(784,)),\n",
    "    Dense(256, activation='relu'),\n",
    "    Dense(10, activation='softmax'),\n",
    "])"
   ]
  },
  {
   "cell_type": "code",
   "execution_count": null,
   "id": "e4536361",
   "metadata": {},
   "outputs": [],
   "source": [
    "model.compile(\n",
    "    optimizer='SGD',\n",
    "    loss='categorical_crossentropy',\n",
    "    metrics=['accuracy']\n",
    ")"
   ]
  },
  {
   "cell_type": "code",
   "execution_count": null,
   "id": "1e19de30",
   "metadata": {},
   "outputs": [],
   "source": [
    "x_val = x_train[:20000]\n",
    "partial_x_train = x_train[20000:]\n",
    "\n",
    "y_val = y_train[:20000]\n",
    "partial_y_train = y_train[20000:]"
   ]
  },
  {
   "cell_type": "code",
   "execution_count": null,
   "id": "031f44ef",
   "metadata": {},
   "outputs": [],
   "source": [
    "history = model.fit(\n",
    "    partial_x_train,\n",
    "    partial_y_train,\n",
    "    epochs=training_steps,\n",
    "    batch_size=batch_size,\n",
    "    validation_data=(x_val, y_val)\n",
    ")"
   ]
  },
  {
   "cell_type": "code",
   "execution_count": null,
   "id": "0e89b8e3",
   "metadata": {},
   "outputs": [],
   "source": [
    "results = model.evaluate(x_test, y_test)\n",
    "print(results)"
   ]
  },
  {
   "cell_type": "code",
   "execution_count": null,
   "id": "211957d3",
   "metadata": {},
   "outputs": [],
   "source": [
    "import matplotlib.pyplot as plt\n",
    "\n",
    "\n",
    "history_dict = history.history\n",
    "loss_values = history_dict['loss']\n",
    "val_loss_values = history_dict['val_loss']\n",
    "\n",
    "epochs = range(1, len(history_dict['accuracy']) + 1)\n",
    "\n",
    "plt.plot(epochs, loss_values, 'bo', label='Training loss')\n",
    "plt.plot(epochs, val_loss_values, 'b', label='Validation loss')\n",
    "plt.title('Training and validation loss')\n",
    "plt.xlabel('Epochs')\n",
    "plt.ylabel('Loss')\n",
    "plt.legend()\n",
    "plt.show()\n",
    "\n",
    "plt.clf()\n",
    "val_acc_values = history_dict['val_accuracy']\n",
    "plt.plot(epochs, history_dict['accuracy'], 'bo', label='Training acc')\n",
    "plt.plot(epochs, history_dict['val_accuracy'], 'b', label='Validation acc')\n",
    "plt.title('Training and validation accuracy')\n",
    "plt.xlabel('Epochs')\n",
    "plt.ylabel('Loss')\n",
    "plt.legend()"
   ]
  },
  {
   "cell_type": "code",
   "execution_count": null,
   "id": "8a4cd50e",
   "metadata": {},
   "outputs": [],
   "source": [
    "model.save(\"sgd_b128_ep50\")"
   ]
  },
  {
   "cell_type": "code",
   "execution_count": null,
   "id": "a0c1c904",
   "metadata": {},
   "outputs": [],
   "source": [
    "random_index = np.random.randint(0, len(x_test))\n",
    "result = model.predict(x_test[random_index, :].reshape(1, 784))\n",
    "\n",
    "predicted_class = np.argmax(result)\n",
    "\n",
    "class_names = ['T-shirt/top', 'Trouser', 'Pullover', 'Dress', 'Coat',\n",
    "               'Sandal', 'Shirt', 'Sneaker', 'Bag', 'Ankle boot']\n",
    "\n",
    "predicted_class_name = class_names[predicted_class]\n",
    "print(f\"Predicted class: {predicted_class}\")"
   ]
  },
  {
   "cell_type": "code",
   "execution_count": null,
   "id": "8dd86c4f",
   "metadata": {},
   "outputs": [],
   "source": [
    "\n",
    "plt.imshow(x_test[random_index, :].reshape(28, 28), cmap='gray')\n",
    "plt.title(f\"Label: {predicted_class_name}\")\n",
    "plt.show()"
   ]
  },
  {
   "cell_type": "code",
   "execution_count": null,
   "id": "ef8afe6a",
   "metadata": {},
   "outputs": [],
   "source": [
    "# MODEL Adam_b32_ep100_drop\n",
    "\n",
    "from tensorflow import keras\n",
    "\n",
    "import tensorflow as tf\n",
    "import numpy as np\n",
    "import matplotlib.pyplot as plt\n",
    "\n",
    "(x_train, y_train), (x_test, y_test) = keras.datasets.fashion_mnist.load_data()\n",
    "assert x_train.shape == (60000, 28, 28)\n",
    "assert x_test.shape == (10000, 28, 28)\n",
    "assert y_train.shape == (60000,)\n",
    "assert y_test.shape == (10000,)\n",
    "\n",
    "# Initial data\n",
    "num_classes = 10 # total class number\n",
    "num_features = 784 # input layer vector 28 * 28 = 784\n",
    "\n",
    "learning_rate = 0.025 # \n",
    "training_steps = 100 # number of epoch\n",
    "batch_size = 32 # пересчитывать веса сети мы будем не на всей выборке, а на ее случайном подможестве из batch_size элементов\n",
    "\n",
    "n_hidden_1 = 128 # количество нейронов 1-го слоя\n",
    "n_hidden_2 = 256 # количество нейронов 2-го слоя\n",
    "\n",
    "# Преобразуем целочисленные пиксели к типа float32\n",
    "x_train, x_test = np.array(x_train, np.float32), np.array(x_test, np.float32)\n",
    "\n",
    "# Преобразуем матрицы размером 28x28 пикселей в вектор из 784 элементов\n",
    "x_train, x_test = x_train.reshape([-1, num_features]), x_test.reshape([-1, num_features])\n",
    "\n",
    "# Нормализуем значения пикселей\n",
    "x_train, x_test = x_train / 255., x_test / 255.\n",
    "\n",
    "# Convert labels to one-hot encoded format\n",
    "y_train = tf.keras.utils.to_categorical(y_train, num_classes)\n",
    "y_test = tf.keras.utils.to_categorical(y_test, num_classes)\n",
    "\n",
    "# Перемешаем тренировочные данные\n",
    "train_data = tf.data.Dataset.from_tensor_slices((x_train, y_train))\n",
    "train_data = train_data.repeat().shuffle(5000).batch(batch_size).prefetch(10)\n",
    "\n",
    "\n",
    "from keras.models import Sequential\n",
    "from keras.layers import Dense\n",
    "from keras.layers import Dropout\n",
    "\n",
    "model = Sequential([\n",
    "    Dense(128, activation='relu', input_shape=(784,)),\n",
    "    Dropout(0.5),\n",
    "    Dense(256, activation='relu'),\n",
    "    Dropout(0.5),\n",
    "    Dense(10, activation='softmax'),\n",
    "])\n",
    "\n",
    "model.compile(\n",
    "    optimizer='Adam',\n",
    "    loss='categorical_crossentropy',\n",
    "    metrics=['accuracy']\n",
    ")\n",
    "\n",
    "x_val = x_train[:20000]\n",
    "partial_x_train = x_train[20000:]\n",
    "\n",
    "y_val = y_train[:20000]\n",
    "partial_y_train = y_train[20000:]\n",
    "\n",
    "history = model.fit(\n",
    "    partial_x_train,\n",
    "    partial_y_train,\n",
    "    epochs=training_steps,\n",
    "    batch_size=batch_size,\n",
    "    validation_data=(x_val, y_val)\n",
    ")\n",
    "\n",
    "results = model.evaluate(x_test, y_test)\n",
    "print(results)\n",
    "\n"
   ]
  },
  {
   "cell_type": "code",
   "execution_count": null,
   "id": "f2e83016",
   "metadata": {},
   "outputs": [],
   "source": [
    "results = model.evaluate(x_test, y_test)\n",
    "print(results)"
   ]
  },
  {
   "cell_type": "code",
   "execution_count": null,
   "id": "f4afcb03",
   "metadata": {},
   "outputs": [],
   "source": [
    "import matplotlib.pyplot as plt\n",
    "\n",
    "\n",
    "history_dict = history.history\n",
    "loss_values = history_dict['loss']\n",
    "val_loss_values = history_dict['val_loss']\n",
    "\n",
    "epochs = range(1, len(history_dict['accuracy']) + 1)\n",
    "\n",
    "plt.plot(epochs, loss_values, 'bo', label='Training loss')\n",
    "plt.plot(epochs, val_loss_values, 'b', label='Validation loss')\n",
    "plt.title('Training and validation loss')\n",
    "plt.xlabel('Epochs')\n",
    "plt.ylabel('Loss')\n",
    "plt.legend()\n",
    "plt.show()\n",
    "\n",
    "plt.clf()\n",
    "val_acc_values = history_dict['val_accuracy']\n",
    "plt.plot(epochs, history_dict['accuracy'], 'bo', label='Training acc')\n",
    "plt.plot(epochs, history_dict['val_accuracy'], 'b', label='Validation acc')\n",
    "plt.title('Training and validation accuracy')\n",
    "plt.xlabel('Epochs')\n",
    "plt.ylabel('Loss')\n",
    "plt.legend()\n",
    "\n",
    "model.save(\"Adam_b32_ep100_drop\")\n",
    "\n"
   ]
  },
  {
   "cell_type": "code",
   "execution_count": null,
   "id": "08be7ae4",
   "metadata": {
    "scrolled": true
   },
   "outputs": [],
   "source": [
    "random_index = np.random.randint(0, len(x_test))\n",
    "result = model.predict(x_test[random_index, :].reshape(1, 784))\n",
    "\n",
    "predicted_class = np.argmax(result)\n",
    "\n",
    "class_names = ['T-shirt/top', 'Trouser', 'Pullover', 'Dress', 'Coat',\n",
    "               'Sandal', 'Shirt', 'Sneaker', 'Bag', 'Ankle boot']\n",
    "\n",
    "predicted_class_name = class_names[predicted_class]\n",
    "print(f\"Predicted class: {predicted_class}\")\n",
    "\n",
    "\n",
    "plt.imshow(x_test[random_index, :].reshape(28, 28), cmap='gray')\n",
    "plt.title(f\"Label: {predicted_class_name}\")\n",
    "plt.show()"
   ]
  },
  {
   "cell_type": "markdown",
   "id": "32b85457",
   "metadata": {},
   "source": [
    "# MODEL Adamax_b128_ep50_drop"
   ]
  },
  {
   "cell_type": "code",
   "execution_count": null,
   "id": "8b0fd986",
   "metadata": {},
   "outputs": [],
   "source": [
    "from tensorflow import keras"
   ]
  },
  {
   "cell_type": "code",
   "execution_count": null,
   "id": "25268887",
   "metadata": {},
   "outputs": [],
   "source": [
    "import tensorflow as tf\n",
    "import numpy as np\n",
    "import matplotlib.pyplot as plt"
   ]
  },
  {
   "cell_type": "code",
   "execution_count": null,
   "id": "327e691b",
   "metadata": {},
   "outputs": [],
   "source": [
    "(x_train, y_train), (x_test, y_test) = keras.datasets.fashion_mnist.load_data()\n",
    "assert x_train.shape == (60000, 28, 28)\n",
    "assert x_test.shape == (10000, 28, 28)\n",
    "assert y_train.shape == (60000,)\n",
    "assert y_test.shape == (10000,)"
   ]
  },
  {
   "cell_type": "code",
   "execution_count": null,
   "id": "f3e157d2",
   "metadata": {},
   "outputs": [],
   "source": [
    "# Initial data\n",
    "num_classes = 10 # total class number\n",
    "num_features = 784 # input layer vector 28 * 28 = 784\n",
    "\n",
    "learning_rate = 0.025 # \n",
    "training_steps = 50 # number of epoch\n",
    "batch_size = 128 # пересчитывать веса сети мы будем не на всей выборке, а на ее случайном подможестве из batch_size элементов\n",
    "\n",
    "n_hidden_1 = 128 # количество нейронов 1-го слоя\n",
    "n_hidden_2 = 256 # количество нейронов 2-го слоя"
   ]
  },
  {
   "cell_type": "code",
   "execution_count": null,
   "id": "2235c141",
   "metadata": {},
   "outputs": [],
   "source": [
    "# Преобразуем целочисленные пиксели к типа float32\n",
    "x_train, x_test = np.array(x_train, np.float32), np.array(x_test, np.float32)\n",
    "\n",
    "# Преобразуем матрицы размером 28x28 пикселей в вектор из 784 элементов\n",
    "x_train, x_test = x_train.reshape([-1, num_features]), x_test.reshape([-1, num_features])\n",
    "\n",
    "# Нормализуем значения пикселей\n",
    "x_train, x_test = x_train / 255., x_test / 255.\n",
    "\n",
    "# Convert labels to one-hot encoded format\n",
    "y_train = tf.keras.utils.to_categorical(y_train, num_classes)\n",
    "y_test = tf.keras.utils.to_categorical(y_test, num_classes)\n",
    "\n",
    "# Перемешаем тренировочные данные\n",
    "train_data = tf.data.Dataset.from_tensor_slices((x_train, y_train))\n",
    "train_data = train_data.repeat().shuffle(5000).batch(batch_size).prefetch(10)\n"
   ]
  },
  {
   "cell_type": "code",
   "execution_count": null,
   "id": "c416ce4e",
   "metadata": {},
   "outputs": [],
   "source": [
    "from keras.models import Sequential\n",
    "from keras.layers import Dense"
   ]
  },
  {
   "cell_type": "code",
   "execution_count": null,
   "id": "f2da6bc2",
   "metadata": {},
   "outputs": [],
   "source": [
    "model = Sequential([\n",
    "    Dense(128, activation='relu', input_shape=(784,)),\n",
    "    Dropout(0.5),\n",
    "    Dense(256, activation='relu'),\n",
    "    Dropout(0.5),\n",
    "    Dense(10, activation='softmax'),\n",
    "])"
   ]
  },
  {
   "cell_type": "code",
   "execution_count": null,
   "id": "0fe1f551",
   "metadata": {},
   "outputs": [],
   "source": [
    "model.compile(\n",
    "    optimizer='Adamax',\n",
    "    loss='categorical_crossentropy',\n",
    "    metrics=['accuracy']\n",
    ")"
   ]
  },
  {
   "cell_type": "code",
   "execution_count": null,
   "id": "c3495a5e",
   "metadata": {},
   "outputs": [],
   "source": [
    "x_val = x_train[:20000]\n",
    "partial_x_train = x_train[20000:]\n",
    "\n",
    "y_val = y_train[:20000]\n",
    "partial_y_train = y_train[20000:]"
   ]
  },
  {
   "cell_type": "code",
   "execution_count": null,
   "id": "04770e46",
   "metadata": {},
   "outputs": [],
   "source": [
    "history = model.fit(\n",
    "    partial_x_train,\n",
    "    partial_y_train,\n",
    "    epochs=training_steps,\n",
    "    batch_size=batch_size,\n",
    "    validation_data=(x_val, y_val)\n",
    ")"
   ]
  },
  {
   "cell_type": "code",
   "execution_count": null,
   "id": "98df896d",
   "metadata": {},
   "outputs": [],
   "source": [
    "results = model.evaluate(x_test, y_test)\n",
    "print(results)"
   ]
  },
  {
   "cell_type": "code",
   "execution_count": null,
   "id": "d8f04172",
   "metadata": {},
   "outputs": [],
   "source": [
    "import matplotlib.pyplot as plt\n",
    "\n",
    "\n",
    "history_dict = history.history\n",
    "loss_values = history_dict['loss']\n",
    "val_loss_values = history_dict['val_loss']\n",
    "\n",
    "epochs = range(1, len(history_dict['accuracy']) + 1)\n",
    "\n",
    "plt.plot(epochs, loss_values, 'bo', label='Training loss')\n",
    "plt.plot(epochs, val_loss_values, 'b', label='Validation loss')\n",
    "plt.title('Training and validation loss')\n",
    "plt.xlabel('Epochs')\n",
    "plt.ylabel('Loss')\n",
    "plt.legend()\n",
    "plt.show()\n",
    "\n",
    "plt.clf()\n",
    "val_acc_values = history_dict['val_accuracy']\n",
    "plt.plot(epochs, history_dict['accuracy'], 'bo', label='Training acc')\n",
    "plt.plot(epochs, history_dict['val_accuracy'], 'b', label='Validation acc')\n",
    "plt.title('Training and validation accuracy')\n",
    "plt.xlabel('Epochs')\n",
    "plt.ylabel('Loss')\n",
    "plt.legend()"
   ]
  },
  {
   "cell_type": "code",
   "execution_count": null,
   "id": "29555fc9",
   "metadata": {},
   "outputs": [],
   "source": [
    "model.save(\"Adamax_b128_ep50_drop\")"
   ]
  },
  {
   "cell_type": "code",
   "execution_count": null,
   "id": "afd6e164",
   "metadata": {},
   "outputs": [],
   "source": [
    "random_index = np.random.randint(0, len(x_test))\n",
    "result = model.predict(x_test[random_index, :].reshape(1, 784))\n",
    "\n",
    "predicted_class = np.argmax(result)\n",
    "\n",
    "class_names = ['T-shirt/top', 'Trouser', 'Pullover', 'Dress', 'Coat',\n",
    "               'Sandal', 'Shirt', 'Sneaker', 'Bag', 'Ankle boot']\n",
    "\n",
    "predicted_class_name = class_names[predicted_class]\n",
    "print(f\"Predicted class: {predicted_class}\")"
   ]
  },
  {
   "cell_type": "code",
   "execution_count": null,
   "id": "77009f75",
   "metadata": {},
   "outputs": [],
   "source": [
    "\n",
    "plt.imshow(x_test[random_index, :].reshape(28, 28), cmap='gray')\n",
    "plt.title(f\"Predicted Label: {predicted_class_name}\")\n",
    "plt.show()"
   ]
  },
  {
   "cell_type": "markdown",
   "id": "8b90ab7f",
   "metadata": {},
   "source": [
    "# MODEL Adamax_b128_ep50_drop_reg"
   ]
  },
  {
   "cell_type": "code",
   "execution_count": null,
   "id": "9820a7e6",
   "metadata": {},
   "outputs": [],
   "source": [
    "from tensorflow import keras"
   ]
  },
  {
   "cell_type": "code",
   "execution_count": null,
   "id": "7df03061",
   "metadata": {},
   "outputs": [],
   "source": [
    "import tensorflow as tf\n",
    "import numpy as np\n",
    "import matplotlib.pyplot as plt"
   ]
  },
  {
   "cell_type": "code",
   "execution_count": null,
   "id": "1fff12d6",
   "metadata": {},
   "outputs": [],
   "source": [
    "(x_train, y_train), (x_test, y_test) = keras.datasets.fashion_mnist.load_data()\n",
    "assert x_train.shape == (60000, 28, 28)\n",
    "assert x_test.shape == (10000, 28, 28)\n",
    "assert y_train.shape == (60000,)\n",
    "assert y_test.shape == (10000,)"
   ]
  },
  {
   "cell_type": "code",
   "execution_count": null,
   "id": "b01e91c7",
   "metadata": {},
   "outputs": [],
   "source": [
    "# Initial data\n",
    "num_classes = 10 # total class number\n",
    "num_features = 784 # input layer vector 28 * 28 = 784\n",
    "\n",
    "learning_rate = 0.025 # \n",
    "training_steps = 50 # number of epoch\n",
    "batch_size = 128 # пересчитывать веса сети мы будем не на всей выборке, а на ее случайном подможестве из batch_size элементов\n",
    "\n",
    "n_hidden_1 = 128 # количество нейронов 1-го слоя\n",
    "n_hidden_2 = 256 # количество нейронов 2-го слоя"
   ]
  },
  {
   "cell_type": "code",
   "execution_count": null,
   "id": "922482f7",
   "metadata": {},
   "outputs": [],
   "source": [
    "# Преобразуем целочисленные пиксели к типа float32\n",
    "x_train, x_test = np.array(x_train, np.float32), np.array(x_test, np.float32)\n",
    "\n",
    "# Преобразуем матрицы размером 28x28 пикселей в вектор из 784 элементов\n",
    "x_train, x_test = x_train.reshape([-1, num_features]), x_test.reshape([-1, num_features])\n",
    "\n",
    "# Нормализуем значения пикселей\n",
    "x_train, x_test = x_train / 255., x_test / 255.\n",
    "\n",
    "# Convert labels to one-hot encoded format\n",
    "y_train = tf.keras.utils.to_categorical(y_train, num_classes)\n",
    "y_test = tf.keras.utils.to_categorical(y_test, num_classes)\n",
    "\n",
    "# Перемешаем тренировочные данные\n",
    "train_data = tf.data.Dataset.from_tensor_slices((x_train, y_train))\n",
    "train_data = train_data.repeat().shuffle(5000).batch(batch_size).prefetch(10)\n"
   ]
  },
  {
   "cell_type": "code",
   "execution_count": null,
   "id": "72880465",
   "metadata": {},
   "outputs": [],
   "source": [
    "from keras.models import Sequential\n",
    "from keras.layers import Dense"
   ]
  },
  {
   "cell_type": "code",
   "execution_count": null,
   "id": "cf6c27db",
   "metadata": {},
   "outputs": [],
   "source": [
    "model = Sequential([\n",
    "    Dense(128, activation='relu', input_shape=(784,), kernel_regularizer='l2'),\n",
    "    Dropout(0.5),\n",
    "    Dense(256, activation='relu', kernel_regularizer='l2'),\n",
    "    Dropout(0.5),\n",
    "    Dense(10, activation='softmax'),\n",
    "])"
   ]
  },
  {
   "cell_type": "code",
   "execution_count": null,
   "id": "5c65b5a1",
   "metadata": {},
   "outputs": [],
   "source": [
    "model.compile(\n",
    "    optimizer='Adamax',\n",
    "    loss='categorical_crossentropy',\n",
    "    metrics=['accuracy']\n",
    ")"
   ]
  },
  {
   "cell_type": "code",
   "execution_count": null,
   "id": "c436ce4a",
   "metadata": {},
   "outputs": [],
   "source": [
    "x_val = x_train[:20000]\n",
    "partial_x_train = x_train[20000:]\n",
    "\n",
    "y_val = y_train[:20000]\n",
    "partial_y_train = y_train[20000:]"
   ]
  },
  {
   "cell_type": "code",
   "execution_count": null,
   "id": "d04490c7",
   "metadata": {},
   "outputs": [],
   "source": [
    "history = model.fit(\n",
    "    partial_x_train,\n",
    "    partial_y_train,\n",
    "    epochs=training_steps,\n",
    "    batch_size=batch_size,\n",
    "    validation_data=(x_val, y_val)\n",
    ")"
   ]
  },
  {
   "cell_type": "code",
   "execution_count": null,
   "id": "af1c9f09",
   "metadata": {},
   "outputs": [],
   "source": [
    "results = model.evaluate(x_test, y_test)\n",
    "print(results)"
   ]
  },
  {
   "cell_type": "code",
   "execution_count": null,
   "id": "c10a8499",
   "metadata": {},
   "outputs": [],
   "source": [
    "import matplotlib.pyplot as plt\n",
    "\n",
    "\n",
    "history_dict = history.history\n",
    "loss_values = history_dict['loss']\n",
    "val_loss_values = history_dict['val_loss']\n",
    "\n",
    "epochs = range(1, len(history_dict['accuracy']) + 1)\n",
    "\n",
    "plt.plot(epochs, loss_values, 'bo', label='Training loss')\n",
    "plt.plot(epochs, val_loss_values, 'b', label='Validation loss')\n",
    "plt.title('Training and validation loss')\n",
    "plt.xlabel('Epochs')\n",
    "plt.ylabel('Loss')\n",
    "plt.legend()\n",
    "plt.show()\n",
    "\n",
    "plt.clf()\n",
    "val_acc_values = history_dict['val_accuracy']\n",
    "plt.plot(epochs, history_dict['accuracy'], 'bo', label='Training acc')\n",
    "plt.plot(epochs, history_dict['val_accuracy'], 'b', label='Validation acc')\n",
    "plt.title('Training and validation accuracy')\n",
    "plt.xlabel('Epochs')\n",
    "plt.ylabel('Loss')\n",
    "plt.legend()"
   ]
  },
  {
   "cell_type": "code",
   "execution_count": null,
   "id": "4280fedc",
   "metadata": {},
   "outputs": [],
   "source": [
    "model.save(\"Adamax_b128_ep50_drop_reg\")"
   ]
  },
  {
   "cell_type": "code",
   "execution_count": null,
   "id": "476663cc",
   "metadata": {},
   "outputs": [],
   "source": [
    "random_index = np.random.randint(0, len(x_test))\n",
    "result = model.predict(x_test[random_index, :].reshape(1, 784))\n",
    "\n",
    "predicted_class = np.argmax(result)\n",
    "\n",
    "class_names = ['T-shirt/top', 'Trouser', 'Pullover', 'Dress', 'Coat',\n",
    "               'Sandal', 'Shirt', 'Sneaker', 'Bag', 'Ankle boot']\n",
    "\n",
    "predicted_class_name = class_names[predicted_class]\n",
    "print(f\"Predicted class: {predicted_class}\")"
   ]
  },
  {
   "cell_type": "code",
   "execution_count": null,
   "id": "06817a5f",
   "metadata": {},
   "outputs": [],
   "source": [
    "\n",
    "plt.imshow(x_test[random_index, :].reshape(28, 28), cmap='gray')\n",
    "plt.title(f\"Predicted Label: {predicted_class_name}\")\n",
    "plt.show()"
   ]
  },
  {
   "cell_type": "markdown",
   "id": "29abf26f",
   "metadata": {},
   "source": [
    "# MODEL Adamax_b32_ep50_drop_3layers"
   ]
  },
  {
   "cell_type": "code",
   "execution_count": null,
   "id": "360d04ee",
   "metadata": {},
   "outputs": [],
   "source": [
    "from tensorflow import keras"
   ]
  },
  {
   "cell_type": "code",
   "execution_count": null,
   "id": "34b1a295",
   "metadata": {},
   "outputs": [],
   "source": [
    "import tensorflow as tf\n",
    "import numpy as np\n",
    "import matplotlib.pyplot as plt"
   ]
  },
  {
   "cell_type": "code",
   "execution_count": null,
   "id": "fcff2663",
   "metadata": {},
   "outputs": [],
   "source": [
    "(x_train, y_train), (x_test, y_test) = keras.datasets.fashion_mnist.load_data()\n",
    "assert x_train.shape == (60000, 28, 28)\n",
    "assert x_test.shape == (10000, 28, 28)\n",
    "assert y_train.shape == (60000,)\n",
    "assert y_test.shape == (10000,)"
   ]
  },
  {
   "cell_type": "code",
   "execution_count": null,
   "id": "d16e90a5",
   "metadata": {},
   "outputs": [],
   "source": [
    "# Initial data\n",
    "num_classes = 10 # total class number\n",
    "num_features = 784 # input layer vector 28 * 28 = 784\n",
    "\n",
    "learning_rate = 0.025 # \n",
    "training_steps = 50 # number of epoch\n",
    "batch_size = 32 # пересчитывать веса сети мы будем не на всей выборке, а на ее случайном подможестве из batch_size элементов\n",
    "\n",
    "n_hidden_1 = 128 # количество нейронов 1-го слоя\n",
    "n_hidden_2 = 256 # количество нейронов 2-го слоя\n",
    "n_hidden_3 = 512 # количество нейронов 3-го слоя"
   ]
  },
  {
   "cell_type": "code",
   "execution_count": null,
   "id": "63c9e905",
   "metadata": {},
   "outputs": [],
   "source": [
    "# Преобразуем целочисленные пиксели к типа float32\n",
    "x_train, x_test = np.array(x_train, np.float32), np.array(x_test, np.float32)\n",
    "\n",
    "# Преобразуем матрицы размером 28x28 пикселей в вектор из 784 элементов\n",
    "x_train, x_test = x_train.reshape([-1, num_features]), x_test.reshape([-1, num_features])\n",
    "\n",
    "# Нормализуем значения пикселей\n",
    "x_train, x_test = x_train / 255., x_test / 255.\n",
    "\n",
    "# Convert labels to one-hot encoded format\n",
    "y_train = tf.keras.utils.to_categorical(y_train, num_classes)\n",
    "y_test = tf.keras.utils.to_categorical(y_test, num_classes)\n",
    "\n",
    "# Перемешаем тренировочные данные\n",
    "train_data = tf.data.Dataset.from_tensor_slices((x_train, y_train))\n",
    "train_data = train_data.repeat().shuffle(5000).batch(batch_size).prefetch(10)\n"
   ]
  },
  {
   "cell_type": "code",
   "execution_count": null,
   "id": "f370be54",
   "metadata": {},
   "outputs": [],
   "source": [
    "from keras.models import Sequential\n",
    "from keras.layers import Dense\n",
    "from keras.layers import Dropout"
   ]
  },
  {
   "cell_type": "code",
   "execution_count": null,
   "id": "cde3947d",
   "metadata": {},
   "outputs": [],
   "source": [
    "model = Sequential([\n",
    "    Dense(n_hidden_1, activation='relu', input_shape=(784,)),\n",
    "    Dropout(0.3),\n",
    "    Dense(n_hidden_2, activation='relu'),\n",
    "    Dropout(0.3),\n",
    "    Dense(n_hidden_3, activation='relu'),\n",
    "    Dropout(0.3),\n",
    "    Dense(10, activation='softmax'),\n",
    "])"
   ]
  },
  {
   "cell_type": "code",
   "execution_count": null,
   "id": "4736d3a4",
   "metadata": {},
   "outputs": [],
   "source": [
    "model.compile(\n",
    "    optimizer='Adamax',\n",
    "    loss='categorical_crossentropy',\n",
    "    metrics=['accuracy']\n",
    ")"
   ]
  },
  {
   "cell_type": "code",
   "execution_count": null,
   "id": "9e87cc57",
   "metadata": {},
   "outputs": [],
   "source": [
    "x_val = x_train[:30000]\n",
    "partial_x_train = x_train[30000:]\n",
    "\n",
    "y_val = y_train[:30000]\n",
    "partial_y_train = y_train[30000:]"
   ]
  },
  {
   "cell_type": "code",
   "execution_count": null,
   "id": "13af859d",
   "metadata": {},
   "outputs": [],
   "source": [
    "history = model.fit(\n",
    "    partial_x_train,\n",
    "    partial_y_train,\n",
    "    epochs=training_steps,\n",
    "    batch_size=batch_size,\n",
    "    validation_data=(x_val, y_val)\n",
    ")"
   ]
  },
  {
   "cell_type": "code",
   "execution_count": null,
   "id": "5c39cf5c",
   "metadata": {},
   "outputs": [],
   "source": [
    "results = model.evaluate(x_test, y_test)\n",
    "print(results)"
   ]
  },
  {
   "cell_type": "code",
   "execution_count": null,
   "id": "dba18503",
   "metadata": {},
   "outputs": [],
   "source": [
    "import matplotlib.pyplot as plt\n",
    "\n",
    "\n",
    "history_dict = history.history\n",
    "loss_values = history_dict['loss']\n",
    "val_loss_values = history_dict['val_loss']\n",
    "\n",
    "epochs = range(1, len(history_dict['accuracy']) + 1)\n",
    "\n",
    "plt.plot(epochs, loss_values, 'bo', label='Training loss')\n",
    "plt.plot(epochs, val_loss_values, 'b', label='Validation loss')\n",
    "plt.title('Training and validation loss')\n",
    "plt.xlabel('Epochs')\n",
    "plt.ylabel('Loss')\n",
    "plt.legend()\n",
    "plt.show()\n",
    "\n",
    "plt.clf()\n",
    "val_acc_values = history_dict['val_accuracy']\n",
    "plt.plot(epochs, history_dict['accuracy'], 'bo', label='Training acc')\n",
    "plt.plot(epochs, history_dict['val_accuracy'], 'b', label='Validation acc')\n",
    "plt.title('Training and validation accuracy')\n",
    "plt.xlabel('Epochs')\n",
    "plt.ylabel('Loss')\n",
    "plt.legend()"
   ]
  },
  {
   "cell_type": "code",
   "execution_count": null,
   "id": "ef43352b",
   "metadata": {},
   "outputs": [],
   "source": [
    "model.save(\"Adamax_b32_ep50_drop_3layers\")"
   ]
  },
  {
   "cell_type": "code",
   "execution_count": null,
   "id": "41332b07",
   "metadata": {},
   "outputs": [],
   "source": [
    "random_index = np.random.randint(0, len(x_test))\n",
    "result = model.predict(x_test[random_index, :].reshape(1, 784))\n",
    "\n",
    "predicted_class = np.argmax(result)\n",
    "\n",
    "class_names = ['T-shirt/top', 'Trouser', 'Pullover', 'Dress', 'Coat',\n",
    "               'Sandal', 'Shirt', 'Sneaker', 'Bag', 'Ankle boot']\n",
    "\n",
    "predicted_class_name = class_names[predicted_class]\n",
    "print(f\"Predicted class: {predicted_class}\")"
   ]
  },
  {
   "cell_type": "code",
   "execution_count": null,
   "id": "b06b4527",
   "metadata": {},
   "outputs": [],
   "source": [
    "\n",
    "plt.imshow(x_test[random_index, :].reshape(28, 28), cmap='gray')\n",
    "plt.title(f\"Predicted Label: {predicted_class_name}\")\n",
    "plt.show()"
   ]
  },
  {
   "cell_type": "markdown",
   "id": "f902d5e9",
   "metadata": {},
   "source": [
    "# MODEL sgd_b13_l28_28_56_ep1000"
   ]
  },
  {
   "cell_type": "code",
   "execution_count": 1,
   "id": "eb9d774e",
   "metadata": {},
   "outputs": [],
   "source": [
    "from tensorflow import keras"
   ]
  },
  {
   "cell_type": "code",
   "execution_count": 2,
   "id": "278915e4",
   "metadata": {},
   "outputs": [],
   "source": [
    "import tensorflow as tf\n",
    "import numpy as np\n",
    "import matplotlib.pyplot as plt"
   ]
  },
  {
   "cell_type": "code",
   "execution_count": 3,
   "id": "eb523019",
   "metadata": {},
   "outputs": [],
   "source": [
    "(x_train, y_train), (x_test, y_test) = keras.datasets.fashion_mnist.load_data()\n",
    "assert x_train.shape == (60000, 28, 28)\n",
    "assert x_test.shape == (10000, 28, 28)\n",
    "assert y_train.shape == (60000,)\n",
    "assert y_test.shape == (10000,)"
   ]
  },
  {
   "cell_type": "code",
   "execution_count": 4,
   "id": "3fe24b10",
   "metadata": {},
   "outputs": [],
   "source": [
    "# Initial data\n",
    "num_classes = 10 # total class number\n",
    "num_features = 784 # input layer vector 28 * 28 = 784\n",
    "\n",
    "learning_rate = 0.025 # \n",
    "training_steps = 1000 # number of epoch\n",
    "batch_size = 13 # пересчитывать веса сети мы будем не на всей выборке, а на ее случайном подможестве из batch_size элементов\n",
    "\n",
    "n_hidden_1 = 28 # количество нейронов 1-го слоя\n",
    "n_hidden_2 = 28 # количество нейронов 2-го слоя\n",
    "n_hidden_3 = 56 # количество нейронов 2-го слоя"
   ]
  },
  {
   "cell_type": "code",
   "execution_count": 5,
   "id": "1784d528",
   "metadata": {},
   "outputs": [],
   "source": [
    "# Преобразуем целочисленные пиксели к типа float32\n",
    "x_train, x_test = np.array(x_train, np.float32), np.array(x_test, np.float32)\n",
    "\n",
    "# Преобразуем матрицы размером 28x28 пикселей в вектор из 784 элементов\n",
    "x_train, x_test = x_train.reshape([-1, num_features]), x_test.reshape([-1, num_features])\n",
    "\n",
    "# Нормализуем значения пикселей\n",
    "x_train, x_test = x_train / 255., x_test / 255.\n",
    "\n",
    "# Convert labels to one-hot encoded format\n",
    "y_train = tf.keras.utils.to_categorical(y_train, num_classes)\n",
    "y_test = tf.keras.utils.to_categorical(y_test, num_classes)\n",
    "\n",
    "# Перемешаем тренировочные данные\n",
    "train_data = tf.data.Dataset.from_tensor_slices((x_train, y_train))\n",
    "train_data = train_data.repeat().shuffle(5000).batch(batch_size).prefetch(10)\n"
   ]
  },
  {
   "cell_type": "code",
   "execution_count": 6,
   "id": "66ad852e",
   "metadata": {},
   "outputs": [],
   "source": [
    "from keras.models import Sequential\n",
    "from keras.layers import Dense"
   ]
  },
  {
   "cell_type": "code",
   "execution_count": 7,
   "id": "a536eabc",
   "metadata": {},
   "outputs": [],
   "source": [
    "model = Sequential([\n",
    "    Dense(n_hidden_1, activation='relu', input_shape=(num_features,)),\n",
    "    Dense(n_hidden_2, activation='relu'),\n",
    "    Dense(n_hidden_3, activation='relu'),\n",
    "    Dense(num_classes, activation='softmax'),\n",
    "])"
   ]
  },
  {
   "cell_type": "code",
   "execution_count": 8,
   "id": "8ea66bc2",
   "metadata": {},
   "outputs": [],
   "source": [
    "model.compile(\n",
    "    optimizer='SGD',\n",
    "    loss='categorical_crossentropy',\n",
    "    metrics=['accuracy']\n",
    ")"
   ]
  },
  {
   "cell_type": "code",
   "execution_count": 9,
   "id": "f4081305",
   "metadata": {},
   "outputs": [],
   "source": [
    "x_val = x_train[:20000]\n",
    "partial_x_train = x_train[20000:]\n",
    "\n",
    "y_val = y_train[:20000]\n",
    "partial_y_train = y_train[20000:]"
   ]
  },
  {
   "cell_type": "code",
   "execution_count": 10,
   "id": "f2fe2a66",
   "metadata": {},
   "outputs": [
    {
     "name": "stdout",
     "output_type": "stream",
     "text": [
      "Epoch 1/1000\n",
      "3077/3077 [==============================] - 7s 2ms/step - loss: 0.8216 - accuracy: 0.7046 - val_loss: 0.5941 - val_accuracy: 0.7908\n",
      "Epoch 2/1000\n",
      "3077/3077 [==============================] - 7s 2ms/step - loss: 0.5086 - accuracy: 0.8208 - val_loss: 0.4594 - val_accuracy: 0.8378\n",
      "Epoch 3/1000\n",
      "3077/3077 [==============================] - 8s 3ms/step - loss: 0.4535 - accuracy: 0.8382 - val_loss: 0.4618 - val_accuracy: 0.8310\n",
      "Epoch 4/1000\n",
      "3077/3077 [==============================] - 7s 2ms/step - loss: 0.4216 - accuracy: 0.8477 - val_loss: 0.4214 - val_accuracy: 0.8460\n",
      "Epoch 5/1000\n",
      "3077/3077 [==============================] - 10s 3ms/step - loss: 0.4008 - accuracy: 0.8564 - val_loss: 0.4068 - val_accuracy: 0.8540\n",
      "Epoch 6/1000\n",
      "3077/3077 [==============================] - 9s 3ms/step - loss: 0.3829 - accuracy: 0.8613 - val_loss: 0.4182 - val_accuracy: 0.8461\n",
      "Epoch 7/1000\n",
      "3077/3077 [==============================] - 8s 3ms/step - loss: 0.3690 - accuracy: 0.8651 - val_loss: 0.3843 - val_accuracy: 0.8590\n",
      "Epoch 8/1000\n",
      "3077/3077 [==============================] - 7s 2ms/step - loss: 0.3574 - accuracy: 0.8706 - val_loss: 0.3882 - val_accuracy: 0.8564\n",
      "Epoch 9/1000\n",
      "3077/3077 [==============================] - 7s 2ms/step - loss: 0.3472 - accuracy: 0.8721 - val_loss: 0.3730 - val_accuracy: 0.8639\n",
      "Epoch 10/1000\n",
      "3077/3077 [==============================] - 7s 2ms/step - loss: 0.3387 - accuracy: 0.8753 - val_loss: 0.3700 - val_accuracy: 0.8651\n",
      "Epoch 11/1000\n",
      "3077/3077 [==============================] - 9s 3ms/step - loss: 0.3302 - accuracy: 0.8786 - val_loss: 0.3703 - val_accuracy: 0.8647\n",
      "Epoch 12/1000\n",
      "3077/3077 [==============================] - 10s 3ms/step - loss: 0.3238 - accuracy: 0.8824 - val_loss: 0.3895 - val_accuracy: 0.8590\n",
      "Epoch 13/1000\n",
      "3077/3077 [==============================] - 9s 3ms/step - loss: 0.3177 - accuracy: 0.8845 - val_loss: 0.3713 - val_accuracy: 0.8612\n",
      "Epoch 14/1000\n",
      "3077/3077 [==============================] - 8s 3ms/step - loss: 0.3124 - accuracy: 0.8849 - val_loss: 0.3562 - val_accuracy: 0.8686\n",
      "Epoch 15/1000\n",
      "3077/3077 [==============================] - 8s 2ms/step - loss: 0.3080 - accuracy: 0.8859 - val_loss: 0.3477 - val_accuracy: 0.8729\n",
      "Epoch 16/1000\n",
      "3077/3077 [==============================] - 8s 3ms/step - loss: 0.3030 - accuracy: 0.8876 - val_loss: 0.3660 - val_accuracy: 0.8694\n",
      "Epoch 17/1000\n",
      "3077/3077 [==============================] - 10s 3ms/step - loss: 0.2982 - accuracy: 0.8909 - val_loss: 0.3921 - val_accuracy: 0.8570\n",
      "Epoch 18/1000\n",
      "3077/3077 [==============================] - 8s 3ms/step - loss: 0.2945 - accuracy: 0.8921 - val_loss: 0.3662 - val_accuracy: 0.8645\n",
      "Epoch 19/1000\n",
      "3077/3077 [==============================] - 8s 3ms/step - loss: 0.2911 - accuracy: 0.8921 - val_loss: 0.3454 - val_accuracy: 0.8753\n",
      "Epoch 20/1000\n",
      "3077/3077 [==============================] - 8s 2ms/step - loss: 0.2845 - accuracy: 0.8964 - val_loss: 0.3431 - val_accuracy: 0.8759\n",
      "Epoch 21/1000\n",
      "3077/3077 [==============================] - 8s 2ms/step - loss: 0.2818 - accuracy: 0.8970 - val_loss: 0.3514 - val_accuracy: 0.8715\n",
      "Epoch 22/1000\n",
      "3077/3077 [==============================] - 9s 3ms/step - loss: 0.2795 - accuracy: 0.8969 - val_loss: 0.3613 - val_accuracy: 0.8712\n",
      "Epoch 23/1000\n",
      "3077/3077 [==============================] - 9s 3ms/step - loss: 0.2755 - accuracy: 0.8981 - val_loss: 0.3623 - val_accuracy: 0.8687\n",
      "Epoch 24/1000\n",
      "3077/3077 [==============================] - 8s 3ms/step - loss: 0.2732 - accuracy: 0.8987 - val_loss: 0.3654 - val_accuracy: 0.8694\n",
      "Epoch 25/1000\n",
      "3077/3077 [==============================] - 8s 2ms/step - loss: 0.2706 - accuracy: 0.8993 - val_loss: 0.3642 - val_accuracy: 0.8711\n",
      "Epoch 26/1000\n",
      "3077/3077 [==============================] - 8s 3ms/step - loss: 0.2670 - accuracy: 0.9008 - val_loss: 0.3500 - val_accuracy: 0.8763\n",
      "Epoch 27/1000\n",
      "3077/3077 [==============================] - 8s 3ms/step - loss: 0.2635 - accuracy: 0.9034 - val_loss: 0.3475 - val_accuracy: 0.8775\n",
      "Epoch 28/1000\n",
      "3077/3077 [==============================] - 9s 3ms/step - loss: 0.2610 - accuracy: 0.9019 - val_loss: 0.3713 - val_accuracy: 0.8687\n",
      "Epoch 29/1000\n",
      "3077/3077 [==============================] - 9s 3ms/step - loss: 0.2578 - accuracy: 0.9042 - val_loss: 0.3615 - val_accuracy: 0.8717\n",
      "Epoch 30/1000\n",
      "3077/3077 [==============================] - 8s 3ms/step - loss: 0.2570 - accuracy: 0.9046 - val_loss: 0.3397 - val_accuracy: 0.8813\n",
      "Epoch 31/1000\n",
      "3077/3077 [==============================] - 9s 3ms/step - loss: 0.2533 - accuracy: 0.9070 - val_loss: 0.3589 - val_accuracy: 0.8727\n",
      "Epoch 32/1000\n",
      "3077/3077 [==============================] - 8s 3ms/step - loss: 0.2514 - accuracy: 0.9067 - val_loss: 0.3478 - val_accuracy: 0.8767\n",
      "Epoch 33/1000\n",
      "3077/3077 [==============================] - 9s 3ms/step - loss: 0.2483 - accuracy: 0.9072 - val_loss: 0.3567 - val_accuracy: 0.8727\n",
      "Epoch 34/1000\n",
      "3077/3077 [==============================] - 9s 3ms/step - loss: 0.2461 - accuracy: 0.9093 - val_loss: 0.3695 - val_accuracy: 0.8699\n",
      "Epoch 35/1000\n",
      "3077/3077 [==============================] - 10s 3ms/step - loss: 0.2451 - accuracy: 0.9086 - val_loss: 0.3469 - val_accuracy: 0.8781\n",
      "Epoch 36/1000\n",
      "3077/3077 [==============================] - 9s 3ms/step - loss: 0.2426 - accuracy: 0.9094 - val_loss: 0.3673 - val_accuracy: 0.8712\n",
      "Epoch 37/1000\n",
      "3077/3077 [==============================] - 8s 3ms/step - loss: 0.2403 - accuracy: 0.9099 - val_loss: 0.3705 - val_accuracy: 0.8743\n",
      "Epoch 38/1000\n",
      "3077/3077 [==============================] - 8s 3ms/step - loss: 0.2383 - accuracy: 0.9118 - val_loss: 0.3588 - val_accuracy: 0.8784\n",
      "Epoch 39/1000\n",
      "3077/3077 [==============================] - 9s 3ms/step - loss: 0.2362 - accuracy: 0.9120 - val_loss: 0.3557 - val_accuracy: 0.8783\n",
      "Epoch 40/1000\n",
      "3077/3077 [==============================] - 9s 3ms/step - loss: 0.2342 - accuracy: 0.9131 - val_loss: 0.3740 - val_accuracy: 0.8757\n",
      "Epoch 41/1000\n",
      "3077/3077 [==============================] - 8s 3ms/step - loss: 0.2322 - accuracy: 0.9129 - val_loss: 0.3755 - val_accuracy: 0.8756\n",
      "Epoch 42/1000\n",
      "3077/3077 [==============================] - 8s 3ms/step - loss: 0.2309 - accuracy: 0.9138 - val_loss: 0.3682 - val_accuracy: 0.8752\n",
      "Epoch 43/1000\n",
      "3077/3077 [==============================] - 8s 3ms/step - loss: 0.2282 - accuracy: 0.9144 - val_loss: 0.3785 - val_accuracy: 0.8713\n",
      "Epoch 44/1000\n",
      "3077/3077 [==============================] - 8s 3ms/step - loss: 0.2257 - accuracy: 0.9159 - val_loss: 0.3667 - val_accuracy: 0.8787\n",
      "Epoch 45/1000\n",
      "3077/3077 [==============================] - 8s 3ms/step - loss: 0.2249 - accuracy: 0.9157 - val_loss: 0.3706 - val_accuracy: 0.8729\n",
      "Epoch 46/1000\n",
      "3077/3077 [==============================] - 9s 3ms/step - loss: 0.2240 - accuracy: 0.9162 - val_loss: 0.3838 - val_accuracy: 0.8723\n",
      "Epoch 47/1000\n",
      "3077/3077 [==============================] - 8s 3ms/step - loss: 0.2208 - accuracy: 0.9179 - val_loss: 0.3739 - val_accuracy: 0.8766\n",
      "Epoch 48/1000\n",
      "3077/3077 [==============================] - 9s 3ms/step - loss: 0.2183 - accuracy: 0.9179 - val_loss: 0.3877 - val_accuracy: 0.8673\n",
      "Epoch 49/1000\n",
      "3077/3077 [==============================] - 9s 3ms/step - loss: 0.2173 - accuracy: 0.9177 - val_loss: 0.3830 - val_accuracy: 0.8729\n",
      "Epoch 50/1000\n",
      "3077/3077 [==============================] - 8s 3ms/step - loss: 0.2165 - accuracy: 0.9186 - val_loss: 0.3733 - val_accuracy: 0.8756\n",
      "Epoch 51/1000\n",
      "3077/3077 [==============================] - 9s 3ms/step - loss: 0.2143 - accuracy: 0.9191 - val_loss: 0.3875 - val_accuracy: 0.8724\n",
      "Epoch 52/1000\n",
      "3077/3077 [==============================] - 7s 2ms/step - loss: 0.2129 - accuracy: 0.9206 - val_loss: 0.3766 - val_accuracy: 0.8770\n",
      "Epoch 53/1000\n",
      "3077/3077 [==============================] - 10s 3ms/step - loss: 0.2099 - accuracy: 0.9199 - val_loss: 0.3763 - val_accuracy: 0.8745\n",
      "Epoch 54/1000\n",
      "3077/3077 [==============================] - 9s 3ms/step - loss: 0.2099 - accuracy: 0.9215 - val_loss: 0.3912 - val_accuracy: 0.8745\n",
      "Epoch 55/1000\n",
      "3077/3077 [==============================] - 8s 3ms/step - loss: 0.2076 - accuracy: 0.9225 - val_loss: 0.3985 - val_accuracy: 0.8752\n",
      "Epoch 56/1000\n",
      "3077/3077 [==============================] - 8s 3ms/step - loss: 0.2098 - accuracy: 0.9212 - val_loss: 0.3859 - val_accuracy: 0.8795\n"
     ]
    },
    {
     "name": "stdout",
     "output_type": "stream",
     "text": [
      "Epoch 57/1000\n",
      "3077/3077 [==============================] - 7s 2ms/step - loss: 0.2050 - accuracy: 0.9234 - val_loss: 0.3723 - val_accuracy: 0.8763\n",
      "Epoch 58/1000\n",
      "3077/3077 [==============================] - 8s 3ms/step - loss: 0.2025 - accuracy: 0.9243 - val_loss: 0.3811 - val_accuracy: 0.8766\n",
      "Epoch 59/1000\n",
      "3077/3077 [==============================] - 7s 2ms/step - loss: 0.2025 - accuracy: 0.9227 - val_loss: 0.3758 - val_accuracy: 0.8803\n",
      "Epoch 60/1000\n",
      "3077/3077 [==============================] - 7s 2ms/step - loss: 0.2013 - accuracy: 0.9250 - val_loss: 0.3797 - val_accuracy: 0.8763\n",
      "Epoch 61/1000\n",
      "3077/3077 [==============================] - 8s 2ms/step - loss: 0.2007 - accuracy: 0.9244 - val_loss: 0.3857 - val_accuracy: 0.8755\n",
      "Epoch 62/1000\n",
      "3077/3077 [==============================] - 7s 2ms/step - loss: 0.1989 - accuracy: 0.9254 - val_loss: 0.3827 - val_accuracy: 0.8747\n",
      "Epoch 63/1000\n",
      "3077/3077 [==============================] - 8s 3ms/step - loss: 0.1981 - accuracy: 0.9252 - val_loss: 0.3847 - val_accuracy: 0.8766\n",
      "Epoch 64/1000\n",
      "3077/3077 [==============================] - 8s 3ms/step - loss: 0.1966 - accuracy: 0.9264 - val_loss: 0.4013 - val_accuracy: 0.8773\n",
      "Epoch 65/1000\n",
      "3077/3077 [==============================] - 7s 2ms/step - loss: 0.1934 - accuracy: 0.9277 - val_loss: 0.3904 - val_accuracy: 0.8774\n",
      "Epoch 66/1000\n",
      "3077/3077 [==============================] - 8s 3ms/step - loss: 0.1928 - accuracy: 0.9274 - val_loss: 0.4020 - val_accuracy: 0.8752\n",
      "Epoch 67/1000\n",
      "3077/3077 [==============================] - 7s 2ms/step - loss: 0.1911 - accuracy: 0.9275 - val_loss: 0.4121 - val_accuracy: 0.8695\n",
      "Epoch 68/1000\n",
      "3077/3077 [==============================] - 7s 2ms/step - loss: 0.1911 - accuracy: 0.9278 - val_loss: 0.4088 - val_accuracy: 0.8747\n",
      "Epoch 69/1000\n",
      "3077/3077 [==============================] - 8s 3ms/step - loss: 0.1914 - accuracy: 0.9293 - val_loss: 0.4139 - val_accuracy: 0.8690\n",
      "Epoch 70/1000\n",
      "3077/3077 [==============================] - 9s 3ms/step - loss: 0.1906 - accuracy: 0.9288 - val_loss: 0.4063 - val_accuracy: 0.8731\n",
      "Epoch 71/1000\n",
      "3077/3077 [==============================] - 9s 3ms/step - loss: 0.1859 - accuracy: 0.9303 - val_loss: 0.3954 - val_accuracy: 0.8770\n",
      "Epoch 72/1000\n",
      "3077/3077 [==============================] - 7s 2ms/step - loss: 0.1856 - accuracy: 0.9307 - val_loss: 0.4090 - val_accuracy: 0.8765\n",
      "Epoch 73/1000\n",
      "3077/3077 [==============================] - 8s 3ms/step - loss: 0.1868 - accuracy: 0.9287 - val_loss: 0.4167 - val_accuracy: 0.8789\n",
      "Epoch 74/1000\n",
      "3077/3077 [==============================] - 8s 3ms/step - loss: 0.1833 - accuracy: 0.9318 - val_loss: 0.4031 - val_accuracy: 0.8776\n",
      "Epoch 75/1000\n",
      "3077/3077 [==============================] - 7s 2ms/step - loss: 0.1831 - accuracy: 0.9309 - val_loss: 0.4117 - val_accuracy: 0.8791\n",
      "Epoch 76/1000\n",
      "3077/3077 [==============================] - 8s 2ms/step - loss: 0.1815 - accuracy: 0.9322 - val_loss: 0.4027 - val_accuracy: 0.8783\n",
      "Epoch 77/1000\n",
      "3077/3077 [==============================] - 7s 2ms/step - loss: 0.1821 - accuracy: 0.9318 - val_loss: 0.4108 - val_accuracy: 0.8741\n",
      "Epoch 78/1000\n",
      "3077/3077 [==============================] - 8s 2ms/step - loss: 0.1823 - accuracy: 0.9308 - val_loss: 0.4063 - val_accuracy: 0.8801\n",
      "Epoch 79/1000\n",
      "3077/3077 [==============================] - 8s 3ms/step - loss: 0.1809 - accuracy: 0.9313 - val_loss: 0.4635 - val_accuracy: 0.8684\n",
      "Epoch 80/1000\n",
      "3077/3077 [==============================] - 8s 2ms/step - loss: 0.1765 - accuracy: 0.9334 - val_loss: 0.4214 - val_accuracy: 0.8750\n",
      "Epoch 81/1000\n",
      "3077/3077 [==============================] - 8s 3ms/step - loss: 0.1784 - accuracy: 0.9344 - val_loss: 0.4484 - val_accuracy: 0.8704\n",
      "Epoch 82/1000\n",
      "3077/3077 [==============================] - 7s 2ms/step - loss: 0.1737 - accuracy: 0.9344 - val_loss: 0.4360 - val_accuracy: 0.8738\n",
      "Epoch 83/1000\n",
      "3077/3077 [==============================] - 7s 2ms/step - loss: 0.1730 - accuracy: 0.9354 - val_loss: 0.4323 - val_accuracy: 0.8761\n",
      "Epoch 84/1000\n",
      "3077/3077 [==============================] - 8s 3ms/step - loss: 0.1750 - accuracy: 0.9344 - val_loss: 0.4322 - val_accuracy: 0.8740\n",
      "Epoch 85/1000\n",
      "3077/3077 [==============================] - 8s 2ms/step - loss: 0.1723 - accuracy: 0.9349 - val_loss: 0.4493 - val_accuracy: 0.8658\n",
      "Epoch 86/1000\n",
      "3077/3077 [==============================] - 8s 3ms/step - loss: 0.1724 - accuracy: 0.9345 - val_loss: 0.4215 - val_accuracy: 0.8787\n",
      "Epoch 87/1000\n",
      "3077/3077 [==============================] - 7s 2ms/step - loss: 0.1707 - accuracy: 0.9360 - val_loss: 0.4365 - val_accuracy: 0.8735\n",
      "Epoch 88/1000\n",
      "3077/3077 [==============================] - 8s 2ms/step - loss: 0.1688 - accuracy: 0.9385 - val_loss: 0.4457 - val_accuracy: 0.8737\n",
      "Epoch 89/1000\n",
      "3077/3077 [==============================] - 8s 3ms/step - loss: 0.1678 - accuracy: 0.9375 - val_loss: 0.4451 - val_accuracy: 0.8735\n",
      "Epoch 90/1000\n",
      "3077/3077 [==============================] - 8s 3ms/step - loss: 0.1685 - accuracy: 0.9369 - val_loss: 0.4462 - val_accuracy: 0.8742\n",
      "Epoch 91/1000\n",
      "3077/3077 [==============================] - 8s 3ms/step - loss: 0.1680 - accuracy: 0.9368 - val_loss: 0.4467 - val_accuracy: 0.8743\n",
      "Epoch 92/1000\n",
      "3077/3077 [==============================] - 9s 3ms/step - loss: 0.1638 - accuracy: 0.9391 - val_loss: 0.4493 - val_accuracy: 0.8748\n",
      "Epoch 93/1000\n",
      "3077/3077 [==============================] - 8s 2ms/step - loss: 0.1647 - accuracy: 0.9379 - val_loss: 0.4741 - val_accuracy: 0.8675\n",
      "Epoch 94/1000\n",
      "3077/3077 [==============================] - 8s 3ms/step - loss: 0.1644 - accuracy: 0.9385 - val_loss: 0.4579 - val_accuracy: 0.8726\n",
      "Epoch 95/1000\n",
      "3077/3077 [==============================] - 8s 3ms/step - loss: 0.1628 - accuracy: 0.9394 - val_loss: 0.4607 - val_accuracy: 0.8729\n",
      "Epoch 96/1000\n",
      "3077/3077 [==============================] - 9s 3ms/step - loss: 0.1620 - accuracy: 0.9384 - val_loss: 0.4446 - val_accuracy: 0.8754\n",
      "Epoch 97/1000\n",
      "3077/3077 [==============================] - 8s 3ms/step - loss: 0.1630 - accuracy: 0.9390 - val_loss: 0.4737 - val_accuracy: 0.8746\n",
      "Epoch 98/1000\n",
      "3077/3077 [==============================] - 8s 3ms/step - loss: 0.1590 - accuracy: 0.9395 - val_loss: 0.4541 - val_accuracy: 0.8710\n",
      "Epoch 99/1000\n",
      "3077/3077 [==============================] - 8s 3ms/step - loss: 0.1616 - accuracy: 0.9396 - val_loss: 0.4481 - val_accuracy: 0.8749\n",
      "Epoch 100/1000\n",
      "3077/3077 [==============================] - 8s 3ms/step - loss: 0.1583 - accuracy: 0.9409 - val_loss: 0.4471 - val_accuracy: 0.8759\n",
      "Epoch 101/1000\n",
      "3077/3077 [==============================] - 9s 3ms/step - loss: 0.1599 - accuracy: 0.9405 - val_loss: 0.4618 - val_accuracy: 0.8705\n",
      "Epoch 102/1000\n",
      "3077/3077 [==============================] - 8s 3ms/step - loss: 0.1568 - accuracy: 0.9430 - val_loss: 0.4699 - val_accuracy: 0.8745\n",
      "Epoch 103/1000\n",
      "3077/3077 [==============================] - 8s 3ms/step - loss: 0.1577 - accuracy: 0.9405 - val_loss: 0.4806 - val_accuracy: 0.8688\n",
      "Epoch 104/1000\n",
      "3077/3077 [==============================] - 9s 3ms/step - loss: 0.1578 - accuracy: 0.9409 - val_loss: 0.4701 - val_accuracy: 0.8768\n",
      "Epoch 105/1000\n",
      "3077/3077 [==============================] - 8s 3ms/step - loss: 0.1548 - accuracy: 0.9410 - val_loss: 0.4798 - val_accuracy: 0.8720\n",
      "Epoch 106/1000\n",
      "3077/3077 [==============================] - 8s 3ms/step - loss: 0.1563 - accuracy: 0.9427 - val_loss: 0.4798 - val_accuracy: 0.8766\n",
      "Epoch 107/1000\n",
      "3077/3077 [==============================] - 8s 3ms/step - loss: 0.1519 - accuracy: 0.9428 - val_loss: 0.5024 - val_accuracy: 0.8676\n",
      "Epoch 108/1000\n",
      "3077/3077 [==============================] - 8s 3ms/step - loss: 0.1542 - accuracy: 0.9414 - val_loss: 0.4879 - val_accuracy: 0.8745\n",
      "Epoch 109/1000\n",
      "3077/3077 [==============================] - 8s 3ms/step - loss: 0.1528 - accuracy: 0.9420 - val_loss: 0.4914 - val_accuracy: 0.8743\n",
      "Epoch 110/1000\n",
      "3077/3077 [==============================] - 8s 3ms/step - loss: 0.1525 - accuracy: 0.9425 - val_loss: 0.4945 - val_accuracy: 0.8685\n",
      "Epoch 111/1000\n",
      "3077/3077 [==============================] - 9s 3ms/step - loss: 0.1527 - accuracy: 0.9437 - val_loss: 0.5102 - val_accuracy: 0.8661\n",
      "Epoch 112/1000\n"
     ]
    },
    {
     "name": "stdout",
     "output_type": "stream",
     "text": [
      "3077/3077 [==============================] - 7s 2ms/step - loss: 0.1501 - accuracy: 0.9439 - val_loss: 0.4808 - val_accuracy: 0.8760\n",
      "Epoch 113/1000\n",
      "3077/3077 [==============================] - 8s 2ms/step - loss: 0.1482 - accuracy: 0.9443 - val_loss: 0.5156 - val_accuracy: 0.8685\n",
      "Epoch 114/1000\n",
      "3077/3077 [==============================] - 7s 2ms/step - loss: 0.1471 - accuracy: 0.9454 - val_loss: 0.4810 - val_accuracy: 0.8769\n",
      "Epoch 115/1000\n",
      "3077/3077 [==============================] - 8s 2ms/step - loss: 0.1469 - accuracy: 0.9455 - val_loss: 0.4796 - val_accuracy: 0.8753\n",
      "Epoch 116/1000\n",
      "3077/3077 [==============================] - 8s 3ms/step - loss: 0.1482 - accuracy: 0.9448 - val_loss: 0.4995 - val_accuracy: 0.8766\n",
      "Epoch 117/1000\n",
      "3077/3077 [==============================] - 8s 2ms/step - loss: 0.1460 - accuracy: 0.9453 - val_loss: 0.4973 - val_accuracy: 0.8697\n",
      "Epoch 118/1000\n",
      "3077/3077 [==============================] - 7s 2ms/step - loss: 0.1446 - accuracy: 0.9460 - val_loss: 0.4927 - val_accuracy: 0.8733\n",
      "Epoch 119/1000\n",
      "3077/3077 [==============================] - 7s 2ms/step - loss: 0.1449 - accuracy: 0.9446 - val_loss: 0.5066 - val_accuracy: 0.8723\n",
      "Epoch 120/1000\n",
      "3077/3077 [==============================] - 8s 3ms/step - loss: 0.1454 - accuracy: 0.9465 - val_loss: 0.4841 - val_accuracy: 0.8774\n",
      "Epoch 121/1000\n",
      "3077/3077 [==============================] - 7s 2ms/step - loss: 0.1420 - accuracy: 0.9483 - val_loss: 0.4986 - val_accuracy: 0.8744\n",
      "Epoch 122/1000\n",
      "3077/3077 [==============================] - 8s 3ms/step - loss: 0.1429 - accuracy: 0.9457 - val_loss: 0.5043 - val_accuracy: 0.8724\n",
      "Epoch 123/1000\n",
      "3077/3077 [==============================] - 8s 2ms/step - loss: 0.1418 - accuracy: 0.9481 - val_loss: 0.5129 - val_accuracy: 0.8755\n",
      "Epoch 124/1000\n",
      "3077/3077 [==============================] - 7s 2ms/step - loss: 0.1443 - accuracy: 0.9460 - val_loss: 0.4979 - val_accuracy: 0.8744\n",
      "Epoch 125/1000\n",
      "3077/3077 [==============================] - 7s 2ms/step - loss: 0.1410 - accuracy: 0.9466 - val_loss: 0.5129 - val_accuracy: 0.8733\n",
      "Epoch 126/1000\n",
      "3077/3077 [==============================] - 9s 3ms/step - loss: 0.1425 - accuracy: 0.9462 - val_loss: 0.4972 - val_accuracy: 0.8763\n",
      "Epoch 127/1000\n",
      "3077/3077 [==============================] - 8s 3ms/step - loss: 0.1390 - accuracy: 0.9486 - val_loss: 0.5259 - val_accuracy: 0.8711\n",
      "Epoch 128/1000\n",
      "3077/3077 [==============================] - 7s 2ms/step - loss: 0.1370 - accuracy: 0.9491 - val_loss: 0.5065 - val_accuracy: 0.8701\n",
      "Epoch 129/1000\n",
      "3077/3077 [==============================] - 8s 2ms/step - loss: 0.1361 - accuracy: 0.9486 - val_loss: 0.5157 - val_accuracy: 0.8706\n",
      "Epoch 130/1000\n",
      "3077/3077 [==============================] - 8s 3ms/step - loss: 0.1408 - accuracy: 0.9478 - val_loss: 0.5185 - val_accuracy: 0.8774\n",
      "Epoch 131/1000\n",
      "3077/3077 [==============================] - 7s 2ms/step - loss: 0.1362 - accuracy: 0.9496 - val_loss: 0.5810 - val_accuracy: 0.8684\n",
      "Epoch 132/1000\n",
      "3077/3077 [==============================] - 8s 3ms/step - loss: 0.1383 - accuracy: 0.9477 - val_loss: 0.5250 - val_accuracy: 0.8740\n",
      "Epoch 133/1000\n",
      "3077/3077 [==============================] - 8s 3ms/step - loss: 0.1359 - accuracy: 0.9503 - val_loss: 0.5390 - val_accuracy: 0.8759\n",
      "Epoch 134/1000\n",
      "3077/3077 [==============================] - 7s 2ms/step - loss: 0.1323 - accuracy: 0.9506 - val_loss: 0.5135 - val_accuracy: 0.8734\n",
      "Epoch 135/1000\n",
      "3077/3077 [==============================] - 8s 2ms/step - loss: 0.1324 - accuracy: 0.9520 - val_loss: 0.5443 - val_accuracy: 0.8727\n",
      "Epoch 136/1000\n",
      "3077/3077 [==============================] - 8s 2ms/step - loss: 0.1324 - accuracy: 0.9517 - val_loss: 0.5484 - val_accuracy: 0.8674\n",
      "Epoch 137/1000\n",
      "3077/3077 [==============================] - 7s 2ms/step - loss: 0.1357 - accuracy: 0.9499 - val_loss: 0.5270 - val_accuracy: 0.8699\n",
      "Epoch 138/1000\n",
      "3077/3077 [==============================] - 8s 2ms/step - loss: 0.1356 - accuracy: 0.9497 - val_loss: 0.5946 - val_accuracy: 0.8680\n",
      "Epoch 139/1000\n",
      "3077/3077 [==============================] - 8s 2ms/step - loss: 0.1332 - accuracy: 0.9513 - val_loss: 0.5552 - val_accuracy: 0.8669\n",
      "Epoch 140/1000\n",
      "3077/3077 [==============================] - 8s 2ms/step - loss: 0.1317 - accuracy: 0.9509 - val_loss: 0.5842 - val_accuracy: 0.8686\n",
      "Epoch 141/1000\n",
      "3077/3077 [==============================] - 8s 3ms/step - loss: 0.1329 - accuracy: 0.9511 - val_loss: 0.5415 - val_accuracy: 0.8712\n",
      "Epoch 142/1000\n",
      "3077/3077 [==============================] - 8s 3ms/step - loss: 0.1291 - accuracy: 0.9518 - val_loss: 0.5636 - val_accuracy: 0.8758\n",
      "Epoch 143/1000\n",
      "3077/3077 [==============================] - 7s 2ms/step - loss: 0.1305 - accuracy: 0.9529 - val_loss: 0.5344 - val_accuracy: 0.8703\n",
      "Epoch 144/1000\n",
      "3077/3077 [==============================] - 8s 3ms/step - loss: 0.1302 - accuracy: 0.9509 - val_loss: 0.5450 - val_accuracy: 0.8701\n",
      "Epoch 145/1000\n",
      "3077/3077 [==============================] - 7s 2ms/step - loss: 0.1330 - accuracy: 0.9507 - val_loss: 0.5449 - val_accuracy: 0.8715\n",
      "Epoch 146/1000\n",
      "3077/3077 [==============================] - 8s 3ms/step - loss: 0.1282 - accuracy: 0.9527 - val_loss: 0.5538 - val_accuracy: 0.8720\n",
      "Epoch 147/1000\n",
      "3077/3077 [==============================] - 7s 2ms/step - loss: 0.1282 - accuracy: 0.9515 - val_loss: 0.5512 - val_accuracy: 0.8752\n",
      "Epoch 148/1000\n",
      "3077/3077 [==============================] - 8s 2ms/step - loss: 0.1232 - accuracy: 0.9542 - val_loss: 0.5514 - val_accuracy: 0.8740\n",
      "Epoch 149/1000\n",
      "3077/3077 [==============================] - 8s 3ms/step - loss: 0.1233 - accuracy: 0.9545 - val_loss: 0.5534 - val_accuracy: 0.8702\n",
      "Epoch 150/1000\n",
      "3077/3077 [==============================] - 7s 2ms/step - loss: 0.1256 - accuracy: 0.9543 - val_loss: 0.5457 - val_accuracy: 0.8742\n",
      "Epoch 151/1000\n",
      "3077/3077 [==============================] - 8s 3ms/step - loss: 0.1234 - accuracy: 0.9534 - val_loss: 0.5812 - val_accuracy: 0.8722\n",
      "Epoch 152/1000\n",
      "3077/3077 [==============================] - 8s 2ms/step - loss: 0.1253 - accuracy: 0.9542 - val_loss: 0.5823 - val_accuracy: 0.8670\n",
      "Epoch 153/1000\n",
      "3077/3077 [==============================] - 7s 2ms/step - loss: 0.1249 - accuracy: 0.9542 - val_loss: 0.5631 - val_accuracy: 0.8751\n",
      "Epoch 154/1000\n",
      "3077/3077 [==============================] - 8s 3ms/step - loss: 0.1258 - accuracy: 0.9534 - val_loss: 0.5957 - val_accuracy: 0.8652\n",
      "Epoch 155/1000\n",
      "3077/3077 [==============================] - 8s 3ms/step - loss: 0.1252 - accuracy: 0.9535 - val_loss: 0.6080 - val_accuracy: 0.8720\n",
      "Epoch 156/1000\n",
      "3077/3077 [==============================] - 8s 3ms/step - loss: 0.1209 - accuracy: 0.9553 - val_loss: 0.5828 - val_accuracy: 0.8730\n",
      "Epoch 157/1000\n",
      "3077/3077 [==============================] - 8s 3ms/step - loss: 0.1238 - accuracy: 0.9537 - val_loss: 0.5777 - val_accuracy: 0.8731\n",
      "Epoch 158/1000\n",
      "3077/3077 [==============================] - 8s 3ms/step - loss: 0.1232 - accuracy: 0.9543 - val_loss: 0.6050 - val_accuracy: 0.8712\n",
      "Epoch 159/1000\n",
      "3077/3077 [==============================] - 7s 2ms/step - loss: 0.1192 - accuracy: 0.9557 - val_loss: 0.5898 - val_accuracy: 0.8703\n",
      "Epoch 160/1000\n",
      "3077/3077 [==============================] - 8s 3ms/step - loss: 0.1207 - accuracy: 0.9555 - val_loss: 0.5777 - val_accuracy: 0.8712\n",
      "Epoch 161/1000\n",
      "3077/3077 [==============================] - 8s 3ms/step - loss: 0.1202 - accuracy: 0.9542 - val_loss: 0.6119 - val_accuracy: 0.8656\n",
      "Epoch 162/1000\n",
      "3077/3077 [==============================] - 8s 2ms/step - loss: 0.1200 - accuracy: 0.9562 - val_loss: 0.5994 - val_accuracy: 0.8712\n",
      "Epoch 163/1000\n",
      "3077/3077 [==============================] - 8s 3ms/step - loss: 0.1182 - accuracy: 0.9553 - val_loss: 0.5873 - val_accuracy: 0.8717\n",
      "Epoch 164/1000\n",
      "3077/3077 [==============================] - 7s 2ms/step - loss: 0.1198 - accuracy: 0.9547 - val_loss: 0.5925 - val_accuracy: 0.8738\n",
      "Epoch 165/1000\n",
      "3077/3077 [==============================] - 8s 3ms/step - loss: 0.1160 - accuracy: 0.9566 - val_loss: 0.6284 - val_accuracy: 0.8679\n",
      "Epoch 166/1000\n",
      "3077/3077 [==============================] - 8s 3ms/step - loss: 0.1195 - accuracy: 0.9559 - val_loss: 0.5910 - val_accuracy: 0.8712\n",
      "Epoch 167/1000\n"
     ]
    },
    {
     "name": "stdout",
     "output_type": "stream",
     "text": [
      "3077/3077 [==============================] - 8s 3ms/step - loss: 0.1176 - accuracy: 0.9566 - val_loss: 0.6092 - val_accuracy: 0.8698\n",
      "Epoch 168/1000\n",
      "3077/3077 [==============================] - 8s 3ms/step - loss: 0.1205 - accuracy: 0.9558 - val_loss: 0.6153 - val_accuracy: 0.8714\n",
      "Epoch 169/1000\n",
      "3077/3077 [==============================] - 7s 2ms/step - loss: 0.1155 - accuracy: 0.9570 - val_loss: 0.6040 - val_accuracy: 0.8712\n",
      "Epoch 170/1000\n",
      "3077/3077 [==============================] - 8s 3ms/step - loss: 0.1176 - accuracy: 0.9567 - val_loss: 0.6373 - val_accuracy: 0.8688\n",
      "Epoch 171/1000\n",
      "3077/3077 [==============================] - 8s 3ms/step - loss: 0.1202 - accuracy: 0.9550 - val_loss: 0.6506 - val_accuracy: 0.8617\n",
      "Epoch 172/1000\n",
      "3077/3077 [==============================] - 7s 2ms/step - loss: 0.1157 - accuracy: 0.9571 - val_loss: 0.6056 - val_accuracy: 0.8735\n",
      "Epoch 173/1000\n",
      "3077/3077 [==============================] - 8s 3ms/step - loss: 0.1119 - accuracy: 0.9583 - val_loss: 0.6088 - val_accuracy: 0.8701\n",
      "Epoch 174/1000\n",
      "3077/3077 [==============================] - 8s 3ms/step - loss: 0.1127 - accuracy: 0.9584 - val_loss: 0.6089 - val_accuracy: 0.8728\n",
      "Epoch 175/1000\n",
      "3077/3077 [==============================] - 8s 2ms/step - loss: 0.1163 - accuracy: 0.9566 - val_loss: 0.6579 - val_accuracy: 0.8666\n",
      "Epoch 176/1000\n",
      "3077/3077 [==============================] - 8s 3ms/step - loss: 0.1132 - accuracy: 0.9581 - val_loss: 0.6302 - val_accuracy: 0.8688\n",
      "Epoch 177/1000\n",
      "3077/3077 [==============================] - 7s 2ms/step - loss: 0.1132 - accuracy: 0.9585 - val_loss: 0.6410 - val_accuracy: 0.8622\n",
      "Epoch 178/1000\n",
      "3077/3077 [==============================] - 8s 3ms/step - loss: 0.1138 - accuracy: 0.9582 - val_loss: 0.6365 - val_accuracy: 0.8694\n",
      "Epoch 179/1000\n",
      "3077/3077 [==============================] - 8s 3ms/step - loss: 0.1154 - accuracy: 0.9579 - val_loss: 0.6405 - val_accuracy: 0.8633\n",
      "Epoch 180/1000\n",
      "3077/3077 [==============================] - 7s 2ms/step - loss: 0.1110 - accuracy: 0.9589 - val_loss: 0.6373 - val_accuracy: 0.8655\n",
      "Epoch 181/1000\n",
      "3077/3077 [==============================] - 8s 3ms/step - loss: 0.1112 - accuracy: 0.9595 - val_loss: 0.6765 - val_accuracy: 0.8652\n",
      "Epoch 182/1000\n",
      "3077/3077 [==============================] - 7s 2ms/step - loss: 0.1101 - accuracy: 0.9586 - val_loss: 0.6411 - val_accuracy: 0.8656\n",
      "Epoch 183/1000\n",
      "3077/3077 [==============================] - 8s 3ms/step - loss: 0.1081 - accuracy: 0.9607 - val_loss: 0.6492 - val_accuracy: 0.8694\n",
      "Epoch 184/1000\n",
      "3077/3077 [==============================] - 8s 3ms/step - loss: 0.1110 - accuracy: 0.9595 - val_loss: 0.6507 - val_accuracy: 0.8673\n",
      "Epoch 185/1000\n",
      "3077/3077 [==============================] - 7s 2ms/step - loss: 0.1071 - accuracy: 0.9596 - val_loss: 0.6804 - val_accuracy: 0.8640\n",
      "Epoch 186/1000\n",
      "3077/3077 [==============================] - 7s 2ms/step - loss: 0.1085 - accuracy: 0.9583 - val_loss: 0.6365 - val_accuracy: 0.8713\n",
      "Epoch 187/1000\n",
      "3077/3077 [==============================] - 9s 3ms/step - loss: 0.1092 - accuracy: 0.9591 - val_loss: 0.6934 - val_accuracy: 0.8688\n",
      "Epoch 188/1000\n",
      "3077/3077 [==============================] - 8s 3ms/step - loss: 0.1068 - accuracy: 0.9599 - val_loss: 0.6752 - val_accuracy: 0.8669\n",
      "Epoch 189/1000\n",
      "3077/3077 [==============================] - 7s 2ms/step - loss: 0.1078 - accuracy: 0.9604 - val_loss: 0.6499 - val_accuracy: 0.8705\n",
      "Epoch 190/1000\n",
      "3077/3077 [==============================] - 7s 2ms/step - loss: 0.1086 - accuracy: 0.9596 - val_loss: 0.6666 - val_accuracy: 0.8691\n",
      "Epoch 191/1000\n",
      "3077/3077 [==============================] - 7s 2ms/step - loss: 0.1068 - accuracy: 0.9616 - val_loss: 0.6525 - val_accuracy: 0.8646\n",
      "Epoch 192/1000\n",
      "3077/3077 [==============================] - 8s 3ms/step - loss: 0.1048 - accuracy: 0.9610 - val_loss: 0.6817 - val_accuracy: 0.8622\n",
      "Epoch 193/1000\n",
      "3077/3077 [==============================] - 8s 3ms/step - loss: 0.1047 - accuracy: 0.9601 - val_loss: 0.6607 - val_accuracy: 0.8667\n",
      "Epoch 194/1000\n",
      "3077/3077 [==============================] - 8s 3ms/step - loss: 0.1047 - accuracy: 0.9621 - val_loss: 0.6786 - val_accuracy: 0.8688\n",
      "Epoch 195/1000\n",
      "3077/3077 [==============================] - 7s 2ms/step - loss: 0.1059 - accuracy: 0.9611 - val_loss: 0.7042 - val_accuracy: 0.8627\n",
      "Epoch 196/1000\n",
      "3077/3077 [==============================] - 8s 3ms/step - loss: 0.1037 - accuracy: 0.9611 - val_loss: 0.7239 - val_accuracy: 0.8634\n",
      "Epoch 197/1000\n",
      "3077/3077 [==============================] - 8s 3ms/step - loss: 0.1064 - accuracy: 0.9608 - val_loss: 0.7175 - val_accuracy: 0.8612\n",
      "Epoch 198/1000\n",
      "3077/3077 [==============================] - 8s 3ms/step - loss: 0.1079 - accuracy: 0.9603 - val_loss: 0.6949 - val_accuracy: 0.8723\n",
      "Epoch 199/1000\n",
      "3077/3077 [==============================] - 7s 2ms/step - loss: 0.0983 - accuracy: 0.9639 - val_loss: 0.7204 - val_accuracy: 0.8711\n",
      "Epoch 200/1000\n",
      "3077/3077 [==============================] - 8s 3ms/step - loss: 0.0980 - accuracy: 0.9634 - val_loss: 0.7034 - val_accuracy: 0.8626\n",
      "Epoch 201/1000\n",
      "3077/3077 [==============================] - 8s 3ms/step - loss: 0.1009 - accuracy: 0.9629 - val_loss: 0.6821 - val_accuracy: 0.8701\n",
      "Epoch 202/1000\n",
      "3077/3077 [==============================] - 8s 3ms/step - loss: 0.1021 - accuracy: 0.9617 - val_loss: 0.6852 - val_accuracy: 0.8691\n",
      "Epoch 203/1000\n",
      "3077/3077 [==============================] - 8s 3ms/step - loss: 0.1023 - accuracy: 0.9618 - val_loss: 0.7203 - val_accuracy: 0.8709\n",
      "Epoch 204/1000\n",
      "3077/3077 [==============================] - 9s 3ms/step - loss: 0.1035 - accuracy: 0.9623 - val_loss: 0.6715 - val_accuracy: 0.8714\n",
      "Epoch 205/1000\n",
      "3077/3077 [==============================] - 8s 3ms/step - loss: 0.1040 - accuracy: 0.9620 - val_loss: 0.6868 - val_accuracy: 0.8706\n",
      "Epoch 206/1000\n",
      "3077/3077 [==============================] - 7s 2ms/step - loss: 0.0979 - accuracy: 0.9630 - val_loss: 0.7041 - val_accuracy: 0.8684\n",
      "Epoch 207/1000\n",
      "3077/3077 [==============================] - 8s 3ms/step - loss: 0.0978 - accuracy: 0.9650 - val_loss: 0.7106 - val_accuracy: 0.8687\n",
      "Epoch 208/1000\n",
      "3077/3077 [==============================] - 8s 3ms/step - loss: 0.1038 - accuracy: 0.9614 - val_loss: 0.7123 - val_accuracy: 0.8676\n",
      "Epoch 209/1000\n",
      "3077/3077 [==============================] - 8s 3ms/step - loss: 0.1079 - accuracy: 0.9606 - val_loss: 0.7092 - val_accuracy: 0.8674\n",
      "Epoch 210/1000\n",
      "3077/3077 [==============================] - 7s 2ms/step - loss: 0.1075 - accuracy: 0.9607 - val_loss: 0.7281 - val_accuracy: 0.8633\n",
      "Epoch 211/1000\n",
      "3077/3077 [==============================] - 7s 2ms/step - loss: 0.0976 - accuracy: 0.9636 - val_loss: 0.7963 - val_accuracy: 0.8609\n",
      "Epoch 212/1000\n",
      "3077/3077 [==============================] - 10s 3ms/step - loss: 0.1014 - accuracy: 0.9629 - val_loss: 0.7193 - val_accuracy: 0.8708\n",
      "Epoch 213/1000\n",
      "3077/3077 [==============================] - 8s 3ms/step - loss: 0.0944 - accuracy: 0.9650 - val_loss: 0.7246 - val_accuracy: 0.8624\n",
      "Epoch 214/1000\n",
      "3077/3077 [==============================] - 9s 3ms/step - loss: 0.0971 - accuracy: 0.9643 - val_loss: 0.7263 - val_accuracy: 0.8699\n",
      "Epoch 215/1000\n",
      "3077/3077 [==============================] - 9s 3ms/step - loss: 0.0941 - accuracy: 0.9657 - val_loss: 0.7465 - val_accuracy: 0.8633\n",
      "Epoch 216/1000\n",
      "3077/3077 [==============================] - 8s 3ms/step - loss: 0.0944 - accuracy: 0.9660 - val_loss: 0.7193 - val_accuracy: 0.8674\n",
      "Epoch 217/1000\n",
      "3077/3077 [==============================] - 8s 3ms/step - loss: 0.1080 - accuracy: 0.9601 - val_loss: 0.7254 - val_accuracy: 0.8648\n",
      "Epoch 218/1000\n",
      "3077/3077 [==============================] - 8s 3ms/step - loss: 0.0956 - accuracy: 0.9646 - val_loss: 0.6962 - val_accuracy: 0.8692\n",
      "Epoch 219/1000\n",
      "3077/3077 [==============================] - 9s 3ms/step - loss: 0.0932 - accuracy: 0.9651 - val_loss: 0.7085 - val_accuracy: 0.8655\n",
      "Epoch 220/1000\n",
      "3077/3077 [==============================] - 8s 3ms/step - loss: 0.0982 - accuracy: 0.9639 - val_loss: 0.7265 - val_accuracy: 0.8674\n",
      "Epoch 221/1000\n",
      "3077/3077 [==============================] - 9s 3ms/step - loss: 0.0939 - accuracy: 0.9656 - val_loss: 0.7383 - val_accuracy: 0.8695\n",
      "Epoch 222/1000\n"
     ]
    },
    {
     "name": "stdout",
     "output_type": "stream",
     "text": [
      "3077/3077 [==============================] - 8s 3ms/step - loss: 0.0933 - accuracy: 0.9646 - val_loss: 0.7298 - val_accuracy: 0.8725\n",
      "Epoch 223/1000\n",
      "3077/3077 [==============================] - 8s 3ms/step - loss: 0.0980 - accuracy: 0.9641 - val_loss: 0.7756 - val_accuracy: 0.8651\n",
      "Epoch 224/1000\n",
      "3077/3077 [==============================] - 8s 3ms/step - loss: 0.0907 - accuracy: 0.9675 - val_loss: 0.7364 - val_accuracy: 0.8712\n",
      "Epoch 225/1000\n",
      "2121/3077 [===================>..........] - ETA: 1s - loss: 0.0878 - accuracy: 0.9681"
     ]
    },
    {
     "ename": "KeyboardInterrupt",
     "evalue": "",
     "output_type": "error",
     "traceback": [
      "\u001b[1;31m---------------------------------------------------------------------------\u001b[0m",
      "\u001b[1;31mKeyboardInterrupt\u001b[0m                         Traceback (most recent call last)",
      "Cell \u001b[1;32mIn[10], line 1\u001b[0m\n\u001b[1;32m----> 1\u001b[0m history \u001b[38;5;241m=\u001b[39m \u001b[43mmodel\u001b[49m\u001b[38;5;241;43m.\u001b[39;49m\u001b[43mfit\u001b[49m\u001b[43m(\u001b[49m\n\u001b[0;32m      2\u001b[0m \u001b[43m    \u001b[49m\u001b[43mpartial_x_train\u001b[49m\u001b[43m,\u001b[49m\n\u001b[0;32m      3\u001b[0m \u001b[43m    \u001b[49m\u001b[43mpartial_y_train\u001b[49m\u001b[43m,\u001b[49m\n\u001b[0;32m      4\u001b[0m \u001b[43m    \u001b[49m\u001b[43mepochs\u001b[49m\u001b[38;5;241;43m=\u001b[39;49m\u001b[43mtraining_steps\u001b[49m\u001b[43m,\u001b[49m\n\u001b[0;32m      5\u001b[0m \u001b[43m    \u001b[49m\u001b[43mbatch_size\u001b[49m\u001b[38;5;241;43m=\u001b[39;49m\u001b[43mbatch_size\u001b[49m\u001b[43m,\u001b[49m\n\u001b[0;32m      6\u001b[0m \u001b[43m    \u001b[49m\u001b[43mvalidation_data\u001b[49m\u001b[38;5;241;43m=\u001b[39;49m\u001b[43m(\u001b[49m\u001b[43mx_val\u001b[49m\u001b[43m,\u001b[49m\u001b[43m \u001b[49m\u001b[43my_val\u001b[49m\u001b[43m)\u001b[49m\n\u001b[0;32m      7\u001b[0m \u001b[43m)\u001b[49m\n",
      "File \u001b[1;32mD:\\PYTHON\\Python_DataScience_module_10\\venv\\lib\\site-packages\\keras\\utils\\traceback_utils.py:65\u001b[0m, in \u001b[0;36mfilter_traceback.<locals>.error_handler\u001b[1;34m(*args, **kwargs)\u001b[0m\n\u001b[0;32m     63\u001b[0m filtered_tb \u001b[38;5;241m=\u001b[39m \u001b[38;5;28;01mNone\u001b[39;00m\n\u001b[0;32m     64\u001b[0m \u001b[38;5;28;01mtry\u001b[39;00m:\n\u001b[1;32m---> 65\u001b[0m     \u001b[38;5;28;01mreturn\u001b[39;00m fn(\u001b[38;5;241m*\u001b[39margs, \u001b[38;5;241m*\u001b[39m\u001b[38;5;241m*\u001b[39mkwargs)\n\u001b[0;32m     66\u001b[0m \u001b[38;5;28;01mexcept\u001b[39;00m \u001b[38;5;167;01mException\u001b[39;00m \u001b[38;5;28;01mas\u001b[39;00m e:\n\u001b[0;32m     67\u001b[0m     filtered_tb \u001b[38;5;241m=\u001b[39m _process_traceback_frames(e\u001b[38;5;241m.\u001b[39m__traceback__)\n",
      "File \u001b[1;32mD:\\PYTHON\\Python_DataScience_module_10\\venv\\lib\\site-packages\\keras\\engine\\training.py:1676\u001b[0m, in \u001b[0;36mModel.fit\u001b[1;34m(self, x, y, batch_size, epochs, verbose, callbacks, validation_split, validation_data, shuffle, class_weight, sample_weight, initial_epoch, steps_per_epoch, validation_steps, validation_batch_size, validation_freq, max_queue_size, workers, use_multiprocessing)\u001b[0m\n\u001b[0;32m   1674\u001b[0m callbacks\u001b[38;5;241m.\u001b[39mon_epoch_begin(epoch)\n\u001b[0;32m   1675\u001b[0m \u001b[38;5;28;01mwith\u001b[39;00m data_handler\u001b[38;5;241m.\u001b[39mcatch_stop_iteration():\n\u001b[1;32m-> 1676\u001b[0m     \u001b[38;5;28;01mfor\u001b[39;00m step \u001b[38;5;129;01min\u001b[39;00m data_handler\u001b[38;5;241m.\u001b[39msteps():\n\u001b[0;32m   1677\u001b[0m         \u001b[38;5;28;01mwith\u001b[39;00m tf\u001b[38;5;241m.\u001b[39mprofiler\u001b[38;5;241m.\u001b[39mexperimental\u001b[38;5;241m.\u001b[39mTrace(\n\u001b[0;32m   1678\u001b[0m             \u001b[38;5;124m\"\u001b[39m\u001b[38;5;124mtrain\u001b[39m\u001b[38;5;124m\"\u001b[39m,\n\u001b[0;32m   1679\u001b[0m             epoch_num\u001b[38;5;241m=\u001b[39mepoch,\n\u001b[1;32m   (...)\u001b[0m\n\u001b[0;32m   1682\u001b[0m             _r\u001b[38;5;241m=\u001b[39m\u001b[38;5;241m1\u001b[39m,\n\u001b[0;32m   1683\u001b[0m         ):\n\u001b[0;32m   1684\u001b[0m             callbacks\u001b[38;5;241m.\u001b[39mon_train_batch_begin(step)\n",
      "File \u001b[1;32mD:\\PYTHON\\Python_DataScience_module_10\\venv\\lib\\site-packages\\keras\\engine\\data_adapter.py:1375\u001b[0m, in \u001b[0;36mDataHandler.steps\u001b[1;34m(self)\u001b[0m\n\u001b[0;32m   1373\u001b[0m \u001b[38;5;28;01mif\u001b[39;00m \u001b[38;5;28mself\u001b[39m\u001b[38;5;241m.\u001b[39m_insufficient_data:  \u001b[38;5;66;03m# Set by `catch_stop_iteration`.\u001b[39;00m\n\u001b[0;32m   1374\u001b[0m     \u001b[38;5;28;01mbreak\u001b[39;00m\n\u001b[1;32m-> 1375\u001b[0m original_spe \u001b[38;5;241m=\u001b[39m \u001b[38;5;28;43mself\u001b[39;49m\u001b[38;5;241;43m.\u001b[39;49m\u001b[43m_steps_per_execution\u001b[49m\u001b[38;5;241;43m.\u001b[39;49m\u001b[43mnumpy\u001b[49m\u001b[43m(\u001b[49m\u001b[43m)\u001b[49m\u001b[38;5;241m.\u001b[39mitem()\n\u001b[0;32m   1376\u001b[0m can_run_full_execution \u001b[38;5;241m=\u001b[39m (\n\u001b[0;32m   1377\u001b[0m     original_spe \u001b[38;5;241m==\u001b[39m \u001b[38;5;241m1\u001b[39m\n\u001b[0;32m   1378\u001b[0m     \u001b[38;5;129;01mor\u001b[39;00m \u001b[38;5;28mself\u001b[39m\u001b[38;5;241m.\u001b[39m_inferred_steps \u001b[38;5;129;01mis\u001b[39;00m \u001b[38;5;28;01mNone\u001b[39;00m\n\u001b[0;32m   1379\u001b[0m     \u001b[38;5;129;01mor\u001b[39;00m \u001b[38;5;28mself\u001b[39m\u001b[38;5;241m.\u001b[39m_inferred_steps \u001b[38;5;241m-\u001b[39m \u001b[38;5;28mself\u001b[39m\u001b[38;5;241m.\u001b[39m_current_step \u001b[38;5;241m>\u001b[39m\u001b[38;5;241m=\u001b[39m original_spe\n\u001b[0;32m   1380\u001b[0m )\n\u001b[0;32m   1382\u001b[0m \u001b[38;5;28;01mif\u001b[39;00m can_run_full_execution:\n",
      "File \u001b[1;32mD:\\PYTHON\\Python_DataScience_module_10\\venv\\lib\\site-packages\\tensorflow\\python\\ops\\resource_variable_ops.py:647\u001b[0m, in \u001b[0;36mBaseResourceVariable.numpy\u001b[1;34m(self)\u001b[0m\n\u001b[0;32m    645\u001b[0m \u001b[38;5;28;01mdef\u001b[39;00m \u001b[38;5;21mnumpy\u001b[39m(\u001b[38;5;28mself\u001b[39m):\n\u001b[0;32m    646\u001b[0m   \u001b[38;5;28;01mif\u001b[39;00m context\u001b[38;5;241m.\u001b[39mexecuting_eagerly():\n\u001b[1;32m--> 647\u001b[0m     \u001b[38;5;28;01mreturn\u001b[39;00m \u001b[38;5;28;43mself\u001b[39;49m\u001b[38;5;241;43m.\u001b[39;49m\u001b[43mread_value\u001b[49m\u001b[43m(\u001b[49m\u001b[43m)\u001b[49m\u001b[38;5;241m.\u001b[39mnumpy()\n\u001b[0;32m    648\u001b[0m   \u001b[38;5;28;01mraise\u001b[39;00m \u001b[38;5;167;01mNotImplementedError\u001b[39;00m(\n\u001b[0;32m    649\u001b[0m       \u001b[38;5;124m\"\u001b[39m\u001b[38;5;124mnumpy() is only available when eager execution is enabled.\u001b[39m\u001b[38;5;124m\"\u001b[39m)\n",
      "File \u001b[1;32mD:\\PYTHON\\Python_DataScience_module_10\\venv\\lib\\site-packages\\tensorflow\\python\\ops\\resource_variable_ops.py:774\u001b[0m, in \u001b[0;36mBaseResourceVariable.read_value\u001b[1;34m(self)\u001b[0m\n\u001b[0;32m    765\u001b[0m \u001b[38;5;250m\u001b[39m\u001b[38;5;124;03m\"\"\"Constructs an op which reads the value of this variable.\u001b[39;00m\n\u001b[0;32m    766\u001b[0m \n\u001b[0;32m    767\u001b[0m \u001b[38;5;124;03mShould be used when there are multiple reads, or when it is desirable to\u001b[39;00m\n\u001b[1;32m   (...)\u001b[0m\n\u001b[0;32m    771\u001b[0m \u001b[38;5;124;03m  The value of the variable.\u001b[39;00m\n\u001b[0;32m    772\u001b[0m \u001b[38;5;124;03m\"\"\"\u001b[39;00m\n\u001b[0;32m    773\u001b[0m \u001b[38;5;28;01mwith\u001b[39;00m ops\u001b[38;5;241m.\u001b[39mname_scope(\u001b[38;5;124m\"\u001b[39m\u001b[38;5;124mRead\u001b[39m\u001b[38;5;124m\"\u001b[39m):\n\u001b[1;32m--> 774\u001b[0m   value \u001b[38;5;241m=\u001b[39m \u001b[38;5;28;43mself\u001b[39;49m\u001b[38;5;241;43m.\u001b[39;49m\u001b[43m_read_variable_op\u001b[49m\u001b[43m(\u001b[49m\u001b[43m)\u001b[49m\n\u001b[0;32m    775\u001b[0m \u001b[38;5;66;03m# Return an identity so it can get placed on whatever device the context\u001b[39;00m\n\u001b[0;32m    776\u001b[0m \u001b[38;5;66;03m# specifies instead of the device where the variable is.\u001b[39;00m\n\u001b[0;32m    777\u001b[0m \u001b[38;5;28;01mreturn\u001b[39;00m array_ops\u001b[38;5;241m.\u001b[39midentity(value)\n",
      "File \u001b[1;32mD:\\PYTHON\\Python_DataScience_module_10\\venv\\lib\\site-packages\\tensorflow\\python\\ops\\resource_variable_ops.py:753\u001b[0m, in \u001b[0;36mBaseResourceVariable._read_variable_op\u001b[1;34m(self, no_copy)\u001b[0m\n\u001b[0;32m    751\u001b[0m       result \u001b[38;5;241m=\u001b[39m read_and_set_handle(no_copy)\n\u001b[0;32m    752\u001b[0m \u001b[38;5;28;01melse\u001b[39;00m:\n\u001b[1;32m--> 753\u001b[0m   result \u001b[38;5;241m=\u001b[39m \u001b[43mread_and_set_handle\u001b[49m\u001b[43m(\u001b[49m\u001b[43mno_copy\u001b[49m\u001b[43m)\u001b[49m\n\u001b[0;32m    755\u001b[0m \u001b[38;5;28;01mif\u001b[39;00m \u001b[38;5;129;01mnot\u001b[39;00m context\u001b[38;5;241m.\u001b[39mexecuting_eagerly():\n\u001b[0;32m    756\u001b[0m   \u001b[38;5;66;03m# Note that if a control flow context is active the input of the read op\u001b[39;00m\n\u001b[0;32m    757\u001b[0m   \u001b[38;5;66;03m# might not actually be the handle. This line bypasses it.\u001b[39;00m\n\u001b[0;32m    758\u001b[0m   tape\u001b[38;5;241m.\u001b[39mrecord_operation(\n\u001b[0;32m    759\u001b[0m       \u001b[38;5;124m\"\u001b[39m\u001b[38;5;124mReadVariableOp\u001b[39m\u001b[38;5;124m\"\u001b[39m, [result], [\u001b[38;5;28mself\u001b[39m\u001b[38;5;241m.\u001b[39mhandle],\n\u001b[0;32m    760\u001b[0m       backward_function\u001b[38;5;241m=\u001b[39m\u001b[38;5;28;01mlambda\u001b[39;00m x: [x],\n\u001b[0;32m    761\u001b[0m       forward_function\u001b[38;5;241m=\u001b[39m\u001b[38;5;28;01mlambda\u001b[39;00m x: [x])\n",
      "File \u001b[1;32mD:\\PYTHON\\Python_DataScience_module_10\\venv\\lib\\site-packages\\tensorflow\\python\\ops\\resource_variable_ops.py:743\u001b[0m, in \u001b[0;36mBaseResourceVariable._read_variable_op.<locals>.read_and_set_handle\u001b[1;34m(no_copy)\u001b[0m\n\u001b[0;32m    741\u001b[0m \u001b[38;5;28;01mif\u001b[39;00m no_copy \u001b[38;5;129;01mand\u001b[39;00m forward_compat\u001b[38;5;241m.\u001b[39mforward_compatible(\u001b[38;5;241m2022\u001b[39m, \u001b[38;5;241m5\u001b[39m, \u001b[38;5;241m3\u001b[39m):\n\u001b[0;32m    742\u001b[0m   gen_resource_variable_ops\u001b[38;5;241m.\u001b[39mdisable_copy_on_read(\u001b[38;5;28mself\u001b[39m\u001b[38;5;241m.\u001b[39mhandle)\n\u001b[1;32m--> 743\u001b[0m result \u001b[38;5;241m=\u001b[39m \u001b[43mgen_resource_variable_ops\u001b[49m\u001b[38;5;241;43m.\u001b[39;49m\u001b[43mread_variable_op\u001b[49m\u001b[43m(\u001b[49m\n\u001b[0;32m    744\u001b[0m \u001b[43m    \u001b[49m\u001b[38;5;28;43mself\u001b[39;49m\u001b[38;5;241;43m.\u001b[39;49m\u001b[43mhandle\u001b[49m\u001b[43m,\u001b[49m\u001b[43m \u001b[49m\u001b[38;5;28;43mself\u001b[39;49m\u001b[38;5;241;43m.\u001b[39;49m\u001b[43m_dtype\u001b[49m\u001b[43m)\u001b[49m\n\u001b[0;32m    745\u001b[0m _maybe_set_handle_data(\u001b[38;5;28mself\u001b[39m\u001b[38;5;241m.\u001b[39m_dtype, \u001b[38;5;28mself\u001b[39m\u001b[38;5;241m.\u001b[39mhandle, result)\n\u001b[0;32m    746\u001b[0m \u001b[38;5;28;01mreturn\u001b[39;00m result\n",
      "File \u001b[1;32mD:\\PYTHON\\Python_DataScience_module_10\\venv\\lib\\site-packages\\tensorflow\\python\\ops\\gen_resource_variable_ops.py:580\u001b[0m, in \u001b[0;36mread_variable_op\u001b[1;34m(resource, dtype, name)\u001b[0m\n\u001b[0;32m    578\u001b[0m \u001b[38;5;28;01mif\u001b[39;00m tld\u001b[38;5;241m.\u001b[39mis_eager:\n\u001b[0;32m    579\u001b[0m   \u001b[38;5;28;01mtry\u001b[39;00m:\n\u001b[1;32m--> 580\u001b[0m     _result \u001b[38;5;241m=\u001b[39m \u001b[43mpywrap_tfe\u001b[49m\u001b[38;5;241;43m.\u001b[39;49m\u001b[43mTFE_Py_FastPathExecute\u001b[49m\u001b[43m(\u001b[49m\n\u001b[0;32m    581\u001b[0m \u001b[43m      \u001b[49m\u001b[43m_ctx\u001b[49m\u001b[43m,\u001b[49m\u001b[43m \u001b[49m\u001b[38;5;124;43m\"\u001b[39;49m\u001b[38;5;124;43mReadVariableOp\u001b[39;49m\u001b[38;5;124;43m\"\u001b[39;49m\u001b[43m,\u001b[49m\u001b[43m \u001b[49m\u001b[43mname\u001b[49m\u001b[43m,\u001b[49m\u001b[43m \u001b[49m\u001b[43mresource\u001b[49m\u001b[43m,\u001b[49m\u001b[43m \u001b[49m\u001b[38;5;124;43m\"\u001b[39;49m\u001b[38;5;124;43mdtype\u001b[39;49m\u001b[38;5;124;43m\"\u001b[39;49m\u001b[43m,\u001b[49m\u001b[43m \u001b[49m\u001b[43mdtype\u001b[49m\u001b[43m)\u001b[49m\n\u001b[0;32m    582\u001b[0m     \u001b[38;5;28;01mreturn\u001b[39;00m _result\n\u001b[0;32m    583\u001b[0m   \u001b[38;5;28;01mexcept\u001b[39;00m _core\u001b[38;5;241m.\u001b[39m_NotOkStatusException \u001b[38;5;28;01mas\u001b[39;00m e:\n",
      "\u001b[1;31mKeyboardInterrupt\u001b[0m: "
     ]
    }
   ],
   "source": [
    "history = model.fit(\n",
    "    partial_x_train,\n",
    "    partial_y_train,\n",
    "    epochs=training_steps,\n",
    "    batch_size=batch_size,\n",
    "    validation_data=(x_val, y_val)\n",
    ")"
   ]
  },
  {
   "cell_type": "code",
   "execution_count": 11,
   "id": "aa4e2bb6",
   "metadata": {},
   "outputs": [
    {
     "name": "stdout",
     "output_type": "stream",
     "text": [
      "313/313 [==============================] - 1s 2ms/step - loss: 0.8232 - accuracy: 0.8629\n",
      "[0.8231821060180664, 0.8629000186920166]\n"
     ]
    }
   ],
   "source": [
    "results = model.evaluate(x_test, y_test)\n",
    "print(results)"
   ]
  },
  {
   "cell_type": "code",
   "execution_count": 12,
   "id": "ea8709ae",
   "metadata": {},
   "outputs": [
    {
     "ename": "NameError",
     "evalue": "name 'history' is not defined",
     "output_type": "error",
     "traceback": [
      "\u001b[1;31m---------------------------------------------------------------------------\u001b[0m",
      "\u001b[1;31mNameError\u001b[0m                                 Traceback (most recent call last)",
      "Cell \u001b[1;32mIn[12], line 4\u001b[0m\n\u001b[0;32m      1\u001b[0m \u001b[38;5;28;01mimport\u001b[39;00m \u001b[38;5;21;01mmatplotlib\u001b[39;00m\u001b[38;5;21;01m.\u001b[39;00m\u001b[38;5;21;01mpyplot\u001b[39;00m \u001b[38;5;28;01mas\u001b[39;00m \u001b[38;5;21;01mplt\u001b[39;00m\n\u001b[1;32m----> 4\u001b[0m history_dict \u001b[38;5;241m=\u001b[39m \u001b[43mhistory\u001b[49m\u001b[38;5;241m.\u001b[39mhistory\n\u001b[0;32m      5\u001b[0m loss_values \u001b[38;5;241m=\u001b[39m history_dict[\u001b[38;5;124m'\u001b[39m\u001b[38;5;124mloss\u001b[39m\u001b[38;5;124m'\u001b[39m]\n\u001b[0;32m      6\u001b[0m val_loss_values \u001b[38;5;241m=\u001b[39m history_dict[\u001b[38;5;124m'\u001b[39m\u001b[38;5;124mval_loss\u001b[39m\u001b[38;5;124m'\u001b[39m]\n",
      "\u001b[1;31mNameError\u001b[0m: name 'history' is not defined"
     ]
    }
   ],
   "source": [
    "import matplotlib.pyplot as plt\n",
    "\n",
    "\n",
    "history_dict = history.history\n",
    "loss_values = history_dict['loss']\n",
    "val_loss_values = history_dict['val_loss']\n",
    "\n",
    "epochs = range(1, len(history_dict['accuracy']) + 1)\n",
    "\n",
    "plt.plot(epochs, loss_values, 'bo', label='Training loss')\n",
    "plt.plot(epochs, val_loss_values, 'b', label='Validation loss')\n",
    "plt.title('Training and validation loss')\n",
    "plt.xlabel('Epochs')\n",
    "plt.ylabel('Loss')\n",
    "plt.legend()\n",
    "plt.show()\n",
    "\n",
    "plt.clf()\n",
    "val_acc_values = history_dict['val_accuracy']\n",
    "plt.plot(epochs, history_dict['accuracy'], 'bo', label='Training acc')\n",
    "plt.plot(epochs, history_dict['val_accuracy'], 'b', label='Validation acc')\n",
    "plt.title('Training and validation accuracy')\n",
    "plt.xlabel('Epochs')\n",
    "plt.ylabel('Loss')\n",
    "plt.legend()"
   ]
  },
  {
   "cell_type": "code",
   "execution_count": null,
   "id": "037d9a05",
   "metadata": {},
   "outputs": [],
   "source": [
    "model.save(\"sgd_b32_l32_32_64_ep1000\")"
   ]
  },
  {
   "cell_type": "code",
   "execution_count": null,
   "id": "f4603955",
   "metadata": {},
   "outputs": [],
   "source": [
    "random_index = np.random.randint(0, len(x_test))\n",
    "result = model.predict(x_test[random_index, :].reshape(1, 784))\n",
    "\n",
    "predicted_class = np.argmax(result)\n",
    "\n",
    "class_names = ['T-shirt/top', 'Trouser', 'Pullover', 'Dress', 'Coat',\n",
    "               'Sandal', 'Shirt', 'Sneaker', 'Bag', 'Ankle boot']\n",
    "\n",
    "predicted_class_name = class_names[predicted_class]\n",
    "print(f\"Predicted class: {predicted_class}\")"
   ]
  },
  {
   "cell_type": "code",
   "execution_count": null,
   "id": "0b4e0689",
   "metadata": {},
   "outputs": [],
   "source": [
    "\n",
    "plt.imshow(x_test[random_index, :].reshape(28, 28), cmap='gray')\n",
    "plt.title(f\"Label: {predicted_class_name}\")\n",
    "plt.show()"
   ]
  },
  {
   "cell_type": "markdown",
   "id": "b8c34068",
   "metadata": {},
   "source": [
    "# MODEL adam_l128_64_ep10"
   ]
  },
  {
   "cell_type": "code",
   "execution_count": 32,
   "id": "b0ac8a51",
   "metadata": {},
   "outputs": [],
   "source": [
    "from tensorflow import keras"
   ]
  },
  {
   "cell_type": "code",
   "execution_count": 33,
   "id": "62050aa4",
   "metadata": {},
   "outputs": [],
   "source": [
    "import tensorflow as tf\n",
    "import numpy as np\n",
    "import matplotlib.pyplot as plt"
   ]
  },
  {
   "cell_type": "code",
   "execution_count": 34,
   "id": "073d34d0",
   "metadata": {},
   "outputs": [],
   "source": [
    "(x_train, y_train), (x_test, y_test) = keras.datasets.fashion_mnist.load_data()\n",
    "assert x_train.shape == (60000, 28, 28)\n",
    "assert x_test.shape == (10000, 28, 28)\n",
    "assert y_train.shape == (60000,)\n",
    "assert y_test.shape == (10000,)"
   ]
  },
  {
   "cell_type": "code",
   "execution_count": 35,
   "id": "d55f4311",
   "metadata": {},
   "outputs": [],
   "source": [
    "# Initial data\n",
    "num_classes = 10 # total class number\n",
    "num_features = 784 # input layer vector 28 * 28 = 784\n",
    "\n",
    "learning_rate = 0.025 # \n",
    "training_steps = 10 # number of epoch\n",
    "#batch_size = 13 # пересчитывать веса сети мы будем не на всей выборке, а на ее случайном подможестве из batch_size элементов\n",
    "\n",
    "n_hidden_1 = 128 # количество нейронов 1-го слоя\n",
    "n_hidden_2 = 64 # количество нейронов 2-го слоя\n"
   ]
  },
  {
   "cell_type": "code",
   "execution_count": 36,
   "id": "eb1d1ad4",
   "metadata": {},
   "outputs": [],
   "source": [
    "# Преобразуем целочисленные пиксели к типа float32\n",
    "x_train, x_test = np.array(x_train, np.float32), np.array(x_test, np.float32)\n",
    "\n",
    "# Преобразуем матрицы размером 28x28 пикселей в вектор из 784 элементов\n",
    "x_train, x_test = x_train.reshape([-1, num_features]), x_test.reshape([-1, num_features])\n",
    "\n",
    "# Нормализуем значения пикселей\n",
    "x_train, x_test = x_train / 255., x_test / 255.\n",
    "\n",
    "# Convert labels to one-hot encoded format\n",
    "y_train = tf.keras.utils.to_categorical(y_train, num_classes)\n",
    "y_test = tf.keras.utils.to_categorical(y_test, num_classes)\n",
    "\n",
    "# Перемешаем тренировочные данные\n",
    "train_data = tf.data.Dataset.from_tensor_slices((x_train, y_train))\n",
    "train_data = train_data.repeat().shuffle(5000).batch(batch_size).prefetch(10)\n"
   ]
  },
  {
   "cell_type": "code",
   "execution_count": 37,
   "id": "fa09521f",
   "metadata": {},
   "outputs": [],
   "source": [
    "from keras.models import Sequential\n",
    "from keras.layers import Dense, Flatten, Dropout"
   ]
  },
  {
   "cell_type": "code",
   "execution_count": 38,
   "id": "05e9fafb",
   "metadata": {},
   "outputs": [],
   "source": [
    "model = Sequential([\n",
    "    Dense(n_hidden_1, activation='relu', input_shape=(num_features,)),\n",
    "    Dropout(0.2),  \n",
    "    Dense(n_hidden_2, activation='relu'),\n",
    "    Dense(num_classes, activation='softmax'),\n",
    "])"
   ]
  },
  {
   "cell_type": "code",
   "execution_count": 39,
   "id": "0862f4a6",
   "metadata": {},
   "outputs": [],
   "source": [
    "model.compile(\n",
    "    optimizer='adam',\n",
    "    loss='categorical_crossentropy',\n",
    "    metrics=['accuracy']\n",
    ")"
   ]
  },
  {
   "cell_type": "code",
   "execution_count": 40,
   "id": "9a7338b7",
   "metadata": {},
   "outputs": [],
   "source": [
    "x_val = x_train[:20000]\n",
    "partial_x_train = x_train[20000:]\n",
    "\n",
    "y_val = y_train[:20000]\n",
    "partial_y_train = y_train[20000:]"
   ]
  },
  {
   "cell_type": "code",
   "execution_count": 41,
   "id": "0779ea90",
   "metadata": {},
   "outputs": [
    {
     "name": "stdout",
     "output_type": "stream",
     "text": [
      "Epoch 1/10\n",
      "1250/1250 [==============================] - 5s 4ms/step - loss: 0.5744 - accuracy: 0.7951 - val_loss: 0.4978 - val_accuracy: 0.8030\n",
      "Epoch 2/10\n",
      "1250/1250 [==============================] - 4s 4ms/step - loss: 0.4251 - accuracy: 0.8465 - val_loss: 0.3825 - val_accuracy: 0.8576\n",
      "Epoch 3/10\n",
      "1250/1250 [==============================] - 4s 4ms/step - loss: 0.3840 - accuracy: 0.8601 - val_loss: 0.3644 - val_accuracy: 0.8640\n",
      "Epoch 4/10\n",
      "1250/1250 [==============================] - 5s 4ms/step - loss: 0.3608 - accuracy: 0.8700 - val_loss: 0.3541 - val_accuracy: 0.8694\n",
      "Epoch 5/10\n",
      "1250/1250 [==============================] - 5s 4ms/step - loss: 0.3465 - accuracy: 0.8728 - val_loss: 0.3675 - val_accuracy: 0.8656\n",
      "Epoch 6/10\n",
      "1250/1250 [==============================] - 6s 4ms/step - loss: 0.3330 - accuracy: 0.8766 - val_loss: 0.3874 - val_accuracy: 0.8603\n",
      "Epoch 7/10\n",
      "1250/1250 [==============================] - 5s 4ms/step - loss: 0.3210 - accuracy: 0.8807 - val_loss: 0.3349 - val_accuracy: 0.8767\n",
      "Epoch 8/10\n",
      "1250/1250 [==============================] - 6s 5ms/step - loss: 0.3138 - accuracy: 0.8837 - val_loss: 0.3237 - val_accuracy: 0.8826\n",
      "Epoch 9/10\n",
      "1250/1250 [==============================] - 5s 4ms/step - loss: 0.3032 - accuracy: 0.8868 - val_loss: 0.3511 - val_accuracy: 0.8734\n",
      "Epoch 10/10\n",
      "1250/1250 [==============================] - 5s 4ms/step - loss: 0.2955 - accuracy: 0.8883 - val_loss: 0.3160 - val_accuracy: 0.8827\n"
     ]
    }
   ],
   "source": [
    "history = model.fit(\n",
    "    partial_x_train,\n",
    "    partial_y_train,\n",
    "    epochs=training_steps,\n",
    "    #batch_size=batch_size,\n",
    "    validation_data=(x_val, y_val)\n",
    ")"
   ]
  },
  {
   "cell_type": "code",
   "execution_count": 42,
   "id": "d201c50d",
   "metadata": {},
   "outputs": [
    {
     "name": "stdout",
     "output_type": "stream",
     "text": [
      "313/313 [==============================] - 1s 3ms/step - loss: 0.3458 - accuracy: 0.8753\n",
      "[0.34580856561660767, 0.8752999901771545]\n"
     ]
    }
   ],
   "source": [
    "results = model.evaluate(x_test, y_test)\n",
    "print(results)"
   ]
  },
  {
   "cell_type": "code",
   "execution_count": 43,
   "id": "b2f5e4f3",
   "metadata": {},
   "outputs": [
    {
     "data": {
      "image/png": "[encoded data removed]",
      "text/plain": [
       "<Figure size 640x480 with 1 Axes>"
      ]
     },
     "metadata": {},
     "output_type": "display_data"
    },
    {
     "data": {
      "text/plain": [
       "<matplotlib.legend.Legend at 0x1dc6a887730>"
      ]
     },
     "execution_count": 43,
     "metadata": {},
     "output_type": "execute_result"
    },
    {
     "data": {
      "image/png": "[encoded data removed]",
      "text/plain": [
       "<Figure size 640x480 with 1 Axes>"
      ]
     },
     "metadata": {},
     "output_type": "display_data"
    }
   ],
   "source": [
    "import matplotlib.pyplot as plt\n",
    "\n",
    "\n",
    "history_dict = history.history\n",
    "loss_values = history_dict['loss']\n",
    "val_loss_values = history_dict['val_loss']\n",
    "\n",
    "epochs = range(1, len(history_dict['accuracy']) + 1)\n",
    "\n",
    "plt.plot(epochs, loss_values, 'bo', label='Training loss')\n",
    "plt.plot(epochs, val_loss_values, 'b', label='Validation loss')\n",
    "plt.title('Training and validation loss')\n",
    "plt.xlabel('Epochs')\n",
    "plt.ylabel('Loss')\n",
    "plt.legend()\n",
    "plt.show()\n",
    "\n",
    "plt.clf()\n",
    "val_acc_values = history_dict['val_accuracy']\n",
    "plt.plot(epochs, history_dict['accuracy'], 'bo', label='Training acc')\n",
    "plt.plot(epochs, history_dict['val_accuracy'], 'b', label='Validation acc')\n",
    "plt.title('Training and validation accuracy')\n",
    "plt.xlabel('Epochs')\n",
    "plt.ylabel('Loss')\n",
    "plt.legend()"
   ]
  },
  {
   "cell_type": "code",
   "execution_count": 44,
   "id": "d10f185a",
   "metadata": {},
   "outputs": [
    {
     "name": "stderr",
     "output_type": "stream",
     "text": [
      "WARNING:absl:Found untraced functions such as _update_step_xla while saving (showing 1 of 1). These functions will not be directly callable after loading.\n"
     ]
    },
    {
     "name": "stdout",
     "output_type": "stream",
     "text": [
      "INFO:tensorflow:Assets written to: adam_l128_64_ep10\\assets\n"
     ]
    },
    {
     "name": "stderr",
     "output_type": "stream",
     "text": [
      "INFO:tensorflow:Assets written to: adam_l128_64_ep10\\assets\n"
     ]
    }
   ],
   "source": [
    "model.save(\"adam_l128_64_ep10\")"
   ]
  },
  {
   "cell_type": "code",
   "execution_count": 45,
   "id": "305bb665",
   "metadata": {},
   "outputs": [
    {
     "name": "stdout",
     "output_type": "stream",
     "text": [
      "1/1 [==============================] - 0s 116ms/step\n",
      "Predicted class: 1\n"
     ]
    }
   ],
   "source": [
    "random_index = np.random.randint(0, len(x_test))\n",
    "result = model.predict(x_test[random_index, :].reshape(1, 784))\n",
    "\n",
    "predicted_class = np.argmax(result)\n",
    "\n",
    "class_names = ['T-shirt/top', 'Trouser', 'Pullover', 'Dress', 'Coat',\n",
    "               'Sandal', 'Shirt', 'Sneaker', 'Bag', 'Ankle boot']\n",
    "\n",
    "predicted_class_name = class_names[predicted_class]\n",
    "print(f\"Predicted class: {predicted_class}\")"
   ]
  },
  {
   "cell_type": "code",
   "execution_count": 46,
   "id": "0144c345",
   "metadata": {},
   "outputs": [
    {
     "data": {
      "image/png": "[encoded data removed]",
      "text/plain": [
       "<Figure size 640x480 with 1 Axes>"
      ]
     },
     "metadata": {},
     "output_type": "display_data"
    }
   ],
   "source": [
    "\n",
    "plt.imshow(x_test[random_index, :].reshape(28, 28), cmap='gray')\n",
    "plt.title(f\"Label: {predicted_class_name}\")\n",
    "plt.show()"
   ]
  },
  {
   "cell_type": "markdown",
   "id": "58ae4259",
   "metadata": {},
   "source": [
    "# MODEL adam_l128_64_ep200_flat"
   ]
  },
  {
   "cell_type": "code",
   "execution_count": 169,
   "id": "216f8d14",
   "metadata": {},
   "outputs": [],
   "source": [
    "from tensorflow import keras"
   ]
  },
  {
   "cell_type": "code",
   "execution_count": 170,
   "id": "47c85e73",
   "metadata": {},
   "outputs": [],
   "source": [
    "import tensorflow as tf\n",
    "import numpy as np\n",
    "import matplotlib.pyplot as plt"
   ]
  },
  {
   "cell_type": "code",
   "execution_count": 171,
   "id": "489a54da",
   "metadata": {},
   "outputs": [],
   "source": [
    "(x_train, y_train), (x_test, y_test) = keras.datasets.fashion_mnist.load_data()\n",
    "assert x_train.shape == (60000, 28, 28)\n",
    "assert x_test.shape == (10000, 28, 28)\n",
    "assert y_train.shape == (60000,)\n",
    "assert y_test.shape == (10000,)"
   ]
  },
  {
   "cell_type": "code",
   "execution_count": 172,
   "id": "cb94c82d",
   "metadata": {},
   "outputs": [],
   "source": [
    "# Initial data\n",
    "num_classes = 10 # total class number\n",
    "num_features = 784 # input layer vector 28 * 28 = 784\n",
    "\n",
    "learning_rate = 0.025 # \n",
    "training_steps = 200 # number of epoch\n",
    "#batch_size = 13 # пересчитывать веса сети мы будем не на всей выборке, а на ее случайном подможестве из batch_size элементов\n",
    "\n",
    "n_hidden_1 = 128 # количество нейронов 1-го слоя\n",
    "n_hidden_2 = 64 # количество нейронов 2-го слоя\n"
   ]
  },
  {
   "cell_type": "code",
   "execution_count": 173,
   "id": "9b379bcc",
   "metadata": {},
   "outputs": [],
   "source": [
    "# Преобразуем целочисленные пиксели к типа float32\n",
    "x_train, x_test = np.array(x_train, np.float32), np.array(x_test, np.float32)\n",
    "\n",
    "# Преобразуем матрицы размером 28x28 пикселей в вектор из 784 элементов\n",
    "#x_train, x_test = x_train.reshape([-1, num_features]), x_test.reshape([-1, num_features])\n",
    "\n",
    "# Нормализуем значения пикселей\n",
    "x_train, x_test = x_train / 255., x_test / 255.\n",
    "\n",
    "# Convert labels to one-hot encoded format\n",
    "y_train = tf.keras.utils.to_categorical(y_train, num_classes)\n",
    "y_test = tf.keras.utils.to_categorical(y_test, num_classes)\n",
    "\n",
    "# Перемешаем тренировочные данные\n",
    "train_data = tf.data.Dataset.from_tensor_slices((x_train, y_train))\n",
    "train_data = train_data.repeat().shuffle(5000).batch(batch_size).prefetch(10)\n"
   ]
  },
  {
   "cell_type": "code",
   "execution_count": 174,
   "id": "03c7108f",
   "metadata": {},
   "outputs": [],
   "source": [
    "from keras.models import Sequential\n",
    "from keras.layers import Dense, Flatten, Dropout"
   ]
  },
  {
   "cell_type": "code",
   "execution_count": 175,
   "id": "375d5f5c",
   "metadata": {},
   "outputs": [],
   "source": [
    "model = Sequential([\n",
    "    Flatten(input_shape=(28, 28)),\n",
    "    Dense(n_hidden_1, activation='relu'),\n",
    "    Dropout(0.6),  \n",
    "    Dense(n_hidden_2, activation='relu'),\n",
    "    Dense(num_classes, activation='softmax'),\n",
    "])"
   ]
  },
  {
   "cell_type": "code",
   "execution_count": 176,
   "id": "c5e3d456",
   "metadata": {},
   "outputs": [],
   "source": [
    "model.compile(\n",
    "    optimizer='adam',\n",
    "    loss='categorical_crossentropy',\n",
    "    metrics=['accuracy']\n",
    ")"
   ]
  },
  {
   "cell_type": "code",
   "execution_count": 177,
   "id": "d0e12ada",
   "metadata": {},
   "outputs": [],
   "source": [
    "x_val = x_train[:20000]\n",
    "partial_x_train = x_train[20000:]\n",
    "\n",
    "y_val = y_train[:20000]\n",
    "partial_y_train = y_train[20000:]"
   ]
  },
  {
   "cell_type": "code",
   "execution_count": 178,
   "id": "5e65b1c8",
   "metadata": {},
   "outputs": [
    {
     "name": "stdout",
     "output_type": "stream",
     "text": [
      "Epoch 1/200\n",
      "1875/1875 [==============================] - 7s 4ms/step - loss: 0.6911 - accuracy: 0.7463 - val_loss: 0.4838 - val_accuracy: 0.8201\n",
      "Epoch 2/200\n",
      "1875/1875 [==============================] - 7s 4ms/step - loss: 0.5314 - accuracy: 0.8055 - val_loss: 0.4385 - val_accuracy: 0.8402\n",
      "Epoch 3/200\n",
      "1875/1875 [==============================] - 7s 4ms/step - loss: 0.4913 - accuracy: 0.8198 - val_loss: 0.4165 - val_accuracy: 0.8478\n",
      "Epoch 4/200\n",
      "1875/1875 [==============================] - 8s 4ms/step - loss: 0.4660 - accuracy: 0.8290 - val_loss: 0.4064 - val_accuracy: 0.8544\n",
      "Epoch 5/200\n",
      "1875/1875 [==============================] - 7s 4ms/step - loss: 0.4502 - accuracy: 0.8349 - val_loss: 0.3954 - val_accuracy: 0.8573\n",
      "Epoch 6/200\n",
      "1875/1875 [==============================] - 8s 4ms/step - loss: 0.4420 - accuracy: 0.8364 - val_loss: 0.4112 - val_accuracy: 0.8473\n",
      "Epoch 7/200\n",
      "1875/1875 [==============================] - 8s 4ms/step - loss: 0.4261 - accuracy: 0.8417 - val_loss: 0.3949 - val_accuracy: 0.8578\n",
      "Epoch 8/200\n",
      "1875/1875 [==============================] - 8s 4ms/step - loss: 0.4221 - accuracy: 0.8443 - val_loss: 0.3956 - val_accuracy: 0.8569\n",
      "Epoch 9/200\n",
      "1875/1875 [==============================] - 7s 4ms/step - loss: 0.4136 - accuracy: 0.8486 - val_loss: 0.3798 - val_accuracy: 0.8653\n",
      "Epoch 10/200\n",
      "1875/1875 [==============================] - 8s 4ms/step - loss: 0.4053 - accuracy: 0.8501 - val_loss: 0.3794 - val_accuracy: 0.8623\n",
      "Epoch 11/200\n",
      "1875/1875 [==============================] - 7s 4ms/step - loss: 0.4010 - accuracy: 0.8529 - val_loss: 0.3794 - val_accuracy: 0.8642\n",
      "Epoch 12/200\n",
      "1875/1875 [==============================] - 7s 4ms/step - loss: 0.3983 - accuracy: 0.8531 - val_loss: 0.3847 - val_accuracy: 0.8615\n",
      "Epoch 13/200\n",
      "1875/1875 [==============================] - 7s 4ms/step - loss: 0.3947 - accuracy: 0.8558 - val_loss: 0.3807 - val_accuracy: 0.8671\n",
      "Epoch 14/200\n",
      "1875/1875 [==============================] - 9s 5ms/step - loss: 0.3904 - accuracy: 0.8558 - val_loss: 0.3715 - val_accuracy: 0.8627\n",
      "Epoch 15/200\n",
      "1875/1875 [==============================] - 9s 5ms/step - loss: 0.3857 - accuracy: 0.8567 - val_loss: 0.3832 - val_accuracy: 0.8622\n",
      "Epoch 16/200\n",
      "1875/1875 [==============================] - 7s 4ms/step - loss: 0.3813 - accuracy: 0.8593 - val_loss: 0.3802 - val_accuracy: 0.8604\n",
      "Epoch 17/200\n",
      "1875/1875 [==============================] - 8s 4ms/step - loss: 0.3779 - accuracy: 0.8595 - val_loss: 0.3547 - val_accuracy: 0.8713\n",
      "Epoch 18/200\n",
      "1875/1875 [==============================] - 8s 4ms/step - loss: 0.3736 - accuracy: 0.8604 - val_loss: 0.3781 - val_accuracy: 0.8622\n",
      "Epoch 19/200\n",
      "1875/1875 [==============================] - 8s 4ms/step - loss: 0.3746 - accuracy: 0.8603 - val_loss: 0.3687 - val_accuracy: 0.8717\n",
      "Epoch 20/200\n",
      "1875/1875 [==============================] - 8s 4ms/step - loss: 0.3702 - accuracy: 0.8618 - val_loss: 0.3667 - val_accuracy: 0.8667\n",
      "Epoch 21/200\n",
      "1875/1875 [==============================] - 8s 4ms/step - loss: 0.3655 - accuracy: 0.8630 - val_loss: 0.3614 - val_accuracy: 0.8692\n",
      "Epoch 22/200\n",
      "1875/1875 [==============================] - 8s 4ms/step - loss: 0.3668 - accuracy: 0.8648 - val_loss: 0.3618 - val_accuracy: 0.8697\n",
      "Epoch 23/200\n",
      "1875/1875 [==============================] - 9s 5ms/step - loss: 0.3631 - accuracy: 0.8653 - val_loss: 0.3803 - val_accuracy: 0.8652\n",
      "Epoch 24/200\n",
      "1875/1875 [==============================] - 8s 4ms/step - loss: 0.3638 - accuracy: 0.8634 - val_loss: 0.3619 - val_accuracy: 0.8727\n",
      "Epoch 25/200\n",
      "1875/1875 [==============================] - 7s 4ms/step - loss: 0.3628 - accuracy: 0.8644 - val_loss: 0.3908 - val_accuracy: 0.8552\n",
      "Epoch 26/200\n",
      "1875/1875 [==============================] - 9s 5ms/step - loss: 0.3579 - accuracy: 0.8664 - val_loss: 0.3657 - val_accuracy: 0.8679\n",
      "Epoch 27/200\n",
      "1875/1875 [==============================] - 8s 4ms/step - loss: 0.3567 - accuracy: 0.8689 - val_loss: 0.3569 - val_accuracy: 0.8716\n",
      "Epoch 28/200\n",
      "1875/1875 [==============================] - 7s 4ms/step - loss: 0.3510 - accuracy: 0.8703 - val_loss: 0.3808 - val_accuracy: 0.8599\n",
      "Epoch 29/200\n",
      "1875/1875 [==============================] - 8s 4ms/step - loss: 0.3545 - accuracy: 0.8680 - val_loss: 0.3689 - val_accuracy: 0.8683\n",
      "Epoch 30/200\n",
      "1875/1875 [==============================] - 8s 4ms/step - loss: 0.3515 - accuracy: 0.8693 - val_loss: 0.3672 - val_accuracy: 0.8704\n",
      "Epoch 31/200\n",
      "1875/1875 [==============================] - 7s 4ms/step - loss: 0.3510 - accuracy: 0.8691 - val_loss: 0.3788 - val_accuracy: 0.8582\n",
      "Epoch 32/200\n",
      "1875/1875 [==============================] - 7s 4ms/step - loss: 0.3507 - accuracy: 0.8702 - val_loss: 0.3574 - val_accuracy: 0.8724\n",
      "Epoch 33/200\n",
      "1875/1875 [==============================] - 7s 4ms/step - loss: 0.3469 - accuracy: 0.8697 - val_loss: 0.3689 - val_accuracy: 0.8627\n",
      "Epoch 34/200\n",
      "1875/1875 [==============================] - 7s 4ms/step - loss: 0.3432 - accuracy: 0.8720 - val_loss: 0.3644 - val_accuracy: 0.8686\n",
      "Epoch 35/200\n",
      "1875/1875 [==============================] - 7s 4ms/step - loss: 0.3459 - accuracy: 0.8708 - val_loss: 0.3631 - val_accuracy: 0.8721\n",
      "Epoch 36/200\n",
      "1875/1875 [==============================] - 7s 4ms/step - loss: 0.3467 - accuracy: 0.8702 - val_loss: 0.3712 - val_accuracy: 0.8660\n",
      "Epoch 37/200\n",
      "1875/1875 [==============================] - 7s 4ms/step - loss: 0.3389 - accuracy: 0.8746 - val_loss: 0.3524 - val_accuracy: 0.8734\n",
      "Epoch 38/200\n",
      "1875/1875 [==============================] - 7s 4ms/step - loss: 0.3392 - accuracy: 0.8730 - val_loss: 0.3529 - val_accuracy: 0.8743\n",
      "Epoch 39/200\n",
      "1875/1875 [==============================] - 7s 4ms/step - loss: 0.3404 - accuracy: 0.8725 - val_loss: 0.3637 - val_accuracy: 0.8676\n",
      "Epoch 40/200\n",
      "1875/1875 [==============================] - 8s 4ms/step - loss: 0.3385 - accuracy: 0.8743 - val_loss: 0.3529 - val_accuracy: 0.8734\n",
      "Epoch 41/200\n",
      "1875/1875 [==============================] - 8s 4ms/step - loss: 0.3378 - accuracy: 0.8731 - val_loss: 0.3575 - val_accuracy: 0.8770\n",
      "Epoch 42/200\n",
      "1875/1875 [==============================] - 8s 4ms/step - loss: 0.3361 - accuracy: 0.8742 - val_loss: 0.3594 - val_accuracy: 0.8721\n",
      "Epoch 43/200\n",
      "1875/1875 [==============================] - 8s 4ms/step - loss: 0.3332 - accuracy: 0.8756 - val_loss: 0.3522 - val_accuracy: 0.8763\n",
      "Epoch 44/200\n",
      "1875/1875 [==============================] - 8s 4ms/step - loss: 0.3337 - accuracy: 0.8754 - val_loss: 0.3579 - val_accuracy: 0.8750\n",
      "Epoch 45/200\n",
      "1875/1875 [==============================] - 7s 4ms/step - loss: 0.3340 - accuracy: 0.8753 - val_loss: 0.3733 - val_accuracy: 0.8651\n",
      "Epoch 46/200\n",
      "1875/1875 [==============================] - 8s 4ms/step - loss: 0.3337 - accuracy: 0.8762 - val_loss: 0.3646 - val_accuracy: 0.8685\n",
      "Epoch 47/200\n",
      "1875/1875 [==============================] - 8s 4ms/step - loss: 0.3308 - accuracy: 0.8752 - val_loss: 0.3468 - val_accuracy: 0.8736\n",
      "Epoch 48/200\n",
      "1875/1875 [==============================] - 8s 4ms/step - loss: 0.3313 - accuracy: 0.8762 - val_loss: 0.3619 - val_accuracy: 0.8694\n",
      "Epoch 49/200\n",
      "1875/1875 [==============================] - 8s 4ms/step - loss: 0.3312 - accuracy: 0.8766 - val_loss: 0.3707 - val_accuracy: 0.8636\n",
      "Epoch 50/200\n",
      "1875/1875 [==============================] - 8s 4ms/step - loss: 0.3302 - accuracy: 0.8765 - val_loss: 0.3560 - val_accuracy: 0.8727\n",
      "Epoch 51/200\n",
      "1875/1875 [==============================] - 8s 4ms/step - loss: 0.3267 - accuracy: 0.8765 - val_loss: 0.3861 - val_accuracy: 0.8621\n",
      "Epoch 52/200\n",
      "1875/1875 [==============================] - 8s 4ms/step - loss: 0.3264 - accuracy: 0.8798 - val_loss: 0.3685 - val_accuracy: 0.8675\n",
      "Epoch 53/200\n",
      "1875/1875 [==============================] - 12s 6ms/step - loss: 0.3263 - accuracy: 0.8778 - val_loss: 0.3764 - val_accuracy: 0.8617\n",
      "Epoch 54/200\n",
      "1875/1875 [==============================] - 9s 5ms/step - loss: 0.3238 - accuracy: 0.8798 - val_loss: 0.3610 - val_accuracy: 0.8705\n",
      "Epoch 55/200\n",
      "1875/1875 [==============================] - 7s 4ms/step - loss: 0.3280 - accuracy: 0.8780 - val_loss: 0.3502 - val_accuracy: 0.8756\n",
      "Epoch 56/200\n",
      "1875/1875 [==============================] - 7s 4ms/step - loss: 0.3232 - accuracy: 0.8803 - val_loss: 0.3562 - val_accuracy: 0.8738\n",
      "Epoch 57/200\n"
     ]
    },
    {
     "name": "stdout",
     "output_type": "stream",
     "text": [
      "1875/1875 [==============================] - 7s 4ms/step - loss: 0.3232 - accuracy: 0.8809 - val_loss: 0.3622 - val_accuracy: 0.8705\n",
      "Epoch 58/200\n",
      "1875/1875 [==============================] - 7s 4ms/step - loss: 0.3224 - accuracy: 0.8800 - val_loss: 0.3523 - val_accuracy: 0.8726\n",
      "Epoch 59/200\n",
      "1875/1875 [==============================] - 8s 4ms/step - loss: 0.3218 - accuracy: 0.8795 - val_loss: 0.3705 - val_accuracy: 0.8610\n",
      "Epoch 60/200\n",
      "1875/1875 [==============================] - 8s 4ms/step - loss: 0.3205 - accuracy: 0.8804 - val_loss: 0.3485 - val_accuracy: 0.8741\n",
      "Epoch 61/200\n",
      "1875/1875 [==============================] - 8s 4ms/step - loss: 0.3180 - accuracy: 0.8807 - val_loss: 0.3578 - val_accuracy: 0.8747\n",
      "Epoch 62/200\n",
      "1875/1875 [==============================] - 8s 4ms/step - loss: 0.3189 - accuracy: 0.8819 - val_loss: 0.3550 - val_accuracy: 0.8719\n",
      "Epoch 63/200\n",
      "1875/1875 [==============================] - 8s 4ms/step - loss: 0.3183 - accuracy: 0.8822 - val_loss: 0.3485 - val_accuracy: 0.8750\n",
      "Epoch 64/200\n",
      "1875/1875 [==============================] - 8s 4ms/step - loss: 0.3192 - accuracy: 0.8799 - val_loss: 0.3526 - val_accuracy: 0.8759\n",
      "Epoch 65/200\n",
      "1875/1875 [==============================] - 8s 4ms/step - loss: 0.3183 - accuracy: 0.8805 - val_loss: 0.3505 - val_accuracy: 0.8741\n",
      "Epoch 66/200\n",
      "1875/1875 [==============================] - 9s 5ms/step - loss: 0.3169 - accuracy: 0.8808 - val_loss: 0.3623 - val_accuracy: 0.8692\n",
      "Epoch 67/200\n",
      "1875/1875 [==============================] - 8s 4ms/step - loss: 0.3188 - accuracy: 0.8818 - val_loss: 0.3463 - val_accuracy: 0.8786\n",
      "Epoch 68/200\n",
      "1875/1875 [==============================] - 8s 4ms/step - loss: 0.3149 - accuracy: 0.8829 - val_loss: 0.3520 - val_accuracy: 0.8774\n",
      "Epoch 69/200\n",
      "1875/1875 [==============================] - 8s 4ms/step - loss: 0.3158 - accuracy: 0.8818 - val_loss: 0.3532 - val_accuracy: 0.8744\n",
      "Epoch 70/200\n",
      "1875/1875 [==============================] - 8s 4ms/step - loss: 0.3120 - accuracy: 0.8827 - val_loss: 0.3516 - val_accuracy: 0.8756\n",
      "Epoch 71/200\n",
      "1875/1875 [==============================] - 9s 5ms/step - loss: 0.3142 - accuracy: 0.8833 - val_loss: 0.3816 - val_accuracy: 0.8600\n",
      "Epoch 72/200\n",
      "1875/1875 [==============================] - 8s 4ms/step - loss: 0.3124 - accuracy: 0.8830 - val_loss: 0.3531 - val_accuracy: 0.8762\n",
      "Epoch 73/200\n",
      "1875/1875 [==============================] - 8s 4ms/step - loss: 0.3137 - accuracy: 0.8826 - val_loss: 0.3511 - val_accuracy: 0.8769\n",
      "Epoch 74/200\n",
      "1875/1875 [==============================] - 10s 5ms/step - loss: 0.3093 - accuracy: 0.8845 - val_loss: 0.3500 - val_accuracy: 0.8743\n",
      "Epoch 75/200\n",
      "1875/1875 [==============================] - 8s 4ms/step - loss: 0.3166 - accuracy: 0.8817 - val_loss: 0.3576 - val_accuracy: 0.8721\n",
      "Epoch 76/200\n",
      "1875/1875 [==============================] - 9s 5ms/step - loss: 0.3099 - accuracy: 0.8846 - val_loss: 0.3539 - val_accuracy: 0.8760\n",
      "Epoch 77/200\n",
      "1875/1875 [==============================] - 9s 5ms/step - loss: 0.3107 - accuracy: 0.8834 - val_loss: 0.3712 - val_accuracy: 0.8683\n",
      "Epoch 78/200\n",
      "1875/1875 [==============================] - 10s 5ms/step - loss: 0.3108 - accuracy: 0.8839 - val_loss: 0.3636 - val_accuracy: 0.8697\n",
      "Epoch 79/200\n",
      "1875/1875 [==============================] - 8s 4ms/step - loss: 0.3119 - accuracy: 0.8845 - val_loss: 0.3697 - val_accuracy: 0.8653\n",
      "Epoch 80/200\n",
      "1875/1875 [==============================] - 9s 5ms/step - loss: 0.3083 - accuracy: 0.8856 - val_loss: 0.3761 - val_accuracy: 0.8659\n",
      "Epoch 81/200\n",
      "1875/1875 [==============================] - 8s 4ms/step - loss: 0.3124 - accuracy: 0.8825 - val_loss: 0.3545 - val_accuracy: 0.8723\n",
      "Epoch 82/200\n",
      "1875/1875 [==============================] - 8s 4ms/step - loss: 0.3115 - accuracy: 0.8849 - val_loss: 0.3397 - val_accuracy: 0.8804\n",
      "Epoch 83/200\n",
      "1875/1875 [==============================] - 8s 4ms/step - loss: 0.3048 - accuracy: 0.8850 - val_loss: 0.3655 - val_accuracy: 0.8657\n",
      "Epoch 84/200\n",
      "1875/1875 [==============================] - 10s 5ms/step - loss: 0.3073 - accuracy: 0.8850 - val_loss: 0.3557 - val_accuracy: 0.8739\n",
      "Epoch 85/200\n",
      "1875/1875 [==============================] - 12s 6ms/step - loss: 0.3060 - accuracy: 0.8859 - val_loss: 0.3496 - val_accuracy: 0.8746\n",
      "Epoch 86/200\n",
      "1875/1875 [==============================] - 8s 4ms/step - loss: 0.3077 - accuracy: 0.8853 - val_loss: 0.3598 - val_accuracy: 0.8711\n",
      "Epoch 87/200\n",
      "1875/1875 [==============================] - 8s 4ms/step - loss: 0.3026 - accuracy: 0.8869 - val_loss: 0.3772 - val_accuracy: 0.8685\n",
      "Epoch 88/200\n",
      "1875/1875 [==============================] - 9s 5ms/step - loss: 0.3072 - accuracy: 0.8840 - val_loss: 0.3560 - val_accuracy: 0.8714\n",
      "Epoch 89/200\n",
      "1875/1875 [==============================] - 9s 5ms/step - loss: 0.3059 - accuracy: 0.8854 - val_loss: 0.3591 - val_accuracy: 0.8694\n",
      "Epoch 90/200\n",
      "1875/1875 [==============================] - 8s 4ms/step - loss: 0.3050 - accuracy: 0.8864 - val_loss: 0.3485 - val_accuracy: 0.8768\n",
      "Epoch 91/200\n",
      "1875/1875 [==============================] - 8s 4ms/step - loss: 0.3027 - accuracy: 0.8853 - val_loss: 0.3610 - val_accuracy: 0.8709\n",
      "Epoch 92/200\n",
      "1875/1875 [==============================] - 8s 4ms/step - loss: 0.3030 - accuracy: 0.8861 - val_loss: 0.3492 - val_accuracy: 0.8757\n",
      "Epoch 93/200\n",
      "1875/1875 [==============================] - 8s 4ms/step - loss: 0.3055 - accuracy: 0.8861 - val_loss: 0.3557 - val_accuracy: 0.8726\n",
      "Epoch 94/200\n",
      "1875/1875 [==============================] - 8s 4ms/step - loss: 0.3028 - accuracy: 0.8864 - val_loss: 0.3493 - val_accuracy: 0.8734\n",
      "Epoch 95/200\n",
      "1875/1875 [==============================] - 8s 4ms/step - loss: 0.3027 - accuracy: 0.8866 - val_loss: 0.3562 - val_accuracy: 0.8729\n",
      "Epoch 96/200\n",
      "1875/1875 [==============================] - 8s 4ms/step - loss: 0.3018 - accuracy: 0.8879 - val_loss: 0.3476 - val_accuracy: 0.8748\n",
      "Epoch 97/200\n",
      "1875/1875 [==============================] - 8s 4ms/step - loss: 0.3033 - accuracy: 0.8872 - val_loss: 0.3506 - val_accuracy: 0.8797\n",
      "Epoch 98/200\n",
      "1875/1875 [==============================] - 11s 6ms/step - loss: 0.3007 - accuracy: 0.8879 - val_loss: 0.3423 - val_accuracy: 0.8813\n",
      "Epoch 99/200\n",
      "1875/1875 [==============================] - 11s 6ms/step - loss: 0.3028 - accuracy: 0.8873 - val_loss: 0.3638 - val_accuracy: 0.8689\n",
      "Epoch 100/200\n",
      "1875/1875 [==============================] - 11s 6ms/step - loss: 0.3014 - accuracy: 0.8881 - val_loss: 0.3615 - val_accuracy: 0.8687\n",
      "Epoch 101/200\n",
      "1875/1875 [==============================] - 7s 4ms/step - loss: 0.3018 - accuracy: 0.8876 - val_loss: 0.3525 - val_accuracy: 0.8724\n",
      "Epoch 102/200\n",
      "1875/1875 [==============================] - 9s 5ms/step - loss: 0.2996 - accuracy: 0.8871 - val_loss: 0.3585 - val_accuracy: 0.8694\n",
      "Epoch 103/200\n",
      "1875/1875 [==============================] - 8s 4ms/step - loss: 0.2981 - accuracy: 0.8886 - val_loss: 0.3525 - val_accuracy: 0.8770\n",
      "Epoch 104/200\n",
      "1875/1875 [==============================] - 8s 4ms/step - loss: 0.2969 - accuracy: 0.8883 - val_loss: 0.3577 - val_accuracy: 0.8716\n",
      "Epoch 105/200\n",
      "1875/1875 [==============================] - 7s 4ms/step - loss: 0.2993 - accuracy: 0.8882 - val_loss: 0.3560 - val_accuracy: 0.8713\n",
      "Epoch 106/200\n",
      "1875/1875 [==============================] - 7s 4ms/step - loss: 0.3008 - accuracy: 0.8873 - val_loss: 0.3527 - val_accuracy: 0.8776\n",
      "Epoch 107/200\n",
      "1875/1875 [==============================] - 7s 4ms/step - loss: 0.2994 - accuracy: 0.8866 - val_loss: 0.3440 - val_accuracy: 0.8789\n",
      "Epoch 108/200\n",
      "1875/1875 [==============================] - 7s 4ms/step - loss: 0.2967 - accuracy: 0.8892 - val_loss: 0.3590 - val_accuracy: 0.8721\n",
      "Epoch 109/200\n",
      "1875/1875 [==============================] - 7s 3ms/step - loss: 0.2959 - accuracy: 0.8896 - val_loss: 0.3557 - val_accuracy: 0.8742\n",
      "Epoch 110/200\n",
      "1875/1875 [==============================] - 7s 4ms/step - loss: 0.2969 - accuracy: 0.8903 - val_loss: 0.3746 - val_accuracy: 0.8692\n",
      "Epoch 111/200\n",
      "1875/1875 [==============================] - 7s 3ms/step - loss: 0.2971 - accuracy: 0.8896 - val_loss: 0.3502 - val_accuracy: 0.8783\n",
      "Epoch 112/200\n",
      "1875/1875 [==============================] - 8s 4ms/step - loss: 0.2956 - accuracy: 0.8894 - val_loss: 0.3543 - val_accuracy: 0.8750\n",
      "Epoch 113/200\n"
     ]
    },
    {
     "name": "stdout",
     "output_type": "stream",
     "text": [
      "1875/1875 [==============================] - 9s 5ms/step - loss: 0.2947 - accuracy: 0.8911 - val_loss: 0.3665 - val_accuracy: 0.8687\n",
      "Epoch 114/200\n",
      "1875/1875 [==============================] - 8s 4ms/step - loss: 0.2909 - accuracy: 0.8919 - val_loss: 0.3678 - val_accuracy: 0.8666\n",
      "Epoch 115/200\n",
      "1875/1875 [==============================] - 8s 4ms/step - loss: 0.2974 - accuracy: 0.8891 - val_loss: 0.3643 - val_accuracy: 0.8665\n",
      "Epoch 116/200\n",
      "1875/1875 [==============================] - 8s 4ms/step - loss: 0.2943 - accuracy: 0.8898 - val_loss: 0.3492 - val_accuracy: 0.8794\n",
      "Epoch 117/200\n",
      "1875/1875 [==============================] - 8s 4ms/step - loss: 0.2960 - accuracy: 0.8897 - val_loss: 0.3581 - val_accuracy: 0.8768\n",
      "Epoch 118/200\n",
      "1875/1875 [==============================] - 8s 4ms/step - loss: 0.2934 - accuracy: 0.8913 - val_loss: 0.3745 - val_accuracy: 0.8670\n",
      "Epoch 119/200\n",
      "1875/1875 [==============================] - 8s 4ms/step - loss: 0.2933 - accuracy: 0.8907 - val_loss: 0.3641 - val_accuracy: 0.8670\n",
      "Epoch 120/200\n",
      "1875/1875 [==============================] - 8s 4ms/step - loss: 0.2926 - accuracy: 0.8909 - val_loss: 0.3590 - val_accuracy: 0.8736\n",
      "Epoch 121/200\n",
      "1875/1875 [==============================] - 8s 4ms/step - loss: 0.2913 - accuracy: 0.8929 - val_loss: 0.3423 - val_accuracy: 0.8777\n",
      "Epoch 122/200\n",
      "1875/1875 [==============================] - 8s 4ms/step - loss: 0.2924 - accuracy: 0.8910 - val_loss: 0.3592 - val_accuracy: 0.8754\n",
      "Epoch 123/200\n",
      "1875/1875 [==============================] - 8s 4ms/step - loss: 0.2912 - accuracy: 0.8925 - val_loss: 0.3497 - val_accuracy: 0.8794\n",
      "Epoch 124/200\n",
      "1875/1875 [==============================] - 9s 5ms/step - loss: 0.2921 - accuracy: 0.8900 - val_loss: 0.3541 - val_accuracy: 0.8729\n",
      "Epoch 125/200\n",
      "1875/1875 [==============================] - 7s 4ms/step - loss: 0.2910 - accuracy: 0.8913 - val_loss: 0.3684 - val_accuracy: 0.8704\n",
      "Epoch 126/200\n",
      "1875/1875 [==============================] - 8s 4ms/step - loss: 0.2911 - accuracy: 0.8915 - val_loss: 0.3567 - val_accuracy: 0.8728\n",
      "Epoch 127/200\n",
      "1875/1875 [==============================] - 8s 4ms/step - loss: 0.2910 - accuracy: 0.8919 - val_loss: 0.3503 - val_accuracy: 0.8763\n",
      "Epoch 128/200\n",
      "1875/1875 [==============================] - 8s 4ms/step - loss: 0.2884 - accuracy: 0.8924 - val_loss: 0.3516 - val_accuracy: 0.8796\n",
      "Epoch 129/200\n",
      "1875/1875 [==============================] - 8s 4ms/step - loss: 0.2877 - accuracy: 0.8929 - val_loss: 0.3625 - val_accuracy: 0.8783\n",
      "Epoch 130/200\n",
      "1875/1875 [==============================] - 8s 4ms/step - loss: 0.2862 - accuracy: 0.8929 - val_loss: 0.3697 - val_accuracy: 0.8699\n",
      "Epoch 131/200\n",
      "1875/1875 [==============================] - 8s 4ms/step - loss: 0.2884 - accuracy: 0.8909 - val_loss: 0.3483 - val_accuracy: 0.8773\n",
      "Epoch 132/200\n",
      "1875/1875 [==============================] - 9s 5ms/step - loss: 0.2899 - accuracy: 0.8927 - val_loss: 0.3526 - val_accuracy: 0.8761\n",
      "Epoch 133/200\n",
      "1875/1875 [==============================] - 8s 4ms/step - loss: 0.2892 - accuracy: 0.8927 - val_loss: 0.3539 - val_accuracy: 0.8769\n",
      "Epoch 134/200\n",
      "1875/1875 [==============================] - 7s 4ms/step - loss: 0.2865 - accuracy: 0.8922 - val_loss: 0.3531 - val_accuracy: 0.8744\n",
      "Epoch 135/200\n",
      "1875/1875 [==============================] - 7s 4ms/step - loss: 0.2910 - accuracy: 0.8918 - val_loss: 0.3497 - val_accuracy: 0.8770\n",
      "Epoch 136/200\n",
      "1875/1875 [==============================] - 9s 5ms/step - loss: 0.2868 - accuracy: 0.8926 - val_loss: 0.3514 - val_accuracy: 0.8755\n",
      "Epoch 137/200\n",
      "1875/1875 [==============================] - 8s 4ms/step - loss: 0.2873 - accuracy: 0.8926 - val_loss: 0.3587 - val_accuracy: 0.8755\n",
      "Epoch 138/200\n",
      "1875/1875 [==============================] - 9s 5ms/step - loss: 0.2891 - accuracy: 0.8936 - val_loss: 0.3521 - val_accuracy: 0.8752\n",
      "Epoch 139/200\n",
      "1875/1875 [==============================] - 8s 4ms/step - loss: 0.2903 - accuracy: 0.8917 - val_loss: 0.3748 - val_accuracy: 0.8690\n",
      "Epoch 140/200\n",
      "1875/1875 [==============================] - 8s 4ms/step - loss: 0.2868 - accuracy: 0.8932 - val_loss: 0.3595 - val_accuracy: 0.8733\n",
      "Epoch 141/200\n",
      "1875/1875 [==============================] - 8s 5ms/step - loss: 0.2862 - accuracy: 0.8925 - val_loss: 0.3675 - val_accuracy: 0.8719\n",
      "Epoch 142/200\n",
      "1875/1875 [==============================] - 8s 4ms/step - loss: 0.2861 - accuracy: 0.8921 - val_loss: 0.3526 - val_accuracy: 0.8779\n",
      "Epoch 143/200\n",
      "1875/1875 [==============================] - 9s 5ms/step - loss: 0.2849 - accuracy: 0.8919 - val_loss: 0.3768 - val_accuracy: 0.8663\n",
      "Epoch 144/200\n",
      "1875/1875 [==============================] - 8s 4ms/step - loss: 0.2889 - accuracy: 0.8905 - val_loss: 0.3462 - val_accuracy: 0.8805\n",
      "Epoch 145/200\n",
      "1875/1875 [==============================] - 9s 5ms/step - loss: 0.2834 - accuracy: 0.8948 - val_loss: 0.3601 - val_accuracy: 0.8750\n",
      "Epoch 146/200\n",
      "1875/1875 [==============================] - 9s 5ms/step - loss: 0.2855 - accuracy: 0.8950 - val_loss: 0.3585 - val_accuracy: 0.8761\n",
      "Epoch 147/200\n",
      "1875/1875 [==============================] - 8s 4ms/step - loss: 0.2891 - accuracy: 0.8916 - val_loss: 0.3510 - val_accuracy: 0.8778\n",
      "Epoch 148/200\n",
      "1875/1875 [==============================] - 8s 4ms/step - loss: 0.2836 - accuracy: 0.8947 - val_loss: 0.3505 - val_accuracy: 0.8791\n",
      "Epoch 149/200\n",
      "1875/1875 [==============================] - 9s 5ms/step - loss: 0.2848 - accuracy: 0.8928 - val_loss: 0.3661 - val_accuracy: 0.8763\n",
      "Epoch 150/200\n",
      "1875/1875 [==============================] - 9s 5ms/step - loss: 0.2798 - accuracy: 0.8952 - val_loss: 0.3628 - val_accuracy: 0.8765\n",
      "Epoch 151/200\n",
      "1875/1875 [==============================] - 9s 5ms/step - loss: 0.2859 - accuracy: 0.8923 - val_loss: 0.3613 - val_accuracy: 0.8745\n",
      "Epoch 152/200\n",
      "1875/1875 [==============================] - 8s 4ms/step - loss: 0.2837 - accuracy: 0.8930 - val_loss: 0.3557 - val_accuracy: 0.8787\n",
      "Epoch 153/200\n",
      "1875/1875 [==============================] - 9s 5ms/step - loss: 0.2824 - accuracy: 0.8953 - val_loss: 0.3562 - val_accuracy: 0.8754\n",
      "Epoch 154/200\n",
      "1875/1875 [==============================] - 9s 5ms/step - loss: 0.2845 - accuracy: 0.8949 - val_loss: 0.3591 - val_accuracy: 0.8764\n",
      "Epoch 155/200\n",
      "1875/1875 [==============================] - 9s 5ms/step - loss: 0.2858 - accuracy: 0.8937 - val_loss: 0.3658 - val_accuracy: 0.8706\n",
      "Epoch 156/200\n",
      "1875/1875 [==============================] - 8s 4ms/step - loss: 0.2784 - accuracy: 0.8959 - val_loss: 0.3742 - val_accuracy: 0.8683\n",
      "Epoch 157/200\n",
      "1875/1875 [==============================] - 10s 5ms/step - loss: 0.2811 - accuracy: 0.8952 - val_loss: 0.3831 - val_accuracy: 0.8630\n",
      "Epoch 158/200\n",
      "1875/1875 [==============================] - 11s 6ms/step - loss: 0.2809 - accuracy: 0.8947 - val_loss: 0.3740 - val_accuracy: 0.8737\n",
      "Epoch 159/200\n",
      "1875/1875 [==============================] - 9s 5ms/step - loss: 0.2848 - accuracy: 0.8946 - val_loss: 0.3556 - val_accuracy: 0.8769\n",
      "Epoch 160/200\n",
      "1875/1875 [==============================] - 9s 5ms/step - loss: 0.2840 - accuracy: 0.8949 - val_loss: 0.3646 - val_accuracy: 0.8732\n",
      "Epoch 161/200\n",
      "1875/1875 [==============================] - 8s 4ms/step - loss: 0.2834 - accuracy: 0.8955 - val_loss: 0.3627 - val_accuracy: 0.8719\n",
      "Epoch 162/200\n",
      "1875/1875 [==============================] - 8s 4ms/step - loss: 0.2811 - accuracy: 0.8952 - val_loss: 0.3497 - val_accuracy: 0.8775\n",
      "Epoch 163/200\n",
      "1875/1875 [==============================] - 9s 5ms/step - loss: 0.2819 - accuracy: 0.8945 - val_loss: 0.3644 - val_accuracy: 0.8738\n",
      "Epoch 164/200\n",
      "1875/1875 [==============================] - 8s 4ms/step - loss: 0.2825 - accuracy: 0.8946 - val_loss: 0.3558 - val_accuracy: 0.8747\n",
      "Epoch 165/200\n",
      "1875/1875 [==============================] - 8s 4ms/step - loss: 0.2806 - accuracy: 0.8946 - val_loss: 0.3564 - val_accuracy: 0.8769\n",
      "Epoch 166/200\n",
      "1875/1875 [==============================] - 8s 4ms/step - loss: 0.2827 - accuracy: 0.8948 - val_loss: 0.3612 - val_accuracy: 0.8724\n",
      "Epoch 167/200\n",
      "1875/1875 [==============================] - 8s 4ms/step - loss: 0.2813 - accuracy: 0.8959 - val_loss: 0.3601 - val_accuracy: 0.8757\n",
      "Epoch 168/200\n",
      "1875/1875 [==============================] - 8s 5ms/step - loss: 0.2825 - accuracy: 0.8943 - val_loss: 0.3630 - val_accuracy: 0.8749\n"
     ]
    },
    {
     "name": "stdout",
     "output_type": "stream",
     "text": [
      "Epoch 169/200\n",
      "1875/1875 [==============================] - 10s 5ms/step - loss: 0.2817 - accuracy: 0.8950 - val_loss: 0.3487 - val_accuracy: 0.8783\n",
      "Epoch 170/200\n",
      "1875/1875 [==============================] - 8s 4ms/step - loss: 0.2792 - accuracy: 0.8958 - val_loss: 0.3486 - val_accuracy: 0.8814\n",
      "Epoch 171/200\n",
      "1875/1875 [==============================] - 9s 5ms/step - loss: 0.2809 - accuracy: 0.8949 - val_loss: 0.3649 - val_accuracy: 0.8773\n",
      "Epoch 172/200\n",
      "1875/1875 [==============================] - 8s 4ms/step - loss: 0.2779 - accuracy: 0.8952 - val_loss: 0.3699 - val_accuracy: 0.8712\n",
      "Epoch 173/200\n",
      "1875/1875 [==============================] - 8s 4ms/step - loss: 0.2770 - accuracy: 0.8965 - val_loss: 0.3665 - val_accuracy: 0.8750\n",
      "Epoch 174/200\n",
      "1875/1875 [==============================] - 7s 4ms/step - loss: 0.2783 - accuracy: 0.8959 - val_loss: 0.3631 - val_accuracy: 0.8741\n",
      "Epoch 175/200\n",
      "1875/1875 [==============================] - 7s 4ms/step - loss: 0.2789 - accuracy: 0.8951 - val_loss: 0.3719 - val_accuracy: 0.8682\n",
      "Epoch 176/200\n",
      "1875/1875 [==============================] - 7s 4ms/step - loss: 0.2773 - accuracy: 0.8954 - val_loss: 0.3629 - val_accuracy: 0.8772\n",
      "Epoch 177/200\n",
      "1875/1875 [==============================] - 7s 4ms/step - loss: 0.2743 - accuracy: 0.8970 - val_loss: 0.3542 - val_accuracy: 0.8791\n",
      "Epoch 178/200\n",
      "1875/1875 [==============================] - 7s 4ms/step - loss: 0.2834 - accuracy: 0.8957 - val_loss: 0.3578 - val_accuracy: 0.8730\n",
      "Epoch 179/200\n",
      "1875/1875 [==============================] - 7s 4ms/step - loss: 0.2775 - accuracy: 0.8962 - val_loss: 0.3485 - val_accuracy: 0.8776\n",
      "Epoch 180/200\n",
      "1875/1875 [==============================] - 9s 5ms/step - loss: 0.2791 - accuracy: 0.8964 - val_loss: 0.3753 - val_accuracy: 0.8706\n",
      "Epoch 181/200\n",
      "1875/1875 [==============================] - 11s 6ms/step - loss: 0.2802 - accuracy: 0.8957 - val_loss: 0.3648 - val_accuracy: 0.8740\n",
      "Epoch 182/200\n",
      "1875/1875 [==============================] - 12s 6ms/step - loss: 0.2742 - accuracy: 0.8970 - val_loss: 0.3624 - val_accuracy: 0.8752\n",
      "Epoch 183/200\n",
      "1875/1875 [==============================] - 9s 5ms/step - loss: 0.2765 - accuracy: 0.8967 - val_loss: 0.3619 - val_accuracy: 0.8762\n",
      "Epoch 184/200\n",
      "1875/1875 [==============================] - 9s 5ms/step - loss: 0.2752 - accuracy: 0.8967 - val_loss: 0.3584 - val_accuracy: 0.8756\n",
      "Epoch 185/200\n",
      "1875/1875 [==============================] - 8s 4ms/step - loss: 0.2782 - accuracy: 0.8964 - val_loss: 0.3650 - val_accuracy: 0.8783\n",
      "Epoch 186/200\n",
      "1875/1875 [==============================] - 7s 4ms/step - loss: 0.2751 - accuracy: 0.8961 - val_loss: 0.3483 - val_accuracy: 0.8806\n",
      "Epoch 187/200\n",
      "1875/1875 [==============================] - 7s 4ms/step - loss: 0.2747 - accuracy: 0.8966 - val_loss: 0.3459 - val_accuracy: 0.8842\n",
      "Epoch 188/200\n",
      "1875/1875 [==============================] - 7s 4ms/step - loss: 0.2747 - accuracy: 0.8970 - val_loss: 0.3563 - val_accuracy: 0.8766\n",
      "Epoch 189/200\n",
      "1875/1875 [==============================] - 7s 4ms/step - loss: 0.2733 - accuracy: 0.8968 - val_loss: 0.3612 - val_accuracy: 0.8753\n",
      "Epoch 190/200\n",
      "1875/1875 [==============================] - 7s 3ms/step - loss: 0.2717 - accuracy: 0.8993 - val_loss: 0.3486 - val_accuracy: 0.8794\n",
      "Epoch 191/200\n",
      "1875/1875 [==============================] - 7s 4ms/step - loss: 0.2736 - accuracy: 0.8973 - val_loss: 0.3522 - val_accuracy: 0.8816\n",
      "Epoch 192/200\n",
      "1875/1875 [==============================] - 7s 4ms/step - loss: 0.2738 - accuracy: 0.8973 - val_loss: 0.3628 - val_accuracy: 0.8776\n",
      "Epoch 193/200\n",
      "1875/1875 [==============================] - 7s 3ms/step - loss: 0.2765 - accuracy: 0.8976 - val_loss: 0.3626 - val_accuracy: 0.8755\n",
      "Epoch 194/200\n",
      "1875/1875 [==============================] - 7s 4ms/step - loss: 0.2759 - accuracy: 0.8980 - val_loss: 0.3554 - val_accuracy: 0.8790\n",
      "Epoch 195/200\n",
      "1875/1875 [==============================] - 10s 5ms/step - loss: 0.2718 - accuracy: 0.8979 - val_loss: 0.3668 - val_accuracy: 0.8774\n",
      "Epoch 196/200\n",
      "1875/1875 [==============================] - 10s 5ms/step - loss: 0.2746 - accuracy: 0.8971 - val_loss: 0.3741 - val_accuracy: 0.8723\n",
      "Epoch 197/200\n",
      "1875/1875 [==============================] - 10s 5ms/step - loss: 0.2702 - accuracy: 0.8990 - val_loss: 0.3525 - val_accuracy: 0.8816\n",
      "Epoch 198/200\n",
      "1875/1875 [==============================] - 10s 5ms/step - loss: 0.2733 - accuracy: 0.8985 - val_loss: 0.3573 - val_accuracy: 0.8786\n",
      "Epoch 199/200\n",
      "1875/1875 [==============================] - 10s 5ms/step - loss: 0.2768 - accuracy: 0.8972 - val_loss: 0.3595 - val_accuracy: 0.8748\n",
      "Epoch 200/200\n",
      "1875/1875 [==============================] - 7s 4ms/step - loss: 0.2739 - accuracy: 0.8981 - val_loss: 0.3571 - val_accuracy: 0.8796\n"
     ]
    }
   ],
   "source": [
    "history = model.fit(\n",
    "    x_train,\n",
    "    y_train,\n",
    "    epochs=training_steps,\n",
    "    #batch_size=batch_size,\n",
    "    validation_data=(x_test, y_test)\n",
    ")"
   ]
  },
  {
   "cell_type": "code",
   "execution_count": 179,
   "id": "7cf97213",
   "metadata": {},
   "outputs": [
    {
     "name": "stdout",
     "output_type": "stream",
     "text": [
      "313/313 [==============================] - 1s 2ms/step - loss: 0.3571 - accuracy: 0.8796\n",
      "[0.3570803701877594, 0.8795999884605408]\n"
     ]
    }
   ],
   "source": [
    "results = model.evaluate(x_test, y_test)\n",
    "print(results)"
   ]
  },
  {
   "cell_type": "code",
   "execution_count": 180,
   "id": "a6e279af",
   "metadata": {},
   "outputs": [
    {
     "data": {
      "image/png": "[encoded data removed]",
      "text/plain": [
       "<Figure size 640x480 with 1 Axes>"
      ]
     },
     "metadata": {},
     "output_type": "display_data"
    },
    {
     "data": {
      "text/plain": [
       "<matplotlib.legend.Legend at 0x1dc01becb80>"
      ]
     },
     "execution_count": 180,
     "metadata": {},
     "output_type": "execute_result"
    },
    {
     "data": {
      "image/png": "[encoded data removed]",
      "text/plain": [
       "<Figure size 640x480 with 1 Axes>"
      ]
     },
     "metadata": {},
     "output_type": "display_data"
    }
   ],
   "source": [
    "import matplotlib.pyplot as plt\n",
    "\n",
    "\n",
    "history_dict = history.history\n",
    "loss_values = history_dict['loss']\n",
    "val_loss_values = history_dict['val_loss']\n",
    "\n",
    "epochs = range(1, len(history_dict['accuracy']) + 1)\n",
    "\n",
    "plt.plot(epochs, loss_values, 'bo', label='Training loss')\n",
    "plt.plot(epochs, val_loss_values, 'b', label='Validation loss')\n",
    "plt.title('Training and validation loss')\n",
    "plt.xlabel('Epochs')\n",
    "plt.ylabel('Loss')\n",
    "plt.legend()\n",
    "plt.show()\n",
    "\n",
    "plt.clf()\n",
    "val_acc_values = history_dict['val_accuracy']\n",
    "plt.plot(epochs, history_dict['accuracy'], 'bo', label='Training acc')\n",
    "plt.plot(epochs, history_dict['val_accuracy'], 'b', label='Validation acc')\n",
    "plt.title('Training and validation accuracy')\n",
    "plt.xlabel('Epochs')\n",
    "plt.ylabel('Loss')\n",
    "plt.legend()"
   ]
  },
  {
   "cell_type": "code",
   "execution_count": 181,
   "id": "144ed312",
   "metadata": {},
   "outputs": [
    {
     "name": "stderr",
     "output_type": "stream",
     "text": [
      "WARNING:absl:Found untraced functions such as _update_step_xla while saving (showing 1 of 1). These functions will not be directly callable after loading.\n"
     ]
    },
    {
     "name": "stdout",
     "output_type": "stream",
     "text": [
      "INFO:tensorflow:Assets written to: adam_l128_64_ep200_flat\\assets\n"
     ]
    },
    {
     "name": "stderr",
     "output_type": "stream",
     "text": [
      "INFO:tensorflow:Assets written to: adam_l128_64_ep200_flat\\assets\n"
     ]
    }
   ],
   "source": [
    "model.save(\"adam_l128_64_ep200_flat\")"
   ]
  },
  {
   "cell_type": "code",
   "execution_count": 182,
   "id": "1d7fdd04",
   "metadata": {},
   "outputs": [
    {
     "name": "stdout",
     "output_type": "stream",
     "text": [
      "[[0.         0.         0.         0.         0.         0.00392157\n",
      "  0.         0.         0.         0.         0.24313726 0.7529412\n",
      "  0.5568628  0.654902   0.57254905 0.627451   0.7019608  0.\n",
      "  0.         0.         0.         0.01176471 0.         0.\n",
      "  0.00392157 0.         0.         0.        ]\n",
      " [0.         0.         0.         0.         0.         0.\n",
      "  0.         0.08235294 0.38039216 0.654902   0.7294118  0.78039217\n",
      "  0.10588235 0.01960784 0.07450981 0.10588235 0.7137255  0.8039216\n",
      "  0.5058824  0.18039216 0.         0.         0.         0.\n",
      "  0.         0.         0.         0.        ]\n",
      " [0.         0.         0.         0.00392157 0.         0.\n",
      "  0.5254902  0.6901961  0.6862745  0.65882355 0.61960787 0.70980394\n",
      "  0.57254905 0.20784314 0.07058824 0.43529412 0.7019608  0.5647059\n",
      "  0.6509804  0.654902   0.5764706  0.20392157 0.         0.00784314\n",
      "  0.         0.         0.         0.        ]\n",
      " [0.         0.         0.         0.01568628 0.         0.19215687\n",
      "  0.7294118  0.5686275  0.5529412  0.5647059  0.6117647  0.53333336\n",
      "  0.61960787 0.92156863 0.827451   0.65882355 0.5294118  0.5372549\n",
      "  0.49411765 0.4862745  0.53333336 0.627451   0.00784314 0.\n",
      "  0.00784314 0.         0.         0.        ]\n",
      " [0.         0.         0.         0.00784314 0.         0.4862745\n",
      "  0.6745098  0.6431373  0.5764706  0.6156863  0.6        0.5764706\n",
      "  0.5254902  0.72156864 0.6156863  0.5019608  0.5647059  0.57254905\n",
      "  0.5411765  0.5019608  0.53333336 0.61960787 0.2627451  0.\n",
      "  0.01568628 0.         0.         0.        ]\n",
      " [0.         0.         0.00392157 0.         0.         0.7647059\n",
      "  0.6        0.7176471  0.6627451  0.63529414 0.58431375 0.5686275\n",
      "  0.5372549  0.7607843  0.6509804  0.5568628  0.5529412  0.5294118\n",
      "  0.5882353  0.54509807 0.68235296 0.6156863  0.47058824 0.\n",
      "  0.00392157 0.         0.         0.        ]\n",
      " [0.         0.         0.01176471 0.         0.11372549 0.6901961\n",
      "  0.6117647  0.73333335 0.73333335 0.6509804  0.5803922  0.5568628\n",
      "  0.52156866 0.69411767 0.6901961  0.5568628  0.5294118  0.49019608\n",
      "  0.5803922  0.5529412  0.69411767 0.6117647  0.62352943 0.\n",
      "  0.         0.00392157 0.         0.        ]\n",
      " [0.         0.         0.01568628 0.         0.36862746 0.6745098\n",
      "  0.6784314  0.7176471  0.7607843  0.6784314  0.61960787 0.5764706\n",
      "  0.5254902  0.70980394 0.7607843  0.5176471  0.8156863  0.74509805\n",
      "  0.7764706  0.5372549  0.7529412  0.5803922  0.6509804  0.13725491\n",
      "  0.         0.00784314 0.         0.        ]\n",
      " [0.         0.         0.         0.         0.5568628  0.62352943\n",
      "  0.6901961  0.6        0.78039217 0.65882355 0.53333336 0.45490196\n",
      "  0.41960785 0.6784314  0.7294118  0.4627451  0.74509805 0.7254902\n",
      "  0.78039217 0.58431375 0.78039217 0.5921569  0.60784316 0.30588236\n",
      "  0.         0.01568628 0.         0.        ]\n",
      " [0.         0.         0.         0.         0.70980394 0.57254905\n",
      "  0.65882355 0.8156863  0.84313726 0.6784314  0.5647059  0.47058824\n",
      "  0.46666667 0.67058825 0.7411765  0.5372549  0.7019608  0.7137255\n",
      "  0.69411767 0.63529414 0.8352941  0.6        0.58431375 0.40784314\n",
      "  0.         0.         0.         0.        ]\n",
      " [0.         0.         0.         0.         0.7764706  0.57254905\n",
      "  0.6862745  0.87058824 0.8666667  0.7058824  0.6313726  0.62352943\n",
      "  0.57254905 0.6901961  0.75686276 0.5647059  0.80784315 0.7254902\n",
      "  0.69411767 0.7019608  0.8666667  0.62352943 0.5254902  0.57254905\n",
      "  0.         0.         0.         0.        ]\n",
      " [0.         0.         0.         0.01960784 0.6784314  0.5686275\n",
      "  0.7764706  0.7058824  0.7137255  0.74509805 0.62352943 0.5764706\n",
      "  0.50980395 0.65882355 0.7137255  0.4862745  0.8117647  0.7921569\n",
      "  0.7529412  0.6666667  0.6392157  0.6901961  0.5254902  0.6156863\n",
      "  0.         0.         0.         0.        ]\n",
      " [0.         0.         0.         0.18431373 0.6901961  0.6039216\n",
      "  0.7921569  0.48235294 0.67058825 0.78431374 0.5529412  0.5568628\n",
      "  0.5294118  0.6431373  0.7529412  0.44313726 0.4862745  0.6039216\n",
      "  0.78431374 0.5764706  0.33333334 0.8745098  0.56078434 0.65882355\n",
      "  0.00784314 0.         0.         0.        ]\n",
      " [0.         0.         0.         0.2784314  0.68235296 0.6627451\n",
      "  0.69411767 0.49019608 0.73333335 0.7921569  0.5686275  0.6156863\n",
      "  0.56078434 0.61960787 0.78431374 0.56078434 0.50980395 0.5411765\n",
      "  0.75686276 0.4627451  0.23137255 0.90588236 0.6117647  0.58431375\n",
      "  0.15686275 0.         0.         0.        ]\n",
      " [0.         0.         0.         0.34509805 0.6509804  0.6901961\n",
      "  0.62352943 0.45490196 0.7254902  0.7921569  0.5568628  0.6156863\n",
      "  0.5882353  0.654902   0.78431374 0.5921569  0.5176471  0.5411765\n",
      "  0.7647059  0.2509804  0.23137255 0.9529412  0.6431373  0.61960787\n",
      "  0.25490198 0.         0.         0.        ]\n",
      " [0.         0.         0.         0.4627451  0.63529414 0.69411767\n",
      "  0.654902   0.2627451  0.6431373  0.83137256 0.5568628  0.6039216\n",
      "  0.6313726  0.6745098  0.77254903 0.6156863  0.5058824  0.5411765\n",
      "  0.827451   0.31764707 0.         0.9254902  0.6784314  0.67058825\n",
      "  0.37254903 0.         0.         0.        ]\n",
      " [0.         0.         0.         0.6        0.62352943 0.68235296\n",
      "  0.76862746 0.09019608 0.7411765  0.81960785 0.53333336 0.6117647\n",
      "  0.6392157  0.654902   0.76862746 0.5921569  0.49019608 0.53333336\n",
      "  0.78431374 0.41568628 0.         0.85490197 0.70980394 0.65882355\n",
      "  0.4745098  0.         0.         0.        ]\n",
      " [0.         0.         0.         0.6784314  0.6039216  0.6862745\n",
      "  0.68235296 0.         0.9019608  0.76862746 0.5254902  0.6039216\n",
      "  0.6431373  0.68235296 0.78431374 0.58431375 0.47843137 0.52156866\n",
      "  0.7254902  0.5568628  0.         0.827451   0.7411765  0.6156863\n",
      "  0.5254902  0.         0.         0.        ]\n",
      " [0.         0.         0.         0.7372549  0.5882353  0.7607843\n",
      "  0.4392157  0.         0.93333334 0.73333335 0.5294118  0.5921569\n",
      "  0.61960787 0.7647059  0.78039217 0.5921569  0.4745098  0.52156866\n",
      "  0.6627451  0.72156864 0.         0.77254903 0.73333335 0.5882353\n",
      "  0.6117647  0.         0.         0.        ]\n",
      " [0.         0.         0.         0.7882353  0.58431375 0.75686276\n",
      "  0.3529412  0.2509804  0.9372549  0.72156864 0.5254902  0.6509804\n",
      "  0.5647059  0.7647059  0.78039217 0.5921569  0.4745098  0.49019608\n",
      "  0.60784316 0.8156863  0.         0.6117647  0.7411765  0.5764706\n",
      "  0.6784314  0.         0.         0.        ]\n",
      " [0.         0.         0.         0.79607844 0.5921569  0.7411765\n",
      "  0.26666668 0.41960785 0.9254902  0.72156864 0.5411765  0.65882355\n",
      "  0.5921569  0.70980394 0.7921569  0.6431373  0.5058824  0.52156866\n",
      "  0.6117647  0.8352941  0.01176471 0.34509805 0.7764706  0.56078434\n",
      "  0.7019608  0.01568628 0.         0.        ]\n",
      " [0.         0.         0.01568628 0.6627451  0.61960787 0.7372549\n",
      "  0.01960784 0.49019608 0.80784315 0.7372549  0.57254905 0.654902\n",
      "  0.6        0.7529412  0.8509804  0.6509804  0.5137255  0.5529412\n",
      "  0.6156863  0.8235294  0.24313726 0.16862746 0.7921569  0.5686275\n",
      "  0.7058824  0.0627451  0.         0.        ]\n",
      " [0.         0.         0.10980392 0.6666667  0.62352943 0.78039217\n",
      "  0.03137255 0.6392157  0.79607844 0.7411765  0.57254905 0.68235296\n",
      "  0.58431375 0.78431374 0.8352941  0.627451   0.5568628  0.5686275\n",
      "  0.6156863  0.78431374 0.40784314 0.05882353 0.9647059  0.5647059\n",
      "  0.68235296 0.10588235 0.         0.        ]\n",
      " [0.         0.         0.15686275 0.6745098  0.6        0.77254903\n",
      "  0.00784314 0.7294118  0.78039217 0.7294118  0.5764706  0.7019608\n",
      "  0.58431375 0.74509805 0.81960785 0.6156863  0.5568628  0.57254905\n",
      "  0.63529414 0.7647059  0.47843137 0.01568628 0.98039216 0.5647059\n",
      "  0.6862745  0.20784314 0.         0.        ]\n",
      " [0.         0.         0.18039216 0.7058824  0.6        0.6666667\n",
      "  0.         0.8509804  0.76862746 0.7294118  0.5764706  0.68235296\n",
      "  0.60784316 0.7607843  0.83137256 0.60784316 0.5529412  0.57254905\n",
      "  0.627451   0.7058824  0.58431375 0.         0.99607843 0.58431375\n",
      "  0.65882355 0.3764706  0.         0.        ]\n",
      " [0.         0.         0.08627451 0.6784314  0.60784316 0.56078434\n",
      "  0.02352941 0.9647059  0.7607843  0.6745098  0.5764706  0.6627451\n",
      "  0.54509807 0.76862746 0.8039216  0.6039216  0.5254902  0.57254905\n",
      "  0.6039216  0.6745098  0.65882355 0.         0.8784314  0.60784316\n",
      "  0.5529412  0.50980395 0.         0.        ]\n",
      " [0.         0.         0.68235296 0.79607844 0.7137255  0.6117647\n",
      "  0.         0.91764706 0.8156863  0.68235296 0.7254902  0.8352941\n",
      "  0.7294118  0.81960785 0.88235295 0.75686276 0.6784314  0.6901961\n",
      "  0.63529414 0.89411765 0.47058824 0.         0.84313726 0.7372549\n",
      "  0.7411765  0.73333335 0.         0.        ]\n",
      " [0.         0.         0.10588235 0.3529412  0.68235296 0.46666667\n",
      "  0.         0.         0.19215687 0.22745098 0.26666668 0.28235295\n",
      "  0.29411766 0.3647059  0.33333334 0.3137255  0.28235295 0.2784314\n",
      "  0.30980393 0.36862746 0.         0.         0.5882353  0.6039216\n",
      "  0.3019608  0.05098039 0.         0.        ]]\n"
     ]
    }
   ],
   "source": [
    "print(x_test[random_index, :])"
   ]
  },
  {
   "cell_type": "code",
   "execution_count": 183,
   "id": "9851b3e4",
   "metadata": {},
   "outputs": [
    {
     "name": "stdout",
     "output_type": "stream",
     "text": [
      "1/1 [==============================] - 0s 100ms/step\n",
      "Predicted class: 8\n"
     ]
    }
   ],
   "source": [
    "random_index = np.random.randint(0, len(x_test))\n",
    "result = model.predict(x_test[random_index, :].reshape(1, 28, 28))\n",
    "\n",
    "predicted_class = np.argmax(result)\n",
    "\n",
    "class_names = ['T-shirt/top', 'Trouser', 'Pullover', 'Dress', 'Coat',\n",
    "               'Sandal', 'Shirt', 'Sneaker', 'Bag', 'Ankle boot']\n",
    "\n",
    "predicted_class_name = class_names[predicted_class]\n",
    "print(f\"Predicted class: {predicted_class}\")"
   ]
  },
  {
   "cell_type": "code",
   "execution_count": 184,
   "id": "b633877a",
   "metadata": {},
   "outputs": [
    {
     "data": {
      "image/png": "[encoded data removed]",
      "text/plain": [
       "<Figure size 640x480 with 1 Axes>"
      ]
     },
     "metadata": {},
     "output_type": "display_data"
    }
   ],
   "source": [
    "\n",
    "plt.imshow(x_test[random_index, :].reshape(28, 28), cmap='gray')\n",
    "plt.title(f\"Label: {predicted_class_name}\")\n",
    "plt.show()"
   ]
  },
  {
   "cell_type": "markdown",
   "id": "53d80e1d",
   "metadata": {},
   "source": [
    "# SUMMARY:\n"
   ]
  },
  {
   "cell_type": "code",
   "execution_count": 203,
   "id": "0b242bb4",
   "metadata": {},
   "outputs": [
    {
     "name": "stdout",
     "output_type": "stream",
     "text": [
      "313/313 [==============================] - 1s 2ms/step - loss: 0.7252 - accuracy: 0.8864\n",
      "313/313 [==============================] - 1s 2ms/step - loss: 0.4924 - accuracy: 0.8437\n",
      "313/313 [==============================] - 1s 2ms/step - loss: 0.5188 - accuracy: 0.8466\n",
      "313/313 [==============================] - 1s 2ms/step - loss: 0.3860 - accuracy: 0.8640\n",
      "313/313 [==============================] - 1s 2ms/step - loss: 0.6866 - accuracy: 0.8814\n",
      "313/313 [==============================] - 1s 2ms/step - loss: 0.3774 - accuracy: 0.8701\n",
      "313/313 [==============================] - 1s 2ms/step - loss: 0.5357 - accuracy: 0.8436\n",
      "313/313 [==============================] - 1s 2ms/step - loss: 0.3458 - accuracy: 0.8753\n",
      "313/313 [==============================] - 1s 2ms/step - loss: 0.3449 - accuracy: 0.8784\n",
      "313/313 [==============================] - 1s 2ms/step - loss: 0.4093 - accuracy: 0.8560\n",
      "313/313 [==============================] - 1s 2ms/step - loss: 0.5438 - accuracy: 0.8495\n",
      "313/313 [==============================] - 1s 2ms/step - loss: 0.4409 - accuracy: 0.8854\n",
      "313/313 [==============================] - 1s 2ms/step - loss: 0.3696 - accuracy: 0.8712\n",
      "313/313 [==============================] - 1s 2ms/step - loss: 0.3696 - accuracy: 0.8712\n",
      "313/313 [==============================] - 1s 2ms/step - loss: 0.3935 - accuracy: 0.8621\n",
      "313/313 [==============================] - 1s 2ms/step - loss: 0.3690 - accuracy: 0.8741\n",
      "[0.8863999843597412, 0.8436999917030334, 0.8465999960899353, 0.8640000224113464, 0.8813999891281128, 0.8701000213623047, 0.8435999751091003, 0.8752999901771545, 0.8784000277519226, 0.8560000061988831, 0.8495000004768372, 0.8853999972343445, 0.8712000250816345, 0.8712000250816345, 0.8621000051498413, 0.8741000294685364]\n"
     ]
    }
   ],
   "source": [
    "fashion_mnist = tf.keras.datasets.fashion_mnist\n",
    "(_, _), (x_test, y_test) = fashion_mnist.load_data()\n",
    "\n",
    "# Преобразуем целочисленные пиксели к типа float32\n",
    "x_train, x_test = np.array(x_train, np.float32), np.array(x_test, np.float32)\n",
    "\n",
    "# Преобразуем матрицы размером 28x28 пикселей в вектор из 784 элементов\n",
    "x_train, x_test = x_train.reshape([-1, num_features]), x_test.reshape([-1, num_features])\n",
    "\n",
    "# Нормализуем значения пикселей\n",
    "x_train, x_test = x_train / 255., x_test / 255.\n",
    "\n",
    "# Convert labels to one-hot encoded format\n",
    "#y_train = tf.keras.utils.to_categorical(y_train, num_classes)\n",
    "y_test = tf.keras.utils.to_categorical(y_test, num_classes)\n",
    "\n",
    "\n",
    "saved_model_list = ['Adam_2_b32_ep50', 'Adam_b128_ep200_reg', 'Adam_b128_ep50_reg', 'Adam_b32_ep100_drop', 'Adam_b32_ep50',\\\n",
    "                   'Adam_b32_ep50_drop', 'Adam_b32_ep50_reg', 'adam_l128_64_ep10', 'Adamax_b128_ep50_drop',\\\n",
    "                   'Adamax_b128_ep50_drop_3layers', 'Adamax_b128_ep50_drop_reg', 'Adamax_b32_ep50', \\\n",
    "                    'Adamax_b32_ep50_drop_3layers', 'Adamax_b32_ep50_drop_3layers', 'sgd_b128_ep50', 'sgd_b32_ep50'  ]\n",
    "accuracy_results = []\n",
    "for item in saved_model_list:\n",
    "    model = keras.models.load_model(item)\n",
    "    result = model.evaluate(x_test, y_test)\n",
    "    accuracy_results.append(result[1])\n",
    "print(accuracy_results)\n",
    "    \n"
   ]
  },
  {
   "cell_type": "code",
   "execution_count": 214,
   "id": "626c30cd",
   "metadata": {},
   "outputs": [
    {
     "name": "stderr",
     "output_type": "stream",
     "text": [
      "C:\\Users\\Serhii\\AppData\\Local\\Temp\\ipykernel_1244\\50003022.py:18: UserWarning: FixedFormatter should only be used together with FixedLocator\n",
      "  ax.set_xticklabels(x, rotation=90)\n"
     ]
    },
    {
     "data": {
      "image/png": "[encoded data removed]",
      "text/plain": [
       "<Figure size 800x800 with 1 Axes>"
      ]
     },
     "metadata": {},
     "output_type": "display_data"
    }
   ],
   "source": [
    "# Create the bar plot Accuracy distribution\n",
    "# Data for the plot\n",
    "fig, ax = plt.subplots(figsize=(8, 8))\n",
    "\n",
    "x = saved_model_list\n",
    "y = accuracy_results\n",
    "\n",
    "ax.bar(x, y)\n",
    "\n",
    "# Add the value of each bar to the plot\n",
    "for i, v in enumerate(y):\n",
    "    ax.text(i, v-0.5, str(v), ha='center', rotation=90, fontsize=8)\n",
    "\n",
    "# Add a title and axis labels\n",
    "ax.set_title(\"Accuracy distribution\")\n",
    "ax.set_xlabel(\"Model\")\n",
    "ax.set_ylabel(\"Accuracy\")\n",
    "ax.set_xticklabels(x, rotation=90)\n",
    "\n",
    "# Show the plot\n",
    "plt.show() "
   ]
  },
  {
   "cell_type": "markdown",
   "id": "cc52a2b2",
   "metadata": {},
   "source": [
    "### RESULT: The best option is Adam_2_b32_ep50 wit accuracy: 0.8863999843597412 "
   ]
  }
 ],
 "metadata": {
  "kernelspec": {
   "display_name": "Python 3 (ipykernel)",
   "language": "python",
   "name": "python3"
  },
  "language_info": {
   "codemirror_mode": {
    "name": "ipython",
    "version": 3
   },
   "file_extension": ".py",
   "mimetype": "text/x-python",
   "name": "python",
   "nbconvert_exporter": "python",
   "pygments_lexer": "ipython3",
   "version": "3.10.4"
  }
 },
 "nbformat": 4,
 "nbformat_minor": 5
}
